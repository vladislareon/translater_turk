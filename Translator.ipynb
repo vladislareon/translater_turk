{
  "cells": [
    {
      "cell_type": "code",
      "source": [
        "!pip install transformers >> None\n",
        "from transformers import AutoTokenizer, AutoModelForSequenceClassification\n",
        "\n",
        "tokenizer = AutoTokenizer.from_pretrained(\"RussianNLP/ruRoBERTa-large-rucola\")\n",
        "\n",
        "model = AutoModelForSequenceClassification.from_pretrained(\"RussianNLP/ruRoBERTa-large-rucola\")"
      ],
      "metadata": {
        "id": "cXB83akL_z3Y",
        "colab": {
          "base_uri": "https://localhost:8080/",
          "height": 145,
          "referenced_widgets": [
            "88870a8a86e948ccbd9d9e8d644c8694",
            "131c97045e754f0b9d7c736cf37538ba",
            "af779583bd724208b2fe6c31e480c2d6",
            "e9ee73921d0e4b04a70b4828bf9dabc5",
            "367b8c4ba7b4434099df48a2fd5c85d1",
            "c5c7e073f45d46059f89b25de146744a",
            "2ad20acced3849938715350c2fc73c07",
            "e424f80fbdc94476a462141628acaede",
            "26936972dc874ccaad363fb95e18dfe1",
            "6c7d73c85d5e4fafb807c9439e157282",
            "712280a675294d2e998b5e3927a203c6",
            "ee54360f3ffd4fe6918869650e087735",
            "1e782cf94c5841bb9018caf2b8a39086",
            "da939339603d4f76927149b9ca49522c",
            "fd2856c9be8d43a294d81249e2345963",
            "4235c740e76440b39d3cf0f7f8cfb8f0",
            "a0501a8e910c4362845d3507b00af99a",
            "97952fbb746c4912ae3c1b298eb20ea8",
            "c45f4b36b28541588d9a40d3cf0673c9",
            "7cd09ff23c7f48b1994a4fd6375af213",
            "56ad7aadb864481b99f641158bfefd81",
            "1e1e270304fc4656bbaf8190e86f77d5",
            "83190fee9dfd4908965820f20e0579bc",
            "ef5e0c8b24d14bd49f5fe92630c4a940",
            "40a61fb55ea04abb84cc142494d8d4a6",
            "e93acfb40efb4167a522d83da48b1098",
            "49ee600a64ec4724a6bb9b0d329e3eba",
            "0bac9a94bed84867839232e8feb829ac",
            "18a403818034472fbd10f390140b4e55",
            "15d5ff4640334b7398ba6ae545c119eb",
            "3cb470358d284fb6a07a6829be17ee65",
            "91b69ed728b44b7fb71d1e14932a9f3b",
            "b4a272292a7847e385ccc6acd38e8268",
            "3334de313e2444b393ac1db8bcf7f720",
            "4aaf2a4e013a45a5bde8280b050061fd",
            "e338a076a2cf42eabf26b1b5634c752a",
            "28dcde9cb7304a63ab2db0a690be7c7f",
            "59515c11eb5741d0be45ec2292c86f42",
            "16c4daa5618844a69f87f2dfe90fb255",
            "c604e29f3fba4a529caa53cf8f46c8f3",
            "8504917bab594545ae61d04b487a6d97",
            "4529518b5e2747d88eab218a2e922d42",
            "75ac33e2a30f44399ca1e7f9165310f4",
            "364b20953f0846b49a41dcf2e73ab949"
          ]
        },
        "outputId": "74008115-a80a-4ffc-ab4d-03a15ed6f751"
      },
      "id": "cXB83akL_z3Y",
      "execution_count": null,
      "outputs": [
        {
          "output_type": "display_data",
          "data": {
            "text/plain": [
              "Downloading:   0%|          | 0.00/792 [00:00<?, ?B/s]"
            ],
            "application/vnd.jupyter.widget-view+json": {
              "version_major": 2,
              "version_minor": 0,
              "model_id": "88870a8a86e948ccbd9d9e8d644c8694"
            }
          },
          "metadata": {}
        },
        {
          "output_type": "display_data",
          "data": {
            "text/plain": [
              "Downloading:   0%|          | 0.00/1.81M [00:00<?, ?B/s]"
            ],
            "application/vnd.jupyter.widget-view+json": {
              "version_major": 2,
              "version_minor": 0,
              "model_id": "ee54360f3ffd4fe6918869650e087735"
            }
          },
          "metadata": {}
        },
        {
          "output_type": "display_data",
          "data": {
            "text/plain": [
              "Downloading:   0%|          | 0.00/1.37M [00:00<?, ?B/s]"
            ],
            "application/vnd.jupyter.widget-view+json": {
              "version_major": 2,
              "version_minor": 0,
              "model_id": "83190fee9dfd4908965820f20e0579bc"
            }
          },
          "metadata": {}
        },
        {
          "output_type": "display_data",
          "data": {
            "text/plain": [
              "Downloading:   0%|          | 0.00/1.42G [00:00<?, ?B/s]"
            ],
            "application/vnd.jupyter.widget-view+json": {
              "version_major": 2,
              "version_minor": 0,
              "model_id": "3334de313e2444b393ac1db8bcf7f720"
            }
          },
          "metadata": {}
        }
      ]
    },
    {
      "cell_type": "code",
      "source": [
        "# 1--acceptable\n",
        "# 0--not acceptable"
      ],
      "metadata": {
        "id": "W0R0UwQaXYdd"
      },
      "id": "W0R0UwQaXYdd",
      "execution_count": null,
      "outputs": []
    },
    {
      "cell_type": "code",
      "source": [
        "from transformers import AutoModelForSequenceClassification, BertTokenizer, AutoTokenizer, DataCollatorWithPadding, \\\n",
        "    TrainingArguments, Trainer\n",
        "data_collator = DataCollatorWithPadding(tokenizer, pad_to_multiple_of=8)\n",
        "training_args = TrainingArguments(\n",
        "            output_dir=f\"temp\",\n",
        "            evaluation_strategy=\"epoch\",\n",
        "            per_device_train_batch_size=32,\n",
        "            per_device_eval_batch_size=32,\n",
        "            learning_rate=0,\n",
        "            weight_decay=0,\n",
        "            num_train_epochs=1,\n",
        "            warmup_ratio=0.1,\n",
        "            optim=\"adamw_torch\",\n",
        "            save_strategy=\"epoch\",\n",
        "            save_total_limit=1\n",
        "        )\n",
        "\n",
        "trainer = Trainer(\n",
        "            model=model,\n",
        "            args=training_args,\n",
        "            tokenizer=tokenizer,\n",
        "            data_collator=data_collator,\n",
        "        )"
      ],
      "metadata": {
        "id": "OkKgDWCIXxzE"
      },
      "id": "OkKgDWCIXxzE",
      "execution_count": null,
      "outputs": []
    },
    {
      "cell_type": "code",
      "source": [
        "import pyarrow as pa\n",
        "import torch \n",
        "\n",
        "from datasets import Dataset\n",
        "def preprocess_function(examples):\n",
        "    inputs = [example for example in examples[\"sentence\"]]\n",
        "    model_inputs = tokenizer(inputs, truncation=True, padding=True)\n",
        "    return model_inputs\n",
        "def get_prob(arr):\n",
        "  dataset = []\n",
        "  for i in range(len(arr)):\n",
        "    dataset.append({'sentence' : arr[i]})\n",
        "  dataset = Dataset(pa.Table.from_pylist(dataset))\n",
        "  dataset = dataset.map(preprocess_function, batched=True)\n",
        "  outputs = trainer.predict(dataset)\n",
        "  m = torch.nn.Softmax(dim=1)\n",
        "  return(m(torch.from_numpy(outputs.predictions))[:, 1])\n"
      ],
      "metadata": {
        "id": "YmFdgeY3hBNH"
      },
      "id": "YmFdgeY3hBNH",
      "execution_count": null,
      "outputs": []
    },
    {
      "cell_type": "code",
      "source": [
        "beam_1 = get_prob(beams['beam_size = 1'].values)\n",
        "beam_2 = get_prob(beams['beam_size = 2'].values)\n",
        "beam_3 = get_prob(beams['beam_size = 3'].values)\n",
        "beam_4 = get_prob(beams['beam_size = 4'].values)"
      ],
      "metadata": {
        "colab": {
          "base_uri": "https://localhost:8080/",
          "height": 447,
          "referenced_widgets": [
            "f944c5d5c729467ca2047c282166fd3f",
            "27aa980e3f71496ea580f477d5d5e320",
            "c10397799aa148199ccf9b2199e6f791",
            "fdf756e4d8554349b550404365c60923",
            "3bbd564f038247a6b403ba84b733e538",
            "78d35b1b53cf488dbb11b061e0f7a6e9",
            "dc79a92fdc7b4270b3c844e467991a34",
            "d78f732a05e3496caad9695306ba4de6",
            "2122947aab264c67b7ff0c2ba8e52403",
            "c9b18da1c14d4d7ea8b40b9eb9d8d630",
            "5ebaa8226d8b47b9b99d432049583b52",
            "b4ae9613bdb243f29067139ab4abd553",
            "d886a9dc1db44638a1ee33764c09d9bd",
            "550ff8c852324fa0a3fc6bfe79ae96b2",
            "1298d4911cdf4c7e887beeb906434144",
            "57e6e659c043490d9cdb39dfe5e838a3",
            "7ffc7ee268144f66a641085c2404b2b2",
            "f0889832e48c43cca3ee02d378bb6fda",
            "bb3bd1208cc04565af9dfe8860e1f810",
            "5c7912a19dd740d49252b64b1974c9d1",
            "f9eaceb1b0c04cd2bade5c9ce297d425",
            "69c4bf86137c416cbd530fc8746f4f01",
            "9ef81cb7ec8d4508b23d243490a6963b",
            "d73fdebfdd6f4f5cafed19642b067888",
            "3554a5c49f6542da82fe1b0f19716a8a",
            "9b4277e9d77b49c28aca0165616fbfcf",
            "53b7b19aca024cedb070a37332178738",
            "9413366fe7e643c4b81a7a33cae9ec9f",
            "4278db1dab6349b49762614fb73cbdb7",
            "dc215e93b15f4092990c8619be81e607",
            "f21d9d8b96834d68985209b7460b8be3",
            "6d60ab6bb8c54c939b13eb388ffc5d03",
            "50f7762d363a417698840a461e339ac9",
            "10e844a743f8447590050d6b4ccf72e9",
            "a9db1a008fd042ee9edad25e850a813f",
            "20067e2de08a44079f9857be578a2a2b",
            "131d71ef80c840d6b0dfd0333173e723",
            "857b9e23f3174380a94b3ce5a9589fab",
            "c56bd21fcf194913acab5b8afdfbf5cb",
            "cfd10581447548d1b4fd75848b9a6b5f",
            "526a08dee5c24fc0838a141a6d6ce774",
            "fed89fe62d6b4bc6949c68a396b9e8c6",
            "0d4809f72d434e6bb53e72514d8313da",
            "3717a3641bc24ea98ceab89a23258fe6"
          ]
        },
        "id": "Y0Gzxn8zfPcD",
        "outputId": "491789c5-8985-4581-d85d-1fa0461d1779"
      },
      "id": "Y0Gzxn8zfPcD",
      "execution_count": null,
      "outputs": [
        {
          "output_type": "display_data",
          "data": {
            "text/plain": [
              "  0%|          | 0/20 [00:00<?, ?ba/s]"
            ],
            "application/vnd.jupyter.widget-view+json": {
              "version_major": 2,
              "version_minor": 0,
              "model_id": "f944c5d5c729467ca2047c282166fd3f"
            }
          },
          "metadata": {}
        },
        {
          "output_type": "stream",
          "name": "stderr",
          "text": [
            "The following columns in the test set don't have a corresponding argument in `RobertaForSequenceClassification.forward` and have been ignored: sentence. If sentence are not expected by `RobertaForSequenceClassification.forward`,  you can safely ignore this message.\n",
            "***** Running Prediction *****\n",
            "  Num examples = 20000\n",
            "  Batch size = 32\n"
          ]
        },
        {
          "output_type": "display_data",
          "data": {
            "text/plain": [
              "<IPython.core.display.HTML object>"
            ],
            "text/html": []
          },
          "metadata": {}
        },
        {
          "output_type": "display_data",
          "data": {
            "text/plain": [
              "  0%|          | 0/20 [00:00<?, ?ba/s]"
            ],
            "application/vnd.jupyter.widget-view+json": {
              "version_major": 2,
              "version_minor": 0,
              "model_id": "b4ae9613bdb243f29067139ab4abd553"
            }
          },
          "metadata": {}
        },
        {
          "output_type": "stream",
          "name": "stderr",
          "text": [
            "The following columns in the test set don't have a corresponding argument in `RobertaForSequenceClassification.forward` and have been ignored: sentence. If sentence are not expected by `RobertaForSequenceClassification.forward`,  you can safely ignore this message.\n",
            "***** Running Prediction *****\n",
            "  Num examples = 20000\n",
            "  Batch size = 32\n"
          ]
        },
        {
          "output_type": "display_data",
          "data": {
            "text/plain": [
              "<IPython.core.display.HTML object>"
            ],
            "text/html": []
          },
          "metadata": {}
        },
        {
          "output_type": "display_data",
          "data": {
            "text/plain": [
              "  0%|          | 0/20 [00:00<?, ?ba/s]"
            ],
            "application/vnd.jupyter.widget-view+json": {
              "version_major": 2,
              "version_minor": 0,
              "model_id": "9ef81cb7ec8d4508b23d243490a6963b"
            }
          },
          "metadata": {}
        },
        {
          "output_type": "stream",
          "name": "stderr",
          "text": [
            "The following columns in the test set don't have a corresponding argument in `RobertaForSequenceClassification.forward` and have been ignored: sentence. If sentence are not expected by `RobertaForSequenceClassification.forward`,  you can safely ignore this message.\n",
            "***** Running Prediction *****\n",
            "  Num examples = 20000\n",
            "  Batch size = 32\n"
          ]
        },
        {
          "output_type": "display_data",
          "data": {
            "text/plain": [
              "<IPython.core.display.HTML object>"
            ],
            "text/html": []
          },
          "metadata": {}
        },
        {
          "output_type": "display_data",
          "data": {
            "text/plain": [
              "  0%|          | 0/20 [00:00<?, ?ba/s]"
            ],
            "application/vnd.jupyter.widget-view+json": {
              "version_major": 2,
              "version_minor": 0,
              "model_id": "10e844a743f8447590050d6b4ccf72e9"
            }
          },
          "metadata": {}
        },
        {
          "output_type": "stream",
          "name": "stderr",
          "text": [
            "The following columns in the test set don't have a corresponding argument in `RobertaForSequenceClassification.forward` and have been ignored: sentence. If sentence are not expected by `RobertaForSequenceClassification.forward`,  you can safely ignore this message.\n",
            "***** Running Prediction *****\n",
            "  Num examples = 20000\n",
            "  Batch size = 32\n"
          ]
        },
        {
          "output_type": "display_data",
          "data": {
            "text/plain": [
              "<IPython.core.display.HTML object>"
            ],
            "text/html": []
          },
          "metadata": {}
        }
      ]
    },
    {
      "cell_type": "code",
      "source": [
        "print(beam_1.mean())\n",
        "print(beam_2.mean())\n",
        "print(beam_3.mean())\n",
        "print(beam_4.mean())"
      ],
      "metadata": {
        "colab": {
          "base_uri": "https://localhost:8080/"
        },
        "id": "HrEa8Y08nQr3",
        "outputId": "ade7927f-ce2e-421e-b6a3-b6f0e228d89d"
      },
      "id": "HrEa8Y08nQr3",
      "execution_count": null,
      "outputs": [
        {
          "output_type": "stream",
          "name": "stdout",
          "text": [
            "tensor(0.9490)\n",
            "tensor(0.9563)\n",
            "tensor(0.9579)\n",
            "tensor(0.9583)\n"
          ]
        }
      ]
    },
    {
      "cell_type": "code",
      "source": [
        "best_translate = []\n",
        "for i in tqdm(range(beams.shape[0])):\n",
        "  probs = [beam_4[i], beam_3[i], beam_2[i], beam_1[i]]\n",
        "  best_translate.append(beams.iloc[i][f'beam_size = {[4, 3, 2, 1][np.argmax(probs)]}'])"
      ],
      "metadata": {
        "colab": {
          "base_uri": "https://localhost:8080/"
        },
        "id": "MkN7x5EFlAxi",
        "outputId": "39c0f881-6299-42a1-d0c0-89b57696783c"
      },
      "id": "MkN7x5EFlAxi",
      "execution_count": null,
      "outputs": [
        {
          "output_type": "stream",
          "name": "stderr",
          "text": [
            "100%|██████████| 20000/20000 [00:05<00:00, 3364.62it/s]\n"
          ]
        }
      ]
    },
    {
      "cell_type": "code",
      "source": [
        "beams['best_translate'] = best_translate"
      ],
      "metadata": {
        "id": "7Yd5nah4mzeR"
      },
      "id": "7Yd5nah4mzeR",
      "execution_count": null,
      "outputs": []
    },
    {
      "cell_type": "code",
      "source": [
        "beams['beam_1'] = beam_1\n",
        "beams['beam_2'] = beam_2\n",
        "beams['beam_3'] = beam_3\n",
        "beams['beam_4'] = beam_4"
      ],
      "metadata": {
        "id": "1poHTbk1uk9O"
      },
      "id": "1poHTbk1uk9O",
      "execution_count": null,
      "outputs": []
    },
    {
      "cell_type": "code",
      "source": [
        "beams.to_csv('beams_probs1.csv', index=False)"
      ],
      "metadata": {
        "id": "dcb5g4RbuxT-"
      },
      "id": "dcb5g4RbuxT-",
      "execution_count": null,
      "outputs": []
    },
    {
      "cell_type": "code",
      "source": [
        "#!pip install evaluate >> None \n",
        "#!pip install git+https://github.com/google-research/bleurt.git >> None \n",
        "\n",
        "import evaluate\n",
        "bleu = evaluate.load(\"bleu\")\n",
        "bleu_beams1 = bleu.compute(predictions=beams_data['best_translate'], references=beams_data['ru'])"
      ],
      "metadata": {
        "id": "HJmo89zlAqnS"
      },
      "id": "HJmo89zlAqnS",
      "execution_count": null,
      "outputs": []
    },
    {
      "cell_type": "code",
      "source": [
        "bleu_beams1"
      ],
      "metadata": {
        "colab": {
          "base_uri": "https://localhost:8080/"
        },
        "id": "9GiGAFZfGUpk",
        "outputId": "f3287d4a-bdad-43d9-c482-77f551d93484"
      },
      "id": "9GiGAFZfGUpk",
      "execution_count": null,
      "outputs": [
        {
          "output_type": "execute_result",
          "data": {
            "text/plain": [
              "{'bleu': 0.38578173983800457,\n",
              " 'precisions': [0.6842474245063022,\n",
              "  0.44370952661287527,\n",
              "  0.32251748544624537,\n",
              "  0.24231008182310876],\n",
              " 'brevity_penalty': 0.9829524259723342,\n",
              " 'length_ratio': 0.9830960983183157,\n",
              " 'translation_length': 135508,\n",
              " 'reference_length': 137838}"
            ]
          },
          "metadata": {},
          "execution_count": 11
        }
      ]
    },
    {
      "cell_type": "markdown",
      "source": [
        "#### Учтем, что примеры на английском языке могут содержать несколько вариантов перевода на русский:"
      ],
      "metadata": {
        "id": "_3AoEdBxk8oH"
      },
      "id": "_3AoEdBxk8oH"
    },
    {
      "cell_type": "code",
      "source": [
        "from tqdm import tqdm\n",
        "def get_metric(df):\n",
        "  arr = []\n",
        "  for i in tqdm(range(df.shape[0])):\n",
        "    bl = bleu.compute(predictions=[df['best_translate'].iloc[i]], references=[df['ru'].iloc[i]])\n",
        "    arr.append(bl['bleu'])\n",
        "  return arr"
      ],
      "metadata": {
        "id": "m34vBLfBNfZM"
      },
      "id": "m34vBLfBNfZM",
      "execution_count": null,
      "outputs": []
    },
    {
      "cell_type": "code",
      "source": [
        "bleu_probs = get_metric(beams_data)"
      ],
      "metadata": {
        "colab": {
          "base_uri": "https://localhost:8080/"
        },
        "id": "jXuT5pYlNpM2",
        "outputId": "b0d5dc3e-9778-419f-d407-d161cf753228"
      },
      "id": "jXuT5pYlNpM2",
      "execution_count": null,
      "outputs": [
        {
          "output_type": "stream",
          "name": "stderr",
          "text": [
            "100%|██████████| 20000/20000 [01:36<00:00, 207.12it/s]\n"
          ]
        }
      ]
    },
    {
      "cell_type": "code",
      "source": [
        "bleu_probs_df = pd.DataFrame()\n",
        "bleu_probs_df['val'] = bleu_probs\n",
        "bleu_probs_df['en'] = beams_data['en']\n",
        "bleu_probs_df = bleu_probs_df.sort_values('val', ascending=False).drop_duplicates('en').sort_index()\n",
        "bleu_probs_df['val'].mean()"
      ],
      "metadata": {
        "colab": {
          "base_uri": "https://localhost:8080/"
        },
        "id": "jBbPQnJmN6Lz",
        "outputId": "e79a235c-7028-4130-9eca-4d976b6175bb"
      },
      "id": "jBbPQnJmN6Lz",
      "execution_count": null,
      "outputs": [
        {
          "output_type": "execute_result",
          "data": {
            "text/plain": [
              "0.3336289798978099"
            ]
          },
          "metadata": {},
          "execution_count": 40
        }
      ]
    },
    {
      "cell_type": "markdown",
      "source": [
        "После ранжирования значение метрики оказалось немного хуже, чем значение у лучшей гипотезы. Связано это с тем, что ```ruRoBERTa-large-rucola``` преложения с меньшем количеством слов считает более грамматически правильными.\n",
        "\n",
        "Иногда примеры с более комплекными и полными переводами при больших значениях ```beam_size``` оказваются длинней и сложней, а следовательно модель ```ruRoBERTa-large-rucola``` может найти в них больше грамматических ошибок.\n",
        "\n"
      ],
      "metadata": {
        "id": "wUWwBVD6ArQf"
      },
      "id": "wUWwBVD6ArQf"
    },
    {
      "cell_type": "code",
      "execution_count": null,
      "metadata": {
        "colab": {
          "base_uri": "https://localhost:8080/",
          "height": 248,
          "referenced_widgets": [
            "0054fa9c2805438cb519cd60b9e2cb26",
            "8d7456928de448a4ad17ede836b9490f",
            "dc199a13950449acab0fff9d946a3d37",
            "6b1f9486296147ae8f09d160557cfc23",
            "434c4f8461ff4450ac9064212a4adcbc",
            "a8e0959a82584a76a0e9c9385fc939dd",
            "6ee417fc2d5d4b8383cc4b73f6033509",
            "89479e85d3d24a3a86604521d38ee98a",
            "0b62a32cab6541a6b1153ec6dd2bfcdf",
            "04e40e72198d4ab6b7b9b9939ef16901",
            "562fc38476b74028a51e713a48bbaf93"
          ]
        },
        "id": "2jCmRFN70tQj",
        "outputId": "8dd43b94-815f-4822-ed1a-b13e9c88a0cb"
      },
      "outputs": [
        {
          "output_type": "stream",
          "name": "stderr",
          "text": [
            "WARNING:datasets.builder:Using custom data configuration en-tr-lang1=en,lang2=tr\n",
            "WARNING:datasets.builder:Found cached dataset tatoeba (/root/.cache/huggingface/datasets/tatoeba/en-tr-lang1=en,lang2=tr/0.0.0/b3ea9c6bb2af47699c5fc0a155643f5a0da287c7095ea14824ee0a8afd74daf6)\n"
          ]
        },
        {
          "output_type": "display_data",
          "data": {
            "text/plain": [
              "  0%|          | 0/1 [00:00<?, ?it/s]"
            ],
            "application/vnd.jupyter.widget-view+json": {
              "version_major": 2,
              "version_minor": 0,
              "model_id": "0054fa9c2805438cb519cd60b9e2cb26"
            }
          },
          "metadata": {}
        },
        {
          "output_type": "stream",
          "name": "stdout",
          "text": [
            "Dataset contains 672230 samples\n"
          ]
        },
        {
          "output_type": "execute_result",
          "data": {
            "text/plain": [
              "                       en                          tr\n",
              "0    Let's try something.       Bir şeyler deneyelim!\n",
              "1  I have to go to sleep.  Yatmaya gitmek zorundayım.\n",
              "2  I have to go to sleep.               Uyumam lazım."
            ],
            "text/html": [
              "\n",
              "  <div id=\"df-2da6b661-ce93-4c3b-b5a8-a07a8c528efe\">\n",
              "    <div class=\"colab-df-container\">\n",
              "      <div>\n",
              "<style scoped>\n",
              "    .dataframe tbody tr th:only-of-type {\n",
              "        vertical-align: middle;\n",
              "    }\n",
              "\n",
              "    .dataframe tbody tr th {\n",
              "        vertical-align: top;\n",
              "    }\n",
              "\n",
              "    .dataframe thead th {\n",
              "        text-align: right;\n",
              "    }\n",
              "</style>\n",
              "<table border=\"1\" class=\"dataframe\">\n",
              "  <thead>\n",
              "    <tr style=\"text-align: right;\">\n",
              "      <th></th>\n",
              "      <th>en</th>\n",
              "      <th>tr</th>\n",
              "    </tr>\n",
              "  </thead>\n",
              "  <tbody>\n",
              "    <tr>\n",
              "      <th>0</th>\n",
              "      <td>Let's try something.</td>\n",
              "      <td>Bir şeyler deneyelim!</td>\n",
              "    </tr>\n",
              "    <tr>\n",
              "      <th>1</th>\n",
              "      <td>I have to go to sleep.</td>\n",
              "      <td>Yatmaya gitmek zorundayım.</td>\n",
              "    </tr>\n",
              "    <tr>\n",
              "      <th>2</th>\n",
              "      <td>I have to go to sleep.</td>\n",
              "      <td>Uyumam lazım.</td>\n",
              "    </tr>\n",
              "  </tbody>\n",
              "</table>\n",
              "</div>\n",
              "      <button class=\"colab-df-convert\" onclick=\"convertToInteractive('df-2da6b661-ce93-4c3b-b5a8-a07a8c528efe')\"\n",
              "              title=\"Convert this dataframe to an interactive table.\"\n",
              "              style=\"display:none;\">\n",
              "        \n",
              "  <svg xmlns=\"http://www.w3.org/2000/svg\" height=\"24px\"viewBox=\"0 0 24 24\"\n",
              "       width=\"24px\">\n",
              "    <path d=\"M0 0h24v24H0V0z\" fill=\"none\"/>\n",
              "    <path d=\"M18.56 5.44l.94 2.06.94-2.06 2.06-.94-2.06-.94-.94-2.06-.94 2.06-2.06.94zm-11 1L8.5 8.5l.94-2.06 2.06-.94-2.06-.94L8.5 2.5l-.94 2.06-2.06.94zm10 10l.94 2.06.94-2.06 2.06-.94-2.06-.94-.94-2.06-.94 2.06-2.06.94z\"/><path d=\"M17.41 7.96l-1.37-1.37c-.4-.4-.92-.59-1.43-.59-.52 0-1.04.2-1.43.59L10.3 9.45l-7.72 7.72c-.78.78-.78 2.05 0 2.83L4 21.41c.39.39.9.59 1.41.59.51 0 1.02-.2 1.41-.59l7.78-7.78 2.81-2.81c.8-.78.8-2.07 0-2.86zM5.41 20L4 18.59l7.72-7.72 1.47 1.35L5.41 20z\"/>\n",
              "  </svg>\n",
              "      </button>\n",
              "      \n",
              "  <style>\n",
              "    .colab-df-container {\n",
              "      display:flex;\n",
              "      flex-wrap:wrap;\n",
              "      gap: 12px;\n",
              "    }\n",
              "\n",
              "    .colab-df-convert {\n",
              "      background-color: #E8F0FE;\n",
              "      border: none;\n",
              "      border-radius: 50%;\n",
              "      cursor: pointer;\n",
              "      display: none;\n",
              "      fill: #1967D2;\n",
              "      height: 32px;\n",
              "      padding: 0 0 0 0;\n",
              "      width: 32px;\n",
              "    }\n",
              "\n",
              "    .colab-df-convert:hover {\n",
              "      background-color: #E2EBFA;\n",
              "      box-shadow: 0px 1px 2px rgba(60, 64, 67, 0.3), 0px 1px 3px 1px rgba(60, 64, 67, 0.15);\n",
              "      fill: #174EA6;\n",
              "    }\n",
              "\n",
              "    [theme=dark] .colab-df-convert {\n",
              "      background-color: #3B4455;\n",
              "      fill: #D2E3FC;\n",
              "    }\n",
              "\n",
              "    [theme=dark] .colab-df-convert:hover {\n",
              "      background-color: #434B5C;\n",
              "      box-shadow: 0px 1px 3px 1px rgba(0, 0, 0, 0.15);\n",
              "      filter: drop-shadow(0px 1px 2px rgba(0, 0, 0, 0.3));\n",
              "      fill: #FFFFFF;\n",
              "    }\n",
              "  </style>\n",
              "\n",
              "      <script>\n",
              "        const buttonEl =\n",
              "          document.querySelector('#df-2da6b661-ce93-4c3b-b5a8-a07a8c528efe button.colab-df-convert');\n",
              "        buttonEl.style.display =\n",
              "          google.colab.kernel.accessAllowed ? 'block' : 'none';\n",
              "\n",
              "        async function convertToInteractive(key) {\n",
              "          const element = document.querySelector('#df-2da6b661-ce93-4c3b-b5a8-a07a8c528efe');\n",
              "          const dataTable =\n",
              "            await google.colab.kernel.invokeFunction('convertToInteractive',\n",
              "                                                     [key], {});\n",
              "          if (!dataTable) return;\n",
              "\n",
              "          const docLinkHtml = 'Like what you see? Visit the ' +\n",
              "            '<a target=\"_blank\" href=https://colab.research.google.com/notebooks/data_table.ipynb>data table notebook</a>'\n",
              "            + ' to learn more about interactive tables.';\n",
              "          element.innerHTML = '';\n",
              "          dataTable['output_type'] = 'display_data';\n",
              "          await google.colab.output.renderOutput(dataTable, element);\n",
              "          const docLink = document.createElement('div');\n",
              "          docLink.innerHTML = docLinkHtml;\n",
              "          element.appendChild(docLink);\n",
              "        }\n",
              "      </script>\n",
              "    </div>\n",
              "  </div>\n",
              "  "
            ]
          },
          "metadata": {},
          "execution_count": 5
        }
      ],
      "source": [
        "! pip install datasets pandas >> None\n",
        "\n",
        "from datasets import load_dataset\n",
        "import pandas as pd\n",
        "\n",
        "raw_data = load_dataset(\"tatoeba\", lang1=\"en\", lang2=\"tr\")\n",
        "\n",
        "df = pd.DataFrame(raw_data['train']['translation'])\n",
        "print(f\"Dataset contains {len(df)} samples\")\n",
        "df.head(3)"
      ],
      "id": "2jCmRFN70tQj"
    },
    {
      "cell_type": "code",
      "execution_count": null,
      "metadata": {
        "colab": {
          "base_uri": "https://localhost:8080/"
        },
        "id": "qmeiX3mrRUox",
        "outputId": "f68a9f0a-5004-4f30-9d4d-3b7b138c742b"
      },
      "outputs": [
        {
          "output_type": "execute_result",
          "data": {
            "text/plain": [
              "(409898, 128094, 102475)"
            ]
          },
          "metadata": {},
          "execution_count": 6
        }
      ],
      "source": [
        " ! pip install scikit-learn >> None\n",
        " \n",
        "from sklearn.model_selection import train_test_split as tts\n",
        "\n",
        "unique_queries = sorted(df.en.unique().tolist())\n",
        " \n",
        "queries_train_val, queries_test = tts(unique_queries, test_size=0.2, random_state=41)\n",
        "queries_train, queries_val = tts(queries_train_val, test_size=0.2, random_state=42)\n",
        "\n",
        "assert set(queries_train) & set(queries_val) == set()\n",
        "assert set(queries_train) & set(queries_test) == set()\n",
        "assert set(queries_test) & set(queries_val) == set()\n",
        "\n",
        "len(queries_train), len(queries_test), len(queries_val)"
      ],
      "id": "qmeiX3mrRUox"
    },
    {
      "cell_type": "code",
      "execution_count": null,
      "metadata": {
        "id": "W8LTOoIsRZeg"
      },
      "outputs": [],
      "source": [
        "train_df = df.query(\"en in @queries_train\").reset_index(drop=True)\n",
        "val_df = df.query(\"en in @queries_val\").reset_index(drop=True)\n",
        "test_df = df.query(\"en in @queries_test\").reset_index(drop=True)"
      ],
      "id": "W8LTOoIsRZeg"
    },
    {
      "cell_type": "code",
      "source": [
        "!pip install transformers[sentencepiece] >> None\n",
        "import torch\n",
        "from torch import nn\n",
        "from torch.nn import functional as F\n",
        "import transformers as ts\n",
        "import datasets\n",
        "from datasets import Dataset"
      ],
      "metadata": {
        "id": "9lPAzgYgoSQL"
      },
      "id": "9lPAzgYgoSQL",
      "execution_count": null,
      "outputs": []
    },
    {
      "cell_type": "code",
      "source": [
        " from transformers import AutoTokenizer, AutoModel\n",
        " tokenizer = AutoTokenizer.from_pretrained(\"google/mt5-small\")"
      ],
      "metadata": {
        "colab": {
          "base_uri": "https://localhost:8080/"
        },
        "id": "83GotiISKanB",
        "outputId": "3150b014-6093-4122-8343-988ce7e468eb"
      },
      "id": "83GotiISKanB",
      "execution_count": null,
      "outputs": [
        {
          "output_type": "stream",
          "name": "stderr",
          "text": [
            "/usr/local/lib/python3.7/dist-packages/transformers/convert_slow_tokenizer.py:447: UserWarning: The sentencepiece tokenizer that you are converting to a fast tokenizer uses the byte fallback option which is not implemented in the fast tokenizers. In practice this means that the fast version of the tokenizer can produce unknown tokens whereas the sentencepiece version would have converted these unknown tokens into a sequence of byte tokens matching the original piece of text.\n",
            "  \"The sentencepiece tokenizer that you are converting to a fast tokenizer uses the byte fallback option\"\n"
          ]
        }
      ]
    },
    {
      "cell_type": "code",
      "source": [
        "import pyarrow as pa"
      ],
      "metadata": {
        "id": "hXhVpC74t9rq"
      },
      "id": "hXhVpC74t9rq",
      "execution_count": null,
      "outputs": []
    },
    {
      "cell_type": "code",
      "source": [
        "dataset_train = []\n",
        "for i in range(train_df.shape[0]):\n",
        "  dataset_train.append({'translation' :  {'en': train_df.iloc[i]['en'], 'tr':  train_df.iloc[i]['tr']}})\n",
        "dataset_train = Dataset(pa.Table.from_pylist(dataset_train))\n",
        "dataset_train"
      ],
      "metadata": {
        "colab": {
          "base_uri": "https://localhost:8080/"
        },
        "id": "LiwJt9I1sgla",
        "outputId": "17600b3f-efa9-490b-fda7-08f5b0eec5f5"
      },
      "id": "LiwJt9I1sgla",
      "execution_count": null,
      "outputs": [
        {
          "output_type": "execute_result",
          "data": {
            "text/plain": [
              "Dataset({\n",
              "    features: ['translation'],\n",
              "    num_rows: 430040\n",
              "})"
            ]
          },
          "metadata": {},
          "execution_count": 11
        }
      ]
    },
    {
      "cell_type": "code",
      "source": [
        "dataset_val = []\n",
        "for i in range(val_df.shape[0]):\n",
        "  dataset_val.append({'translation' :  {'en': val_df.iloc[i]['en'], 'tr':  val_df.iloc[i]['tr']}})\n",
        "dataset_val = Dataset(pa.Table.from_pylist(dataset_val))\n",
        "dataset_val"
      ],
      "metadata": {
        "colab": {
          "base_uri": "https://localhost:8080/"
        },
        "id": "ITTtBZwEvOgG",
        "outputId": "99326430-c2f9-4bf2-8127-4b2aa818bfd7"
      },
      "id": "ITTtBZwEvOgG",
      "execution_count": null,
      "outputs": [
        {
          "output_type": "execute_result",
          "data": {
            "text/plain": [
              "Dataset({\n",
              "    features: ['translation'],\n",
              "    num_rows: 107569\n",
              "})"
            ]
          },
          "metadata": {},
          "execution_count": 12
        }
      ]
    },
    {
      "cell_type": "code",
      "source": [
        "dataset_test = []\n",
        "for i in range(test_df.shape[0]):\n",
        "  dataset_test.append({'translation' :  {'en': test_df.iloc[i]['en'], 'tr':  test_df.iloc[i]['tr']}})\n",
        "dataset_test = Dataset(pa.Table.from_pylist(dataset_test))\n",
        "dataset_test"
      ],
      "metadata": {
        "colab": {
          "base_uri": "https://localhost:8080/"
        },
        "id": "r_PVYlFuvcX0",
        "outputId": "fb1a2fee-a1bd-4571-bda2-1eeaab352611"
      },
      "id": "r_PVYlFuvcX0",
      "execution_count": null,
      "outputs": [
        {
          "output_type": "execute_result",
          "data": {
            "text/plain": [
              "Dataset({\n",
              "    features: ['translation'],\n",
              "    num_rows: 134621\n",
              "})"
            ]
          },
          "metadata": {},
          "execution_count": 13
        }
      ]
    },
    {
      "cell_type": "code",
      "source": [
        "source_lang = \"en\"\n",
        "target_lang = \"tr\"\n",
        "prefix = \"translate English to Turkish: \"\n",
        "def preprocess_function(examples):\n",
        "    inputs = [prefix + example[source_lang] for example in examples[\"translation\"]]\n",
        "    targets = [example[target_lang] for example in examples[\"translation\"]]\n",
        "    model_inputs = tokenizer(inputs, text_target=targets, max_length=128, truncation=True)\n",
        "    return model_inputs"
      ],
      "metadata": {
        "id": "J4SHD_6joKZx"
      },
      "id": "J4SHD_6joKZx",
      "execution_count": null,
      "outputs": []
    },
    {
      "cell_type": "code",
      "source": [
        "tokenized_train = dataset_train.map(preprocess_function, batched=True)\n",
        "tokenized_test = dataset_test.map(preprocess_function, batched=True)\n",
        "tokenized_val = dataset_val.map(preprocess_function, batched=True)"
      ],
      "metadata": {
        "colab": {
          "base_uri": "https://localhost:8080/",
          "height": 113,
          "referenced_widgets": [
            "3d5312258ce140d1800cb049f661c705",
            "fd4838e50b664c71b5ae256efa4e4893",
            "dad740a197ea4c26b17445add9661159",
            "f275546871e642b5a5ed85f7004797fa",
            "488893ee01644a7089755a7e14bc3474",
            "e464839a6cea49f192e592842fd8ab56",
            "a6a5960568d9459fa0e3e23ccc2899a2",
            "0892e114a0114f31b557165f9eae701e",
            "2a01412c5e144d50a530aa44c8790d52",
            "2bd939509cbd4f689bdeae027fe4b8cd",
            "c6ea08c7245942beb5ce7d880f7cd76e",
            "67b427128f6a4d9bb1367858f393f525",
            "8af327bd38ab4b5288e76c5e1c6ea13c",
            "a3166b548900492791afde03aa826c4c",
            "71fd20d40bad493ea5b5e957e49b9f2b",
            "3440f3938e3b4f4e9115d5ad87819164",
            "e026d755bb9d49338533c6607b5059f7",
            "dac2a3d0fe2d44ea841ee002c6d32fd9",
            "30f09813d1114eb28a739f3e58104168",
            "53d468d7b9a0455799bd6c17127f0175",
            "9e5a65eba40e41258fa41cb0358de066",
            "88415b2cd8c0460bb7ca355af365aec2",
            "e23d3cb7767d4d3992c15ccb01c28977",
            "f5832c866b8c4da398b039fb25699443",
            "45244234a03649ef9569adda17a19c0c",
            "5e5984a6593e44e18f29a7b97a48cf4f",
            "96e01be1248344948d2cdec769d939f2",
            "8070632825dc474d974713c8a84c1f4e",
            "585a087db45c49a2813e0b3beb0590e2",
            "a2b27e817b804980b3cedcca46201e6a",
            "2e81e32775d94f3e9354944a3b434b0a",
            "d819737030dd4b47a2ed1c16bc31dc0f",
            "45dc1738b09d40bdb113a46007e8dd43"
          ]
        },
        "id": "p_mxMXRnrcDq",
        "outputId": "8306dcdb-91a0-4e37-bf60-23af88cc8147"
      },
      "id": "p_mxMXRnrcDq",
      "execution_count": null,
      "outputs": [
        {
          "output_type": "display_data",
          "data": {
            "text/plain": [
              "  0%|          | 0/431 [00:00<?, ?ba/s]"
            ],
            "application/vnd.jupyter.widget-view+json": {
              "version_major": 2,
              "version_minor": 0,
              "model_id": "3d5312258ce140d1800cb049f661c705"
            }
          },
          "metadata": {}
        },
        {
          "output_type": "display_data",
          "data": {
            "text/plain": [
              "  0%|          | 0/135 [00:00<?, ?ba/s]"
            ],
            "application/vnd.jupyter.widget-view+json": {
              "version_major": 2,
              "version_minor": 0,
              "model_id": "67b427128f6a4d9bb1367858f393f525"
            }
          },
          "metadata": {}
        },
        {
          "output_type": "display_data",
          "data": {
            "text/plain": [
              "  0%|          | 0/108 [00:00<?, ?ba/s]"
            ],
            "application/vnd.jupyter.widget-view+json": {
              "version_major": 2,
              "version_minor": 0,
              "model_id": "e23d3cb7767d4d3992c15ccb01c28977"
            }
          },
          "metadata": {}
        }
      ]
    },
    {
      "cell_type": "code",
      "source": [
        "from transformers import  AutoModelForSeq2SeqLM\n",
        "\n",
        "model = AutoModelForSeq2SeqLM.from_pretrained(\"google/mt5-small\")"
      ],
      "metadata": {
        "id": "Uti5S8kwrja0"
      },
      "id": "Uti5S8kwrja0",
      "execution_count": null,
      "outputs": []
    },
    {
      "cell_type": "code",
      "source": [
        "from transformers import DataCollatorForSeq2Seq\n",
        "\n",
        "data_collator = DataCollatorForSeq2Seq(tokenizer=tokenizer, model=model)"
      ],
      "metadata": {
        "id": "-e4_IXN07KSz"
      },
      "id": "-e4_IXN07KSz",
      "execution_count": null,
      "outputs": []
    },
    {
      "cell_type": "code",
      "source": [
        "from transformers import Seq2SeqTrainingArguments, Seq2SeqTrainer\n",
        "\n",
        "training_args = Seq2SeqTrainingArguments(\n",
        "    output_dir=\"./results\",\n",
        "    evaluation_strategy=\"epoch\",\n",
        "    learning_rate=2e-5,\n",
        "    per_device_train_batch_size=16,\n",
        "    per_device_eval_batch_size=16,\n",
        "    weight_decay=0.01,\n",
        "    save_total_limit=3,\n",
        "    num_train_epochs=1\n",
        ")\n",
        "\n",
        "trainer = Seq2SeqTrainer(\n",
        "    model=model,\n",
        "    args=training_args,\n",
        "    train_dataset=tokenized_train,\n",
        "    eval_dataset=tokenized_val,\n",
        "    tokenizer=tokenizer,\n",
        "    data_collator=data_collator,\n",
        ")\n",
        "\n",
        "trainer.train()"
      ],
      "metadata": {
        "id": "Mg8q3NrSxSxN",
        "colab": {
          "base_uri": "https://localhost:8080/",
          "height": 1000
        },
        "outputId": "29a6c971-7438-4fd2-d7a9-861fd6a9c075"
      },
      "id": "Mg8q3NrSxSxN",
      "execution_count": null,
      "outputs": [
        {
          "output_type": "stream",
          "name": "stderr",
          "text": [
            "The following columns in the training set don't have a corresponding argument in `MT5ForConditionalGeneration.forward` and have been ignored: translation. If translation are not expected by `MT5ForConditionalGeneration.forward`,  you can safely ignore this message.\n",
            "/usr/local/lib/python3.7/dist-packages/transformers/optimization.py:310: FutureWarning: This implementation of AdamW is deprecated and will be removed in a future version. Use the PyTorch implementation torch.optim.AdamW instead, or set `no_deprecation_warning=True` to disable this warning\n",
            "  FutureWarning,\n",
            "***** Running training *****\n",
            "  Num examples = 430040\n",
            "  Num Epochs = 1\n",
            "  Instantaneous batch size per device = 16\n",
            "  Total train batch size (w. parallel, distributed & accumulation) = 16\n",
            "  Gradient Accumulation steps = 1\n",
            "  Total optimization steps = 26878\n",
            "  Number of trainable parameters = 300176768\n",
            "You're using a T5TokenizerFast tokenizer. Please note that with a fast tokenizer, using the `__call__` method is faster than using a method to encode the text followed by a call to the `pad` method to get a padded encoding.\n"
          ]
        },
        {
          "output_type": "display_data",
          "data": {
            "text/plain": [
              "<IPython.core.display.HTML object>"
            ],
            "text/html": [
              "\n",
              "    <div>\n",
              "      \n",
              "      <progress value='26878' max='26878' style='width:300px; height:20px; vertical-align: middle;'></progress>\n",
              "      [26878/26878 2:24:19, Epoch 1/1]\n",
              "    </div>\n",
              "    <table border=\"1\" class=\"dataframe\">\n",
              "  <thead>\n",
              " <tr style=\"text-align: left;\">\n",
              "      <th>Epoch</th>\n",
              "      <th>Training Loss</th>\n",
              "      <th>Validation Loss</th>\n",
              "    </tr>\n",
              "  </thead>\n",
              "  <tbody>\n",
              "    <tr>\n",
              "      <td>1</td>\n",
              "      <td>2.488200</td>\n",
              "      <td>1.720350</td>\n",
              "    </tr>\n",
              "  </tbody>\n",
              "</table><p>"
            ]
          },
          "metadata": {}
        },
        {
          "output_type": "stream",
          "name": "stderr",
          "text": [
            "Saving model checkpoint to ./results/checkpoint-500\n",
            "Configuration saved in ./results/checkpoint-500/config.json\n",
            "Model weights saved in ./results/checkpoint-500/pytorch_model.bin\n",
            "tokenizer config file saved in ./results/checkpoint-500/tokenizer_config.json\n",
            "Special tokens file saved in ./results/checkpoint-500/special_tokens_map.json\n",
            "Copy vocab file to ./results/checkpoint-500/spiece.model\n",
            "Deleting older checkpoint [results/checkpoint-4000] due to args.save_total_limit\n",
            "Saving model checkpoint to ./results/checkpoint-1000\n",
            "Configuration saved in ./results/checkpoint-1000/config.json\n",
            "Model weights saved in ./results/checkpoint-1000/pytorch_model.bin\n",
            "tokenizer config file saved in ./results/checkpoint-1000/tokenizer_config.json\n",
            "Special tokens file saved in ./results/checkpoint-1000/special_tokens_map.json\n",
            "Copy vocab file to ./results/checkpoint-1000/spiece.model\n",
            "Deleting older checkpoint [results/checkpoint-4500] due to args.save_total_limit\n",
            "Saving model checkpoint to ./results/checkpoint-1500\n",
            "Configuration saved in ./results/checkpoint-1500/config.json\n",
            "Model weights saved in ./results/checkpoint-1500/pytorch_model.bin\n",
            "tokenizer config file saved in ./results/checkpoint-1500/tokenizer_config.json\n",
            "Special tokens file saved in ./results/checkpoint-1500/special_tokens_map.json\n",
            "Copy vocab file to ./results/checkpoint-1500/spiece.model\n",
            "Deleting older checkpoint [results/checkpoint-5000] due to args.save_total_limit\n",
            "Saving model checkpoint to ./results/checkpoint-2000\n",
            "Configuration saved in ./results/checkpoint-2000/config.json\n",
            "Model weights saved in ./results/checkpoint-2000/pytorch_model.bin\n",
            "tokenizer config file saved in ./results/checkpoint-2000/tokenizer_config.json\n",
            "Special tokens file saved in ./results/checkpoint-2000/special_tokens_map.json\n",
            "Copy vocab file to ./results/checkpoint-2000/spiece.model\n",
            "Deleting older checkpoint [results/checkpoint-500] due to args.save_total_limit\n",
            "Saving model checkpoint to ./results/checkpoint-2500\n",
            "Configuration saved in ./results/checkpoint-2500/config.json\n",
            "Model weights saved in ./results/checkpoint-2500/pytorch_model.bin\n",
            "tokenizer config file saved in ./results/checkpoint-2500/tokenizer_config.json\n",
            "Special tokens file saved in ./results/checkpoint-2500/special_tokens_map.json\n",
            "Copy vocab file to ./results/checkpoint-2500/spiece.model\n",
            "Deleting older checkpoint [results/checkpoint-1000] due to args.save_total_limit\n",
            "Saving model checkpoint to ./results/checkpoint-3000\n",
            "Configuration saved in ./results/checkpoint-3000/config.json\n",
            "Model weights saved in ./results/checkpoint-3000/pytorch_model.bin\n",
            "tokenizer config file saved in ./results/checkpoint-3000/tokenizer_config.json\n",
            "Special tokens file saved in ./results/checkpoint-3000/special_tokens_map.json\n",
            "Copy vocab file to ./results/checkpoint-3000/spiece.model\n",
            "Deleting older checkpoint [results/checkpoint-1500] due to args.save_total_limit\n",
            "Saving model checkpoint to ./results/checkpoint-3500\n",
            "Configuration saved in ./results/checkpoint-3500/config.json\n",
            "Model weights saved in ./results/checkpoint-3500/pytorch_model.bin\n",
            "tokenizer config file saved in ./results/checkpoint-3500/tokenizer_config.json\n",
            "Special tokens file saved in ./results/checkpoint-3500/special_tokens_map.json\n",
            "Copy vocab file to ./results/checkpoint-3500/spiece.model\n",
            "Deleting older checkpoint [results/checkpoint-2000] due to args.save_total_limit\n",
            "Saving model checkpoint to ./results/checkpoint-4000\n",
            "Configuration saved in ./results/checkpoint-4000/config.json\n",
            "Model weights saved in ./results/checkpoint-4000/pytorch_model.bin\n",
            "tokenizer config file saved in ./results/checkpoint-4000/tokenizer_config.json\n",
            "Special tokens file saved in ./results/checkpoint-4000/special_tokens_map.json\n",
            "Copy vocab file to ./results/checkpoint-4000/spiece.model\n",
            "Deleting older checkpoint [results/checkpoint-2500] due to args.save_total_limit\n",
            "Saving model checkpoint to ./results/checkpoint-4500\n",
            "Configuration saved in ./results/checkpoint-4500/config.json\n",
            "Model weights saved in ./results/checkpoint-4500/pytorch_model.bin\n",
            "tokenizer config file saved in ./results/checkpoint-4500/tokenizer_config.json\n",
            "Special tokens file saved in ./results/checkpoint-4500/special_tokens_map.json\n",
            "Copy vocab file to ./results/checkpoint-4500/spiece.model\n",
            "Deleting older checkpoint [results/checkpoint-3000] due to args.save_total_limit\n",
            "Saving model checkpoint to ./results/checkpoint-5000\n",
            "Configuration saved in ./results/checkpoint-5000/config.json\n",
            "Model weights saved in ./results/checkpoint-5000/pytorch_model.bin\n",
            "tokenizer config file saved in ./results/checkpoint-5000/tokenizer_config.json\n",
            "Special tokens file saved in ./results/checkpoint-5000/special_tokens_map.json\n",
            "Copy vocab file to ./results/checkpoint-5000/spiece.model\n",
            "Deleting older checkpoint [results/checkpoint-3500] due to args.save_total_limit\n",
            "Saving model checkpoint to ./results/checkpoint-5500\n",
            "Configuration saved in ./results/checkpoint-5500/config.json\n",
            "Model weights saved in ./results/checkpoint-5500/pytorch_model.bin\n",
            "tokenizer config file saved in ./results/checkpoint-5500/tokenizer_config.json\n",
            "Special tokens file saved in ./results/checkpoint-5500/special_tokens_map.json\n",
            "Copy vocab file to ./results/checkpoint-5500/spiece.model\n",
            "Deleting older checkpoint [results/checkpoint-4000] due to args.save_total_limit\n",
            "Saving model checkpoint to ./results/checkpoint-6000\n",
            "Configuration saved in ./results/checkpoint-6000/config.json\n",
            "Model weights saved in ./results/checkpoint-6000/pytorch_model.bin\n",
            "tokenizer config file saved in ./results/checkpoint-6000/tokenizer_config.json\n",
            "Special tokens file saved in ./results/checkpoint-6000/special_tokens_map.json\n",
            "Copy vocab file to ./results/checkpoint-6000/spiece.model\n",
            "Deleting older checkpoint [results/checkpoint-4500] due to args.save_total_limit\n",
            "Saving model checkpoint to ./results/checkpoint-6500\n",
            "Configuration saved in ./results/checkpoint-6500/config.json\n",
            "Model weights saved in ./results/checkpoint-6500/pytorch_model.bin\n",
            "tokenizer config file saved in ./results/checkpoint-6500/tokenizer_config.json\n",
            "Special tokens file saved in ./results/checkpoint-6500/special_tokens_map.json\n",
            "Copy vocab file to ./results/checkpoint-6500/spiece.model\n",
            "Deleting older checkpoint [results/checkpoint-5000] due to args.save_total_limit\n",
            "Saving model checkpoint to ./results/checkpoint-7000\n",
            "Configuration saved in ./results/checkpoint-7000/config.json\n",
            "Model weights saved in ./results/checkpoint-7000/pytorch_model.bin\n",
            "tokenizer config file saved in ./results/checkpoint-7000/tokenizer_config.json\n",
            "Special tokens file saved in ./results/checkpoint-7000/special_tokens_map.json\n",
            "Copy vocab file to ./results/checkpoint-7000/spiece.model\n",
            "Deleting older checkpoint [results/checkpoint-5500] due to args.save_total_limit\n",
            "Saving model checkpoint to ./results/checkpoint-7500\n",
            "Configuration saved in ./results/checkpoint-7500/config.json\n",
            "Model weights saved in ./results/checkpoint-7500/pytorch_model.bin\n",
            "tokenizer config file saved in ./results/checkpoint-7500/tokenizer_config.json\n",
            "Special tokens file saved in ./results/checkpoint-7500/special_tokens_map.json\n",
            "Copy vocab file to ./results/checkpoint-7500/spiece.model\n",
            "Deleting older checkpoint [results/checkpoint-6000] due to args.save_total_limit\n",
            "Saving model checkpoint to ./results/checkpoint-8000\n",
            "Configuration saved in ./results/checkpoint-8000/config.json\n",
            "Model weights saved in ./results/checkpoint-8000/pytorch_model.bin\n",
            "tokenizer config file saved in ./results/checkpoint-8000/tokenizer_config.json\n",
            "Special tokens file saved in ./results/checkpoint-8000/special_tokens_map.json\n",
            "Copy vocab file to ./results/checkpoint-8000/spiece.model\n",
            "Deleting older checkpoint [results/checkpoint-6500] due to args.save_total_limit\n",
            "Saving model checkpoint to ./results/checkpoint-8500\n",
            "Configuration saved in ./results/checkpoint-8500/config.json\n",
            "Model weights saved in ./results/checkpoint-8500/pytorch_model.bin\n",
            "tokenizer config file saved in ./results/checkpoint-8500/tokenizer_config.json\n",
            "Special tokens file saved in ./results/checkpoint-8500/special_tokens_map.json\n",
            "Copy vocab file to ./results/checkpoint-8500/spiece.model\n",
            "Deleting older checkpoint [results/checkpoint-7000] due to args.save_total_limit\n",
            "Saving model checkpoint to ./results/checkpoint-9000\n",
            "Configuration saved in ./results/checkpoint-9000/config.json\n",
            "Model weights saved in ./results/checkpoint-9000/pytorch_model.bin\n",
            "tokenizer config file saved in ./results/checkpoint-9000/tokenizer_config.json\n",
            "Special tokens file saved in ./results/checkpoint-9000/special_tokens_map.json\n",
            "Copy vocab file to ./results/checkpoint-9000/spiece.model\n",
            "Deleting older checkpoint [results/checkpoint-7500] due to args.save_total_limit\n",
            "Saving model checkpoint to ./results/checkpoint-9500\n",
            "Configuration saved in ./results/checkpoint-9500/config.json\n",
            "Model weights saved in ./results/checkpoint-9500/pytorch_model.bin\n",
            "tokenizer config file saved in ./results/checkpoint-9500/tokenizer_config.json\n",
            "Special tokens file saved in ./results/checkpoint-9500/special_tokens_map.json\n",
            "Copy vocab file to ./results/checkpoint-9500/spiece.model\n",
            "Deleting older checkpoint [results/checkpoint-8000] due to args.save_total_limit\n",
            "Saving model checkpoint to ./results/checkpoint-10000\n",
            "Configuration saved in ./results/checkpoint-10000/config.json\n",
            "Model weights saved in ./results/checkpoint-10000/pytorch_model.bin\n",
            "tokenizer config file saved in ./results/checkpoint-10000/tokenizer_config.json\n",
            "Special tokens file saved in ./results/checkpoint-10000/special_tokens_map.json\n",
            "Copy vocab file to ./results/checkpoint-10000/spiece.model\n",
            "Deleting older checkpoint [results/checkpoint-8500] due to args.save_total_limit\n",
            "Saving model checkpoint to ./results/checkpoint-10500\n",
            "Configuration saved in ./results/checkpoint-10500/config.json\n",
            "Model weights saved in ./results/checkpoint-10500/pytorch_model.bin\n",
            "tokenizer config file saved in ./results/checkpoint-10500/tokenizer_config.json\n",
            "Special tokens file saved in ./results/checkpoint-10500/special_tokens_map.json\n",
            "Copy vocab file to ./results/checkpoint-10500/spiece.model\n",
            "Deleting older checkpoint [results/checkpoint-9000] due to args.save_total_limit\n",
            "Saving model checkpoint to ./results/checkpoint-11000\n",
            "Configuration saved in ./results/checkpoint-11000/config.json\n",
            "Model weights saved in ./results/checkpoint-11000/pytorch_model.bin\n",
            "tokenizer config file saved in ./results/checkpoint-11000/tokenizer_config.json\n",
            "Special tokens file saved in ./results/checkpoint-11000/special_tokens_map.json\n",
            "Copy vocab file to ./results/checkpoint-11000/spiece.model\n",
            "Deleting older checkpoint [results/checkpoint-9500] due to args.save_total_limit\n",
            "Saving model checkpoint to ./results/checkpoint-11500\n",
            "Configuration saved in ./results/checkpoint-11500/config.json\n",
            "Model weights saved in ./results/checkpoint-11500/pytorch_model.bin\n",
            "tokenizer config file saved in ./results/checkpoint-11500/tokenizer_config.json\n",
            "Special tokens file saved in ./results/checkpoint-11500/special_tokens_map.json\n",
            "Copy vocab file to ./results/checkpoint-11500/spiece.model\n",
            "Deleting older checkpoint [results/checkpoint-10000] due to args.save_total_limit\n",
            "Saving model checkpoint to ./results/checkpoint-12000\n",
            "Configuration saved in ./results/checkpoint-12000/config.json\n",
            "Model weights saved in ./results/checkpoint-12000/pytorch_model.bin\n",
            "tokenizer config file saved in ./results/checkpoint-12000/tokenizer_config.json\n",
            "Special tokens file saved in ./results/checkpoint-12000/special_tokens_map.json\n",
            "Copy vocab file to ./results/checkpoint-12000/spiece.model\n",
            "Deleting older checkpoint [results/checkpoint-10500] due to args.save_total_limit\n",
            "Saving model checkpoint to ./results/checkpoint-12500\n",
            "Configuration saved in ./results/checkpoint-12500/config.json\n",
            "Model weights saved in ./results/checkpoint-12500/pytorch_model.bin\n",
            "tokenizer config file saved in ./results/checkpoint-12500/tokenizer_config.json\n",
            "Special tokens file saved in ./results/checkpoint-12500/special_tokens_map.json\n",
            "Copy vocab file to ./results/checkpoint-12500/spiece.model\n",
            "Deleting older checkpoint [results/checkpoint-11000] due to args.save_total_limit\n",
            "Saving model checkpoint to ./results/checkpoint-13000\n",
            "Configuration saved in ./results/checkpoint-13000/config.json\n",
            "Model weights saved in ./results/checkpoint-13000/pytorch_model.bin\n",
            "tokenizer config file saved in ./results/checkpoint-13000/tokenizer_config.json\n",
            "Special tokens file saved in ./results/checkpoint-13000/special_tokens_map.json\n",
            "Copy vocab file to ./results/checkpoint-13000/spiece.model\n",
            "Deleting older checkpoint [results/checkpoint-11500] due to args.save_total_limit\n",
            "Saving model checkpoint to ./results/checkpoint-13500\n",
            "Configuration saved in ./results/checkpoint-13500/config.json\n",
            "Model weights saved in ./results/checkpoint-13500/pytorch_model.bin\n",
            "tokenizer config file saved in ./results/checkpoint-13500/tokenizer_config.json\n",
            "Special tokens file saved in ./results/checkpoint-13500/special_tokens_map.json\n",
            "Copy vocab file to ./results/checkpoint-13500/spiece.model\n",
            "Deleting older checkpoint [results/checkpoint-12000] due to args.save_total_limit\n",
            "Saving model checkpoint to ./results/checkpoint-14000\n",
            "Configuration saved in ./results/checkpoint-14000/config.json\n",
            "Model weights saved in ./results/checkpoint-14000/pytorch_model.bin\n",
            "tokenizer config file saved in ./results/checkpoint-14000/tokenizer_config.json\n",
            "Special tokens file saved in ./results/checkpoint-14000/special_tokens_map.json\n",
            "Copy vocab file to ./results/checkpoint-14000/spiece.model\n",
            "Deleting older checkpoint [results/checkpoint-12500] due to args.save_total_limit\n",
            "Saving model checkpoint to ./results/checkpoint-14500\n",
            "Configuration saved in ./results/checkpoint-14500/config.json\n",
            "Model weights saved in ./results/checkpoint-14500/pytorch_model.bin\n",
            "tokenizer config file saved in ./results/checkpoint-14500/tokenizer_config.json\n",
            "Special tokens file saved in ./results/checkpoint-14500/special_tokens_map.json\n",
            "Copy vocab file to ./results/checkpoint-14500/spiece.model\n",
            "Deleting older checkpoint [results/checkpoint-13000] due to args.save_total_limit\n",
            "Saving model checkpoint to ./results/checkpoint-15000\n",
            "Configuration saved in ./results/checkpoint-15000/config.json\n",
            "Model weights saved in ./results/checkpoint-15000/pytorch_model.bin\n",
            "tokenizer config file saved in ./results/checkpoint-15000/tokenizer_config.json\n",
            "Special tokens file saved in ./results/checkpoint-15000/special_tokens_map.json\n",
            "Copy vocab file to ./results/checkpoint-15000/spiece.model\n",
            "Deleting older checkpoint [results/checkpoint-13500] due to args.save_total_limit\n",
            "Saving model checkpoint to ./results/checkpoint-15500\n",
            "Configuration saved in ./results/checkpoint-15500/config.json\n",
            "Model weights saved in ./results/checkpoint-15500/pytorch_model.bin\n",
            "tokenizer config file saved in ./results/checkpoint-15500/tokenizer_config.json\n",
            "Special tokens file saved in ./results/checkpoint-15500/special_tokens_map.json\n",
            "Copy vocab file to ./results/checkpoint-15500/spiece.model\n",
            "Deleting older checkpoint [results/checkpoint-14000] due to args.save_total_limit\n",
            "Saving model checkpoint to ./results/checkpoint-16000\n",
            "Configuration saved in ./results/checkpoint-16000/config.json\n",
            "Model weights saved in ./results/checkpoint-16000/pytorch_model.bin\n",
            "tokenizer config file saved in ./results/checkpoint-16000/tokenizer_config.json\n",
            "Special tokens file saved in ./results/checkpoint-16000/special_tokens_map.json\n",
            "Copy vocab file to ./results/checkpoint-16000/spiece.model\n",
            "Deleting older checkpoint [results/checkpoint-14500] due to args.save_total_limit\n",
            "Saving model checkpoint to ./results/checkpoint-16500\n",
            "Configuration saved in ./results/checkpoint-16500/config.json\n",
            "Model weights saved in ./results/checkpoint-16500/pytorch_model.bin\n",
            "tokenizer config file saved in ./results/checkpoint-16500/tokenizer_config.json\n",
            "Special tokens file saved in ./results/checkpoint-16500/special_tokens_map.json\n",
            "Copy vocab file to ./results/checkpoint-16500/spiece.model\n",
            "Deleting older checkpoint [results/checkpoint-15000] due to args.save_total_limit\n",
            "Saving model checkpoint to ./results/checkpoint-17000\n",
            "Configuration saved in ./results/checkpoint-17000/config.json\n",
            "Model weights saved in ./results/checkpoint-17000/pytorch_model.bin\n",
            "tokenizer config file saved in ./results/checkpoint-17000/tokenizer_config.json\n",
            "Special tokens file saved in ./results/checkpoint-17000/special_tokens_map.json\n",
            "Copy vocab file to ./results/checkpoint-17000/spiece.model\n",
            "Deleting older checkpoint [results/checkpoint-15500] due to args.save_total_limit\n",
            "Saving model checkpoint to ./results/checkpoint-17500\n",
            "Configuration saved in ./results/checkpoint-17500/config.json\n",
            "Model weights saved in ./results/checkpoint-17500/pytorch_model.bin\n",
            "tokenizer config file saved in ./results/checkpoint-17500/tokenizer_config.json\n",
            "Special tokens file saved in ./results/checkpoint-17500/special_tokens_map.json\n",
            "Copy vocab file to ./results/checkpoint-17500/spiece.model\n",
            "Deleting older checkpoint [results/checkpoint-16000] due to args.save_total_limit\n",
            "Saving model checkpoint to ./results/checkpoint-18000\n",
            "Configuration saved in ./results/checkpoint-18000/config.json\n",
            "Model weights saved in ./results/checkpoint-18000/pytorch_model.bin\n",
            "tokenizer config file saved in ./results/checkpoint-18000/tokenizer_config.json\n",
            "Special tokens file saved in ./results/checkpoint-18000/special_tokens_map.json\n",
            "Copy vocab file to ./results/checkpoint-18000/spiece.model\n",
            "Deleting older checkpoint [results/checkpoint-16500] due to args.save_total_limit\n",
            "Saving model checkpoint to ./results/checkpoint-18500\n",
            "Configuration saved in ./results/checkpoint-18500/config.json\n",
            "Model weights saved in ./results/checkpoint-18500/pytorch_model.bin\n",
            "tokenizer config file saved in ./results/checkpoint-18500/tokenizer_config.json\n",
            "Special tokens file saved in ./results/checkpoint-18500/special_tokens_map.json\n",
            "Copy vocab file to ./results/checkpoint-18500/spiece.model\n",
            "Deleting older checkpoint [results/checkpoint-17000] due to args.save_total_limit\n",
            "Saving model checkpoint to ./results/checkpoint-19000\n",
            "Configuration saved in ./results/checkpoint-19000/config.json\n",
            "Model weights saved in ./results/checkpoint-19000/pytorch_model.bin\n",
            "tokenizer config file saved in ./results/checkpoint-19000/tokenizer_config.json\n",
            "Special tokens file saved in ./results/checkpoint-19000/special_tokens_map.json\n",
            "Copy vocab file to ./results/checkpoint-19000/spiece.model\n",
            "Deleting older checkpoint [results/checkpoint-17500] due to args.save_total_limit\n",
            "Saving model checkpoint to ./results/checkpoint-19500\n",
            "Configuration saved in ./results/checkpoint-19500/config.json\n",
            "Model weights saved in ./results/checkpoint-19500/pytorch_model.bin\n",
            "tokenizer config file saved in ./results/checkpoint-19500/tokenizer_config.json\n",
            "Special tokens file saved in ./results/checkpoint-19500/special_tokens_map.json\n",
            "Copy vocab file to ./results/checkpoint-19500/spiece.model\n",
            "Deleting older checkpoint [results/checkpoint-18000] due to args.save_total_limit\n",
            "Saving model checkpoint to ./results/checkpoint-20000\n",
            "Configuration saved in ./results/checkpoint-20000/config.json\n",
            "Model weights saved in ./results/checkpoint-20000/pytorch_model.bin\n",
            "tokenizer config file saved in ./results/checkpoint-20000/tokenizer_config.json\n",
            "Special tokens file saved in ./results/checkpoint-20000/special_tokens_map.json\n",
            "Copy vocab file to ./results/checkpoint-20000/spiece.model\n",
            "Deleting older checkpoint [results/checkpoint-18500] due to args.save_total_limit\n",
            "Saving model checkpoint to ./results/checkpoint-20500\n",
            "Configuration saved in ./results/checkpoint-20500/config.json\n",
            "Model weights saved in ./results/checkpoint-20500/pytorch_model.bin\n",
            "tokenizer config file saved in ./results/checkpoint-20500/tokenizer_config.json\n",
            "Special tokens file saved in ./results/checkpoint-20500/special_tokens_map.json\n",
            "Copy vocab file to ./results/checkpoint-20500/spiece.model\n",
            "Deleting older checkpoint [results/checkpoint-19000] due to args.save_total_limit\n",
            "Saving model checkpoint to ./results/checkpoint-21000\n",
            "Configuration saved in ./results/checkpoint-21000/config.json\n",
            "Model weights saved in ./results/checkpoint-21000/pytorch_model.bin\n",
            "tokenizer config file saved in ./results/checkpoint-21000/tokenizer_config.json\n",
            "Special tokens file saved in ./results/checkpoint-21000/special_tokens_map.json\n",
            "Copy vocab file to ./results/checkpoint-21000/spiece.model\n",
            "Deleting older checkpoint [results/checkpoint-19500] due to args.save_total_limit\n",
            "Saving model checkpoint to ./results/checkpoint-21500\n",
            "Configuration saved in ./results/checkpoint-21500/config.json\n",
            "Model weights saved in ./results/checkpoint-21500/pytorch_model.bin\n",
            "tokenizer config file saved in ./results/checkpoint-21500/tokenizer_config.json\n",
            "Special tokens file saved in ./results/checkpoint-21500/special_tokens_map.json\n",
            "Copy vocab file to ./results/checkpoint-21500/spiece.model\n",
            "Deleting older checkpoint [results/checkpoint-20000] due to args.save_total_limit\n",
            "Saving model checkpoint to ./results/checkpoint-22000\n",
            "Configuration saved in ./results/checkpoint-22000/config.json\n",
            "Model weights saved in ./results/checkpoint-22000/pytorch_model.bin\n",
            "tokenizer config file saved in ./results/checkpoint-22000/tokenizer_config.json\n",
            "Special tokens file saved in ./results/checkpoint-22000/special_tokens_map.json\n",
            "Copy vocab file to ./results/checkpoint-22000/spiece.model\n",
            "Deleting older checkpoint [results/checkpoint-20500] due to args.save_total_limit\n",
            "Saving model checkpoint to ./results/checkpoint-22500\n",
            "Configuration saved in ./results/checkpoint-22500/config.json\n",
            "Model weights saved in ./results/checkpoint-22500/pytorch_model.bin\n",
            "tokenizer config file saved in ./results/checkpoint-22500/tokenizer_config.json\n",
            "Special tokens file saved in ./results/checkpoint-22500/special_tokens_map.json\n",
            "Copy vocab file to ./results/checkpoint-22500/spiece.model\n",
            "Deleting older checkpoint [results/checkpoint-21000] due to args.save_total_limit\n",
            "Saving model checkpoint to ./results/checkpoint-23000\n",
            "Configuration saved in ./results/checkpoint-23000/config.json\n",
            "Model weights saved in ./results/checkpoint-23000/pytorch_model.bin\n",
            "tokenizer config file saved in ./results/checkpoint-23000/tokenizer_config.json\n",
            "Special tokens file saved in ./results/checkpoint-23000/special_tokens_map.json\n",
            "Copy vocab file to ./results/checkpoint-23000/spiece.model\n",
            "Deleting older checkpoint [results/checkpoint-21500] due to args.save_total_limit\n",
            "Saving model checkpoint to ./results/checkpoint-23500\n",
            "Configuration saved in ./results/checkpoint-23500/config.json\n",
            "Model weights saved in ./results/checkpoint-23500/pytorch_model.bin\n",
            "tokenizer config file saved in ./results/checkpoint-23500/tokenizer_config.json\n",
            "Special tokens file saved in ./results/checkpoint-23500/special_tokens_map.json\n",
            "Copy vocab file to ./results/checkpoint-23500/spiece.model\n",
            "Deleting older checkpoint [results/checkpoint-22000] due to args.save_total_limit\n",
            "Saving model checkpoint to ./results/checkpoint-24000\n",
            "Configuration saved in ./results/checkpoint-24000/config.json\n",
            "Model weights saved in ./results/checkpoint-24000/pytorch_model.bin\n",
            "tokenizer config file saved in ./results/checkpoint-24000/tokenizer_config.json\n",
            "Special tokens file saved in ./results/checkpoint-24000/special_tokens_map.json\n",
            "Copy vocab file to ./results/checkpoint-24000/spiece.model\n",
            "Deleting older checkpoint [results/checkpoint-22500] due to args.save_total_limit\n",
            "Saving model checkpoint to ./results/checkpoint-24500\n",
            "Configuration saved in ./results/checkpoint-24500/config.json\n",
            "Model weights saved in ./results/checkpoint-24500/pytorch_model.bin\n",
            "tokenizer config file saved in ./results/checkpoint-24500/tokenizer_config.json\n",
            "Special tokens file saved in ./results/checkpoint-24500/special_tokens_map.json\n",
            "Copy vocab file to ./results/checkpoint-24500/spiece.model\n",
            "Deleting older checkpoint [results/checkpoint-23000] due to args.save_total_limit\n",
            "Saving model checkpoint to ./results/checkpoint-25000\n",
            "Configuration saved in ./results/checkpoint-25000/config.json\n",
            "Model weights saved in ./results/checkpoint-25000/pytorch_model.bin\n",
            "tokenizer config file saved in ./results/checkpoint-25000/tokenizer_config.json\n",
            "Special tokens file saved in ./results/checkpoint-25000/special_tokens_map.json\n",
            "Copy vocab file to ./results/checkpoint-25000/spiece.model\n",
            "Deleting older checkpoint [results/checkpoint-23500] due to args.save_total_limit\n",
            "Saving model checkpoint to ./results/checkpoint-25500\n",
            "Configuration saved in ./results/checkpoint-25500/config.json\n",
            "Model weights saved in ./results/checkpoint-25500/pytorch_model.bin\n",
            "tokenizer config file saved in ./results/checkpoint-25500/tokenizer_config.json\n",
            "Special tokens file saved in ./results/checkpoint-25500/special_tokens_map.json\n",
            "Copy vocab file to ./results/checkpoint-25500/spiece.model\n",
            "Deleting older checkpoint [results/checkpoint-24000] due to args.save_total_limit\n",
            "Saving model checkpoint to ./results/checkpoint-26000\n",
            "Configuration saved in ./results/checkpoint-26000/config.json\n",
            "Model weights saved in ./results/checkpoint-26000/pytorch_model.bin\n",
            "tokenizer config file saved in ./results/checkpoint-26000/tokenizer_config.json\n",
            "Special tokens file saved in ./results/checkpoint-26000/special_tokens_map.json\n",
            "Copy vocab file to ./results/checkpoint-26000/spiece.model\n",
            "Deleting older checkpoint [results/checkpoint-24500] due to args.save_total_limit\n",
            "Saving model checkpoint to ./results/checkpoint-26500\n",
            "Configuration saved in ./results/checkpoint-26500/config.json\n",
            "Model weights saved in ./results/checkpoint-26500/pytorch_model.bin\n",
            "tokenizer config file saved in ./results/checkpoint-26500/tokenizer_config.json\n",
            "Special tokens file saved in ./results/checkpoint-26500/special_tokens_map.json\n",
            "Copy vocab file to ./results/checkpoint-26500/spiece.model\n",
            "Deleting older checkpoint [results/checkpoint-25000] due to args.save_total_limit\n",
            "The following columns in the evaluation set don't have a corresponding argument in `MT5ForConditionalGeneration.forward` and have been ignored: translation. If translation are not expected by `MT5ForConditionalGeneration.forward`,  you can safely ignore this message.\n",
            "***** Running Evaluation *****\n",
            "  Num examples = 107569\n",
            "  Batch size = 16\n",
            "\n",
            "\n",
            "Training completed. Do not forget to share your model on huggingface.co/models =)\n",
            "\n",
            "\n"
          ]
        },
        {
          "output_type": "execute_result",
          "data": {
            "text/plain": [
              "TrainOutput(global_step=26878, training_loss=3.272248138761545, metrics={'train_runtime': 8661.4751, 'train_samples_per_second': 49.65, 'train_steps_per_second': 3.103, 'total_flos': 1.141587932209152e+16, 'train_loss': 3.272248138761545, 'epoch': 1.0})"
            ]
          },
          "metadata": {},
          "execution_count": 18
        }
      ]
    },
    {
      "cell_type": "code",
      "source": [
        "dataset_test_small = []\n",
        "for i in range(len(test_df.drop_duplicates(subset=['en']).iloc[:20]['en'].values)):\n",
        "  dataset_test_small.append({'translation' :  {'en': test_df.drop_duplicates(subset=['en']).iloc[:1000]['en'].values[i],\n",
        "                                               'tr': test_df.drop_duplicates(subset=['en']).iloc[:1000]['tr'].values[i]}})\n",
        "dataset_test_small = Dataset(pa.Table.from_pylist(dataset_test_small))\n",
        "dataset_test_small"
      ],
      "metadata": {
        "colab": {
          "base_uri": "https://localhost:8080/"
        },
        "id": "h4wD7e5X7BDB",
        "outputId": "5be6fca1-0a61-47a7-b587-f4c0dc81ffd0"
      },
      "execution_count": null,
      "outputs": [
        {
          "output_type": "execute_result",
          "data": {
            "text/plain": [
              "Dataset({\n",
              "    features: ['translation'],\n",
              "    num_rows: 20\n",
              "})"
            ]
          },
          "metadata": {},
          "execution_count": 55
        }
      ],
      "id": "h4wD7e5X7BDB"
    },
    {
      "cell_type": "code",
      "source": [
        "tokenized_test_small = dataset_test_small.map(preprocess_function, batched=True)"
      ],
      "metadata": {
        "colab": {
          "base_uri": "https://localhost:8080/",
          "height": 49,
          "referenced_widgets": [
            "8ec23b0334e040ee921c5deff4eb55a0",
            "cbd2338b2c26486ba4b57a746e855bd0",
            "031152b8a5604774a82e019fcc949963",
            "79492f8910ef470dace447435df43309",
            "1426039a2ded4deea3a03a71fb4ee0e8",
            "abf5bf67ef0e4a099805db04d6beb239",
            "0db4d59bcf614366ab5f8dfff6301097",
            "78c8cf14c9314dd18ad19a8b0b019e7f",
            "57f0bbdf7dff4d5d87062de054fb9151",
            "3347a3a97aed4129a81d60380b9224f1",
            "c747bbe595f84d45a8650dff3498c17e"
          ]
        },
        "id": "igHLgu6S7h3s",
        "outputId": "be4f507b-5d99-417b-8dad-3979d391f076"
      },
      "execution_count": null,
      "outputs": [
        {
          "output_type": "display_data",
          "data": {
            "text/plain": [
              "  0%|          | 0/1 [00:00<?, ?ba/s]"
            ],
            "application/vnd.jupyter.widget-view+json": {
              "version_major": 2,
              "version_minor": 0,
              "model_id": "8ec23b0334e040ee921c5deff4eb55a0"
            }
          },
          "metadata": {}
        }
      ],
      "id": "igHLgu6S7h3s"
    },
    {
      "cell_type": "code",
      "source": [
        "tokenized_test_small"
      ],
      "metadata": {
        "colab": {
          "base_uri": "https://localhost:8080/"
        },
        "id": "EKlt6hHv6kX0",
        "outputId": "38de4e54-f8e0-404c-f572-f1c8a1b29134"
      },
      "execution_count": null,
      "outputs": [
        {
          "output_type": "execute_result",
          "data": {
            "text/plain": [
              "Dataset({\n",
              "    features: ['translation', 'input_ids', 'attention_mask', 'labels'],\n",
              "    num_rows: 20\n",
              "})"
            ]
          },
          "metadata": {},
          "execution_count": 57
        }
      ],
      "id": "EKlt6hHv6kX0"
    },
    {
      "cell_type": "code",
      "source": [
        "outputs = trainer.predict(tokenized_test_small)"
      ],
      "metadata": {
        "colab": {
          "base_uri": "https://localhost:8080/",
          "height": 108
        },
        "id": "sGQF22s_6kft",
        "outputId": "59e427e4-fde9-4ddd-bccd-028f472033c5"
      },
      "execution_count": null,
      "outputs": [
        {
          "output_type": "stream",
          "name": "stderr",
          "text": [
            "The following columns in the test set don't have a corresponding argument in `MT5ForConditionalGeneration.forward` and have been ignored: translation. If translation are not expected by `MT5ForConditionalGeneration.forward`,  you can safely ignore this message.\n",
            "***** Running Prediction *****\n",
            "  Num examples = 20\n",
            "  Batch size = 16\n"
          ]
        },
        {
          "output_type": "display_data",
          "data": {
            "text/plain": [
              "<IPython.core.display.HTML object>"
            ],
            "text/html": []
          },
          "metadata": {}
        }
      ],
      "id": "sGQF22s_6kft"
    },
    {
      "cell_type": "code",
      "source": [
        "# from transformers import AutoModelForSeq2SeqLM\n",
        "\n",
        "# model = AutoModelForSeq2SeqLM.from_pretrained(\"/content/my_model\")"
      ],
      "metadata": {
        "id": "xTjXFck5GF2i"
      },
      "execution_count": null,
      "outputs": [],
      "id": "xTjXFck5GF2i"
    },
    {
      "cell_type": "code",
      "source": [
        "prefix = \"translate English to Turkish: \"\n",
        "inp = [prefix + sent for sent in test_df['en'].values]"
      ],
      "metadata": {
        "id": "Ewh_x47gFBzF"
      },
      "execution_count": null,
      "outputs": [],
      "id": "Ewh_x47gFBzF"
    },
    {
      "cell_type": "code",
      "source": [
        "prefix = \"translate English to Turkish: \"\n",
        "inp = [prefix + sent for sent in test_df['en'].values]\n",
        "from tqdm import tqdm\n",
        "tranlated_tr = []\n",
        "for i in tqdm(range(0,134621, 16)):\n",
        "  inputs = tokenizer(\n",
        "        inp[i : i + 16],\n",
        "        truncation=True,\n",
        "        return_tensors='pt',\n",
        "        padding=True).to('cuda')\n",
        "  translation = model.to('cuda').generate(**inputs)\n",
        "  tranlated_tr += tokenizer.batch_decode(translation, skip_special_tokens=True)"
      ],
      "metadata": {
        "colab": {
          "base_uri": "https://localhost:8080/"
        },
        "id": "8rm8WRCXHhrV",
        "outputId": "f954b13e-4f8b-4437-ebe9-819ffb710a10"
      },
      "execution_count": null,
      "outputs": [
        {
          "output_type": "stream",
          "name": "stderr",
          "text": [
            "\r  0%|          | 0/8414 [00:00<?, ?it/s]/usr/local/lib/python3.7/dist-packages/transformers/generation_utils.py:1364: UserWarning: Neither `max_length` nor `max_new_tokens` has been set, `max_length` will default to 20 (`self.config.max_length`). Controlling `max_length` via the config is deprecated and `max_length` will be removed from the config in v5 of Transformers -- we recommend using `max_new_tokens` to control the maximum length of the generation.\n",
            "  UserWarning,\n",
            "100%|██████████| 8414/8414 [41:31<00:00,  3.38it/s]\n"
          ]
        }
      ],
      "id": "8rm8WRCXHhrV"
    },
    {
      "cell_type": "code",
      "source": [
        "len(tranlated_tr)"
      ],
      "metadata": {
        "colab": {
          "base_uri": "https://localhost:8080/"
        },
        "id": "H12i_zjmJUl4",
        "outputId": "7af2699d-51d0-4a63-eb4e-732995f20865"
      },
      "execution_count": null,
      "outputs": [
        {
          "output_type": "execute_result",
          "data": {
            "text/plain": [
              "134621"
            ]
          },
          "metadata": {},
          "execution_count": 44
        }
      ],
      "id": "H12i_zjmJUl4"
    },
    {
      "cell_type": "code",
      "source": [
        "tranlated_tr[-1] = ''"
      ],
      "metadata": {
        "id": "MB3PNpC6UpQM"
      },
      "execution_count": null,
      "outputs": [],
      "id": "MB3PNpC6UpQM"
    },
    {
      "cell_type": "code",
      "source": [
        "test_df['tr_transformer'] = tranlated_tr"
      ],
      "metadata": {
        "id": "-JnXeHAZUFp_"
      },
      "execution_count": null,
      "outputs": [],
      "id": "-JnXeHAZUFp_"
    },
    {
      "cell_type": "code",
      "source": [
        "test_df.to_csv('tr_1.csv', index=False)"
      ],
      "metadata": {
        "id": "rovMNC03JJoJ"
      },
      "execution_count": null,
      "outputs": [],
      "id": "rovMNC03JJoJ"
    },
    {
      "cell_type": "code",
      "source": [
        "from google.colab import files\n",
        "files.download('tr_1.csv') "
      ],
      "metadata": {
        "colab": {
          "base_uri": "https://localhost:8080/",
          "height": 17
        },
        "id": "rl8in6b4JePV",
        "outputId": "f2a07384-7fa3-4080-c5c2-a34be22261dd"
      },
      "execution_count": null,
      "outputs": [
        {
          "output_type": "display_data",
          "data": {
            "text/plain": [
              "<IPython.core.display.Javascript object>"
            ],
            "application/javascript": [
              "\n",
              "    async function download(id, filename, size) {\n",
              "      if (!google.colab.kernel.accessAllowed) {\n",
              "        return;\n",
              "      }\n",
              "      const div = document.createElement('div');\n",
              "      const label = document.createElement('label');\n",
              "      label.textContent = `Downloading \"${filename}\": `;\n",
              "      div.appendChild(label);\n",
              "      const progress = document.createElement('progress');\n",
              "      progress.max = size;\n",
              "      div.appendChild(progress);\n",
              "      document.body.appendChild(div);\n",
              "\n",
              "      const buffers = [];\n",
              "      let downloaded = 0;\n",
              "\n",
              "      const channel = await google.colab.kernel.comms.open(id);\n",
              "      // Send a message to notify the kernel that we're ready.\n",
              "      channel.send({})\n",
              "\n",
              "      for await (const message of channel.messages) {\n",
              "        // Send a message to notify the kernel that we're ready.\n",
              "        channel.send({})\n",
              "        if (message.buffers) {\n",
              "          for (const buffer of message.buffers) {\n",
              "            buffers.push(buffer);\n",
              "            downloaded += buffer.byteLength;\n",
              "            progress.value = downloaded;\n",
              "          }\n",
              "        }\n",
              "      }\n",
              "      const blob = new Blob(buffers, {type: 'application/binary'});\n",
              "      const a = document.createElement('a');\n",
              "      a.href = window.URL.createObjectURL(blob);\n",
              "      a.download = filename;\n",
              "      div.appendChild(a);\n",
              "      a.click();\n",
              "      div.remove();\n",
              "    }\n",
              "  "
            ]
          },
          "metadata": {}
        },
        {
          "output_type": "display_data",
          "data": {
            "text/plain": [
              "<IPython.core.display.Javascript object>"
            ],
            "application/javascript": [
              "download(\"download_4e55befa-f230-4b23-b764-266b43c24a58\", \"tr_1.csv\", 14521377)"
            ]
          },
          "metadata": {}
        }
      ],
      "id": "rl8in6b4JePV"
    },
    {
      "cell_type": "code",
      "source": [
        "sentence = \"translate English to Turkish: I love you\"\n",
        "input_ids = tokenizer(sentence, return_tensors=\"pt\").input_ids\n",
        "attention_mask=tokenizer(sentence, return_tensors=\"pt\").attention_mask"
      ],
      "metadata": {
        "id": "2NkxIXWyEuSZ"
      },
      "execution_count": null,
      "outputs": [],
      "id": "2NkxIXWyEuSZ"
    },
    {
      "cell_type": "code",
      "source": [
        "outputs = model.generate(input_ids.to('cuda'))"
      ],
      "metadata": {
        "colab": {
          "base_uri": "https://localhost:8080/"
        },
        "id": "SC4fpv7kE0eq",
        "outputId": "2e74f677-b22f-4ebc-c3cd-03014bc346cd"
      },
      "execution_count": null,
      "outputs": [
        {
          "output_type": "stream",
          "name": "stderr",
          "text": [
            "/usr/local/lib/python3.7/dist-packages/transformers/generation_utils.py:1364: UserWarning: Neither `max_length` nor `max_new_tokens` has been set, `max_length` will default to 20 (`self.config.max_length`). Controlling `max_length` via the config is deprecated and `max_length` will be removed from the config in v5 of Transformers -- we recommend using `max_new_tokens` to control the maximum length of the generation.\n",
            "  UserWarning,\n"
          ]
        }
      ],
      "id": "SC4fpv7kE0eq"
    },
    {
      "cell_type": "code",
      "source": [
        "tokenizer.batch_decode(outputs, skip_special_tokens=True)"
      ],
      "metadata": {
        "colab": {
          "base_uri": "https://localhost:8080/"
        },
        "id": "S7g8p0fEE0qX",
        "outputId": "43bfc61c-0418-450c-b3b5-dba840b00f84"
      },
      "execution_count": null,
      "outputs": [
        {
          "output_type": "execute_result",
          "data": {
            "text/plain": [
              "['Seninle seni seviyorum.']"
            ]
          },
          "metadata": {},
          "execution_count": 63
        }
      ],
      "id": "S7g8p0fEE0qX"
    },
    {
      "cell_type": "code",
      "source": [
        "prefix = \"translate English to Turkish: \"\n",
        "inp = [prefix + sent for sent in train_df['en'].values]\n",
        "from tqdm import tqdm\n",
        "tranlated_tr = []\n",
        "for i in tqdm(range(0,409898, 16)):\n",
        "  inputs = tokenizer(\n",
        "        inp[i : i + 16],\n",
        "        truncation=True,\n",
        "        return_tensors='pt',\n",
        "        padding=True).to('cuda')\n",
        "  translation = model.to('cuda').generate(**inputs)\n",
        "  tranlated_tr += tokenizer.batch_decode(translation, skip_special_tokens=True)"
      ],
      "metadata": {
        "id": "y9LB61E__QaA"
      },
      "id": "y9LB61E__QaA",
      "execution_count": null,
      "outputs": []
    },
    {
      "cell_type": "code",
      "source": [
        "train_df['tr_transformer'] = tranlated_tr\n",
        "train_df.to_csv('train_df_tr.csv', index=False)"
      ],
      "metadata": {
        "id": "R5WBNUXeWNW1"
      },
      "execution_count": null,
      "outputs": [],
      "id": "R5WBNUXeWNW1"
    },
    {
      "cell_type": "code",
      "source": [
        "from google.colab import files\n",
        "files.download('train_df_tr.csv') "
      ],
      "metadata": {
        "colab": {
          "base_uri": "https://localhost:8080/",
          "height": 17
        },
        "id": "4OvMP2L_W1KM",
        "outputId": "2096e635-5393-4129-8dc4-375bf2ef12d1"
      },
      "execution_count": null,
      "outputs": [
        {
          "output_type": "display_data",
          "data": {
            "text/plain": [
              "<IPython.core.display.Javascript object>"
            ],
            "application/javascript": [
              "\n",
              "    async function download(id, filename, size) {\n",
              "      if (!google.colab.kernel.accessAllowed) {\n",
              "        return;\n",
              "      }\n",
              "      const div = document.createElement('div');\n",
              "      const label = document.createElement('label');\n",
              "      label.textContent = `Downloading \"${filename}\": `;\n",
              "      div.appendChild(label);\n",
              "      const progress = document.createElement('progress');\n",
              "      progress.max = size;\n",
              "      div.appendChild(progress);\n",
              "      document.body.appendChild(div);\n",
              "\n",
              "      const buffers = [];\n",
              "      let downloaded = 0;\n",
              "\n",
              "      const channel = await google.colab.kernel.comms.open(id);\n",
              "      // Send a message to notify the kernel that we're ready.\n",
              "      channel.send({})\n",
              "\n",
              "      for await (const message of channel.messages) {\n",
              "        // Send a message to notify the kernel that we're ready.\n",
              "        channel.send({})\n",
              "        if (message.buffers) {\n",
              "          for (const buffer of message.buffers) {\n",
              "            buffers.push(buffer);\n",
              "            downloaded += buffer.byteLength;\n",
              "            progress.value = downloaded;\n",
              "          }\n",
              "        }\n",
              "      }\n",
              "      const blob = new Blob(buffers, {type: 'application/binary'});\n",
              "      const a = document.createElement('a');\n",
              "      a.href = window.URL.createObjectURL(blob);\n",
              "      a.download = filename;\n",
              "      div.appendChild(a);\n",
              "      a.click();\n",
              "      div.remove();\n",
              "    }\n",
              "  "
            ]
          },
          "metadata": {}
        },
        {
          "output_type": "display_data",
          "data": {
            "text/plain": [
              "<IPython.core.display.Javascript object>"
            ],
            "application/javascript": [
              "download(\"download_270038f8-76f1-44e5-a692-7c51da2bcce6\", \"train_df_tr.csv\", 46445631)"
            ]
          },
          "metadata": {}
        }
      ],
      "id": "4OvMP2L_W1KM"
    },
    {
      "cell_type": "code",
      "source": [
        "test_df = pd.read_csv('tr_1.csv')\n",
        "train_df = pd.read_csv('train_df_tr.csv')"
      ],
      "metadata": {
        "id": "YVsbk0cJPS4Z"
      },
      "id": "YVsbk0cJPS4Z",
      "execution_count": null,
      "outputs": []
    },
    {
      "cell_type": "code",
      "source": [
        "# !pip install evaluate >> None \n",
        "# !pip install git+https://github.com/google-research/bleurt.git >> None \n",
        "\n",
        "import evaluate\n",
        "bleu = evaluate.load(\"bleu\")\n",
        "\n",
        "bleu_results_tr_test = bleu.compute(predictions=test_df['tr_transformer'], references=test_df['tr'])\n",
        "bleu_results_tr_train = bleu.compute(predictions=train_df['tr_transformer'], references=train_df['tr'])"
      ],
      "metadata": {
        "id": "MhAF4XVx-1Aq"
      },
      "execution_count": null,
      "outputs": [],
      "id": "MhAF4XVx-1Aq"
    },
    {
      "cell_type": "code",
      "source": [
        "print(bleu_results_tr_test)\n",
        "print(bleu_results_tr_train)"
      ],
      "metadata": {
        "colab": {
          "base_uri": "https://localhost:8080/"
        },
        "id": "XMhg9-RSV7x7",
        "outputId": "b01fc24b-835e-422d-9a9d-2462d9b270ea"
      },
      "execution_count": null,
      "outputs": [
        {
          "output_type": "stream",
          "name": "stdout",
          "text": [
            "{'bleu': 0.13517668166750468, 'precisions': [0.4658898191229971, 0.18746243629195114, 0.08895945874676973, 0.045675878877176695], 'brevity_penalty': 0.9848784861479639, 'length_ratio': 0.9849916722984825, 'translation_length': 800157, 'reference_length': 812349}\n",
            "{'bleu': 0.13440915826923946, 'precisions': [0.46583330008316454, 0.1874471509233245, 0.08848504213292711, 0.045021812511103654], 'brevity_penalty': 0.9841885505741071, 'length_ratio': 0.9843122442119563, 'translation_length': 2556378, 'reference_length': 2597121}\n"
          ]
        }
      ],
      "id": "XMhg9-RSV7x7"
    }
  ],
  "metadata": {
    "accelerator": "GPU",
    "colab": {
      "provenance": []
    },
    "gpuClass": "standard",
    "kernelspec": {
      "display_name": "Python 3 (ipykernel)",
      "language": "python",
      "name": "python3"
    },
    "language_info": {
      "codemirror_mode": {
        "name": "ipython",
        "version": 3
      },
      "file_extension": ".py",
      "mimetype": "text/x-python",
      "name": "python",
      "nbconvert_exporter": "python",
      "pygments_lexer": "ipython3",
      "version": "3.10.0"
    },
    "widgets": {
      "application/vnd.jupyter.widget-state+json": {
        "0054fa9c2805438cb519cd60b9e2cb26": {
          "model_module": "@jupyter-widgets/controls",
          "model_name": "HBoxModel",
          "model_module_version": "1.5.0",
          "state": {
            "_dom_classes": [],
            "_model_module": "@jupyter-widgets/controls",
            "_model_module_version": "1.5.0",
            "_model_name": "HBoxModel",
            "_view_count": null,
            "_view_module": "@jupyter-widgets/controls",
            "_view_module_version": "1.5.0",
            "_view_name": "HBoxView",
            "box_style": "",
            "children": [
              "IPY_MODEL_8d7456928de448a4ad17ede836b9490f",
              "IPY_MODEL_dc199a13950449acab0fff9d946a3d37",
              "IPY_MODEL_6b1f9486296147ae8f09d160557cfc23"
            ],
            "layout": "IPY_MODEL_434c4f8461ff4450ac9064212a4adcbc"
          }
        },
        "8d7456928de448a4ad17ede836b9490f": {
          "model_module": "@jupyter-widgets/controls",
          "model_name": "HTMLModel",
          "model_module_version": "1.5.0",
          "state": {
            "_dom_classes": [],
            "_model_module": "@jupyter-widgets/controls",
            "_model_module_version": "1.5.0",
            "_model_name": "HTMLModel",
            "_view_count": null,
            "_view_module": "@jupyter-widgets/controls",
            "_view_module_version": "1.5.0",
            "_view_name": "HTMLView",
            "description": "",
            "description_tooltip": null,
            "layout": "IPY_MODEL_a8e0959a82584a76a0e9c9385fc939dd",
            "placeholder": "​",
            "style": "IPY_MODEL_6ee417fc2d5d4b8383cc4b73f6033509",
            "value": "100%"
          }
        },
        "dc199a13950449acab0fff9d946a3d37": {
          "model_module": "@jupyter-widgets/controls",
          "model_name": "FloatProgressModel",
          "model_module_version": "1.5.0",
          "state": {
            "_dom_classes": [],
            "_model_module": "@jupyter-widgets/controls",
            "_model_module_version": "1.5.0",
            "_model_name": "FloatProgressModel",
            "_view_count": null,
            "_view_module": "@jupyter-widgets/controls",
            "_view_module_version": "1.5.0",
            "_view_name": "ProgressView",
            "bar_style": "success",
            "description": "",
            "description_tooltip": null,
            "layout": "IPY_MODEL_89479e85d3d24a3a86604521d38ee98a",
            "max": 1,
            "min": 0,
            "orientation": "horizontal",
            "style": "IPY_MODEL_0b62a32cab6541a6b1153ec6dd2bfcdf",
            "value": 1
          }
        },
        "6b1f9486296147ae8f09d160557cfc23": {
          "model_module": "@jupyter-widgets/controls",
          "model_name": "HTMLModel",
          "model_module_version": "1.5.0",
          "state": {
            "_dom_classes": [],
            "_model_module": "@jupyter-widgets/controls",
            "_model_module_version": "1.5.0",
            "_model_name": "HTMLModel",
            "_view_count": null,
            "_view_module": "@jupyter-widgets/controls",
            "_view_module_version": "1.5.0",
            "_view_name": "HTMLView",
            "description": "",
            "description_tooltip": null,
            "layout": "IPY_MODEL_04e40e72198d4ab6b7b9b9939ef16901",
            "placeholder": "​",
            "style": "IPY_MODEL_562fc38476b74028a51e713a48bbaf93",
            "value": " 1/1 [00:00&lt;00:00, 13.03it/s]"
          }
        },
        "434c4f8461ff4450ac9064212a4adcbc": {
          "model_module": "@jupyter-widgets/base",
          "model_name": "LayoutModel",
          "model_module_version": "1.2.0",
          "state": {
            "_model_module": "@jupyter-widgets/base",
            "_model_module_version": "1.2.0",
            "_model_name": "LayoutModel",
            "_view_count": null,
            "_view_module": "@jupyter-widgets/base",
            "_view_module_version": "1.2.0",
            "_view_name": "LayoutView",
            "align_content": null,
            "align_items": null,
            "align_self": null,
            "border": null,
            "bottom": null,
            "display": null,
            "flex": null,
            "flex_flow": null,
            "grid_area": null,
            "grid_auto_columns": null,
            "grid_auto_flow": null,
            "grid_auto_rows": null,
            "grid_column": null,
            "grid_gap": null,
            "grid_row": null,
            "grid_template_areas": null,
            "grid_template_columns": null,
            "grid_template_rows": null,
            "height": null,
            "justify_content": null,
            "justify_items": null,
            "left": null,
            "margin": null,
            "max_height": null,
            "max_width": null,
            "min_height": null,
            "min_width": null,
            "object_fit": null,
            "object_position": null,
            "order": null,
            "overflow": null,
            "overflow_x": null,
            "overflow_y": null,
            "padding": null,
            "right": null,
            "top": null,
            "visibility": null,
            "width": null
          }
        },
        "a8e0959a82584a76a0e9c9385fc939dd": {
          "model_module": "@jupyter-widgets/base",
          "model_name": "LayoutModel",
          "model_module_version": "1.2.0",
          "state": {
            "_model_module": "@jupyter-widgets/base",
            "_model_module_version": "1.2.0",
            "_model_name": "LayoutModel",
            "_view_count": null,
            "_view_module": "@jupyter-widgets/base",
            "_view_module_version": "1.2.0",
            "_view_name": "LayoutView",
            "align_content": null,
            "align_items": null,
            "align_self": null,
            "border": null,
            "bottom": null,
            "display": null,
            "flex": null,
            "flex_flow": null,
            "grid_area": null,
            "grid_auto_columns": null,
            "grid_auto_flow": null,
            "grid_auto_rows": null,
            "grid_column": null,
            "grid_gap": null,
            "grid_row": null,
            "grid_template_areas": null,
            "grid_template_columns": null,
            "grid_template_rows": null,
            "height": null,
            "justify_content": null,
            "justify_items": null,
            "left": null,
            "margin": null,
            "max_height": null,
            "max_width": null,
            "min_height": null,
            "min_width": null,
            "object_fit": null,
            "object_position": null,
            "order": null,
            "overflow": null,
            "overflow_x": null,
            "overflow_y": null,
            "padding": null,
            "right": null,
            "top": null,
            "visibility": null,
            "width": null
          }
        },
        "6ee417fc2d5d4b8383cc4b73f6033509": {
          "model_module": "@jupyter-widgets/controls",
          "model_name": "DescriptionStyleModel",
          "model_module_version": "1.5.0",
          "state": {
            "_model_module": "@jupyter-widgets/controls",
            "_model_module_version": "1.5.0",
            "_model_name": "DescriptionStyleModel",
            "_view_count": null,
            "_view_module": "@jupyter-widgets/base",
            "_view_module_version": "1.2.0",
            "_view_name": "StyleView",
            "description_width": ""
          }
        },
        "89479e85d3d24a3a86604521d38ee98a": {
          "model_module": "@jupyter-widgets/base",
          "model_name": "LayoutModel",
          "model_module_version": "1.2.0",
          "state": {
            "_model_module": "@jupyter-widgets/base",
            "_model_module_version": "1.2.0",
            "_model_name": "LayoutModel",
            "_view_count": null,
            "_view_module": "@jupyter-widgets/base",
            "_view_module_version": "1.2.0",
            "_view_name": "LayoutView",
            "align_content": null,
            "align_items": null,
            "align_self": null,
            "border": null,
            "bottom": null,
            "display": null,
            "flex": null,
            "flex_flow": null,
            "grid_area": null,
            "grid_auto_columns": null,
            "grid_auto_flow": null,
            "grid_auto_rows": null,
            "grid_column": null,
            "grid_gap": null,
            "grid_row": null,
            "grid_template_areas": null,
            "grid_template_columns": null,
            "grid_template_rows": null,
            "height": null,
            "justify_content": null,
            "justify_items": null,
            "left": null,
            "margin": null,
            "max_height": null,
            "max_width": null,
            "min_height": null,
            "min_width": null,
            "object_fit": null,
            "object_position": null,
            "order": null,
            "overflow": null,
            "overflow_x": null,
            "overflow_y": null,
            "padding": null,
            "right": null,
            "top": null,
            "visibility": null,
            "width": null
          }
        },
        "0b62a32cab6541a6b1153ec6dd2bfcdf": {
          "model_module": "@jupyter-widgets/controls",
          "model_name": "ProgressStyleModel",
          "model_module_version": "1.5.0",
          "state": {
            "_model_module": "@jupyter-widgets/controls",
            "_model_module_version": "1.5.0",
            "_model_name": "ProgressStyleModel",
            "_view_count": null,
            "_view_module": "@jupyter-widgets/base",
            "_view_module_version": "1.2.0",
            "_view_name": "StyleView",
            "bar_color": null,
            "description_width": ""
          }
        },
        "04e40e72198d4ab6b7b9b9939ef16901": {
          "model_module": "@jupyter-widgets/base",
          "model_name": "LayoutModel",
          "model_module_version": "1.2.0",
          "state": {
            "_model_module": "@jupyter-widgets/base",
            "_model_module_version": "1.2.0",
            "_model_name": "LayoutModel",
            "_view_count": null,
            "_view_module": "@jupyter-widgets/base",
            "_view_module_version": "1.2.0",
            "_view_name": "LayoutView",
            "align_content": null,
            "align_items": null,
            "align_self": null,
            "border": null,
            "bottom": null,
            "display": null,
            "flex": null,
            "flex_flow": null,
            "grid_area": null,
            "grid_auto_columns": null,
            "grid_auto_flow": null,
            "grid_auto_rows": null,
            "grid_column": null,
            "grid_gap": null,
            "grid_row": null,
            "grid_template_areas": null,
            "grid_template_columns": null,
            "grid_template_rows": null,
            "height": null,
            "justify_content": null,
            "justify_items": null,
            "left": null,
            "margin": null,
            "max_height": null,
            "max_width": null,
            "min_height": null,
            "min_width": null,
            "object_fit": null,
            "object_position": null,
            "order": null,
            "overflow": null,
            "overflow_x": null,
            "overflow_y": null,
            "padding": null,
            "right": null,
            "top": null,
            "visibility": null,
            "width": null
          }
        },
        "562fc38476b74028a51e713a48bbaf93": {
          "model_module": "@jupyter-widgets/controls",
          "model_name": "DescriptionStyleModel",
          "model_module_version": "1.5.0",
          "state": {
            "_model_module": "@jupyter-widgets/controls",
            "_model_module_version": "1.5.0",
            "_model_name": "DescriptionStyleModel",
            "_view_count": null,
            "_view_module": "@jupyter-widgets/base",
            "_view_module_version": "1.2.0",
            "_view_name": "StyleView",
            "description_width": ""
          }
        },
        "3d5312258ce140d1800cb049f661c705": {
          "model_module": "@jupyter-widgets/controls",
          "model_name": "HBoxModel",
          "model_module_version": "1.5.0",
          "state": {
            "_dom_classes": [],
            "_model_module": "@jupyter-widgets/controls",
            "_model_module_version": "1.5.0",
            "_model_name": "HBoxModel",
            "_view_count": null,
            "_view_module": "@jupyter-widgets/controls",
            "_view_module_version": "1.5.0",
            "_view_name": "HBoxView",
            "box_style": "",
            "children": [
              "IPY_MODEL_fd4838e50b664c71b5ae256efa4e4893",
              "IPY_MODEL_dad740a197ea4c26b17445add9661159",
              "IPY_MODEL_f275546871e642b5a5ed85f7004797fa"
            ],
            "layout": "IPY_MODEL_488893ee01644a7089755a7e14bc3474"
          }
        },
        "fd4838e50b664c71b5ae256efa4e4893": {
          "model_module": "@jupyter-widgets/controls",
          "model_name": "HTMLModel",
          "model_module_version": "1.5.0",
          "state": {
            "_dom_classes": [],
            "_model_module": "@jupyter-widgets/controls",
            "_model_module_version": "1.5.0",
            "_model_name": "HTMLModel",
            "_view_count": null,
            "_view_module": "@jupyter-widgets/controls",
            "_view_module_version": "1.5.0",
            "_view_name": "HTMLView",
            "description": "",
            "description_tooltip": null,
            "layout": "IPY_MODEL_e464839a6cea49f192e592842fd8ab56",
            "placeholder": "​",
            "style": "IPY_MODEL_a6a5960568d9459fa0e3e23ccc2899a2",
            "value": "100%"
          }
        },
        "dad740a197ea4c26b17445add9661159": {
          "model_module": "@jupyter-widgets/controls",
          "model_name": "FloatProgressModel",
          "model_module_version": "1.5.0",
          "state": {
            "_dom_classes": [],
            "_model_module": "@jupyter-widgets/controls",
            "_model_module_version": "1.5.0",
            "_model_name": "FloatProgressModel",
            "_view_count": null,
            "_view_module": "@jupyter-widgets/controls",
            "_view_module_version": "1.5.0",
            "_view_name": "ProgressView",
            "bar_style": "success",
            "description": "",
            "description_tooltip": null,
            "layout": "IPY_MODEL_0892e114a0114f31b557165f9eae701e",
            "max": 431,
            "min": 0,
            "orientation": "horizontal",
            "style": "IPY_MODEL_2a01412c5e144d50a530aa44c8790d52",
            "value": 431
          }
        },
        "f275546871e642b5a5ed85f7004797fa": {
          "model_module": "@jupyter-widgets/controls",
          "model_name": "HTMLModel",
          "model_module_version": "1.5.0",
          "state": {
            "_dom_classes": [],
            "_model_module": "@jupyter-widgets/controls",
            "_model_module_version": "1.5.0",
            "_model_name": "HTMLModel",
            "_view_count": null,
            "_view_module": "@jupyter-widgets/controls",
            "_view_module_version": "1.5.0",
            "_view_name": "HTMLView",
            "description": "",
            "description_tooltip": null,
            "layout": "IPY_MODEL_2bd939509cbd4f689bdeae027fe4b8cd",
            "placeholder": "​",
            "style": "IPY_MODEL_c6ea08c7245942beb5ce7d880f7cd76e",
            "value": " 431/431 [00:41&lt;00:00,  7.84ba/s]"
          }
        },
        "488893ee01644a7089755a7e14bc3474": {
          "model_module": "@jupyter-widgets/base",
          "model_name": "LayoutModel",
          "model_module_version": "1.2.0",
          "state": {
            "_model_module": "@jupyter-widgets/base",
            "_model_module_version": "1.2.0",
            "_model_name": "LayoutModel",
            "_view_count": null,
            "_view_module": "@jupyter-widgets/base",
            "_view_module_version": "1.2.0",
            "_view_name": "LayoutView",
            "align_content": null,
            "align_items": null,
            "align_self": null,
            "border": null,
            "bottom": null,
            "display": null,
            "flex": null,
            "flex_flow": null,
            "grid_area": null,
            "grid_auto_columns": null,
            "grid_auto_flow": null,
            "grid_auto_rows": null,
            "grid_column": null,
            "grid_gap": null,
            "grid_row": null,
            "grid_template_areas": null,
            "grid_template_columns": null,
            "grid_template_rows": null,
            "height": null,
            "justify_content": null,
            "justify_items": null,
            "left": null,
            "margin": null,
            "max_height": null,
            "max_width": null,
            "min_height": null,
            "min_width": null,
            "object_fit": null,
            "object_position": null,
            "order": null,
            "overflow": null,
            "overflow_x": null,
            "overflow_y": null,
            "padding": null,
            "right": null,
            "top": null,
            "visibility": null,
            "width": null
          }
        },
        "e464839a6cea49f192e592842fd8ab56": {
          "model_module": "@jupyter-widgets/base",
          "model_name": "LayoutModel",
          "model_module_version": "1.2.0",
          "state": {
            "_model_module": "@jupyter-widgets/base",
            "_model_module_version": "1.2.0",
            "_model_name": "LayoutModel",
            "_view_count": null,
            "_view_module": "@jupyter-widgets/base",
            "_view_module_version": "1.2.0",
            "_view_name": "LayoutView",
            "align_content": null,
            "align_items": null,
            "align_self": null,
            "border": null,
            "bottom": null,
            "display": null,
            "flex": null,
            "flex_flow": null,
            "grid_area": null,
            "grid_auto_columns": null,
            "grid_auto_flow": null,
            "grid_auto_rows": null,
            "grid_column": null,
            "grid_gap": null,
            "grid_row": null,
            "grid_template_areas": null,
            "grid_template_columns": null,
            "grid_template_rows": null,
            "height": null,
            "justify_content": null,
            "justify_items": null,
            "left": null,
            "margin": null,
            "max_height": null,
            "max_width": null,
            "min_height": null,
            "min_width": null,
            "object_fit": null,
            "object_position": null,
            "order": null,
            "overflow": null,
            "overflow_x": null,
            "overflow_y": null,
            "padding": null,
            "right": null,
            "top": null,
            "visibility": null,
            "width": null
          }
        },
        "a6a5960568d9459fa0e3e23ccc2899a2": {
          "model_module": "@jupyter-widgets/controls",
          "model_name": "DescriptionStyleModel",
          "model_module_version": "1.5.0",
          "state": {
            "_model_module": "@jupyter-widgets/controls",
            "_model_module_version": "1.5.0",
            "_model_name": "DescriptionStyleModel",
            "_view_count": null,
            "_view_module": "@jupyter-widgets/base",
            "_view_module_version": "1.2.0",
            "_view_name": "StyleView",
            "description_width": ""
          }
        },
        "0892e114a0114f31b557165f9eae701e": {
          "model_module": "@jupyter-widgets/base",
          "model_name": "LayoutModel",
          "model_module_version": "1.2.0",
          "state": {
            "_model_module": "@jupyter-widgets/base",
            "_model_module_version": "1.2.0",
            "_model_name": "LayoutModel",
            "_view_count": null,
            "_view_module": "@jupyter-widgets/base",
            "_view_module_version": "1.2.0",
            "_view_name": "LayoutView",
            "align_content": null,
            "align_items": null,
            "align_self": null,
            "border": null,
            "bottom": null,
            "display": null,
            "flex": null,
            "flex_flow": null,
            "grid_area": null,
            "grid_auto_columns": null,
            "grid_auto_flow": null,
            "grid_auto_rows": null,
            "grid_column": null,
            "grid_gap": null,
            "grid_row": null,
            "grid_template_areas": null,
            "grid_template_columns": null,
            "grid_template_rows": null,
            "height": null,
            "justify_content": null,
            "justify_items": null,
            "left": null,
            "margin": null,
            "max_height": null,
            "max_width": null,
            "min_height": null,
            "min_width": null,
            "object_fit": null,
            "object_position": null,
            "order": null,
            "overflow": null,
            "overflow_x": null,
            "overflow_y": null,
            "padding": null,
            "right": null,
            "top": null,
            "visibility": null,
            "width": null
          }
        },
        "2a01412c5e144d50a530aa44c8790d52": {
          "model_module": "@jupyter-widgets/controls",
          "model_name": "ProgressStyleModel",
          "model_module_version": "1.5.0",
          "state": {
            "_model_module": "@jupyter-widgets/controls",
            "_model_module_version": "1.5.0",
            "_model_name": "ProgressStyleModel",
            "_view_count": null,
            "_view_module": "@jupyter-widgets/base",
            "_view_module_version": "1.2.0",
            "_view_name": "StyleView",
            "bar_color": null,
            "description_width": ""
          }
        },
        "2bd939509cbd4f689bdeae027fe4b8cd": {
          "model_module": "@jupyter-widgets/base",
          "model_name": "LayoutModel",
          "model_module_version": "1.2.0",
          "state": {
            "_model_module": "@jupyter-widgets/base",
            "_model_module_version": "1.2.0",
            "_model_name": "LayoutModel",
            "_view_count": null,
            "_view_module": "@jupyter-widgets/base",
            "_view_module_version": "1.2.0",
            "_view_name": "LayoutView",
            "align_content": null,
            "align_items": null,
            "align_self": null,
            "border": null,
            "bottom": null,
            "display": null,
            "flex": null,
            "flex_flow": null,
            "grid_area": null,
            "grid_auto_columns": null,
            "grid_auto_flow": null,
            "grid_auto_rows": null,
            "grid_column": null,
            "grid_gap": null,
            "grid_row": null,
            "grid_template_areas": null,
            "grid_template_columns": null,
            "grid_template_rows": null,
            "height": null,
            "justify_content": null,
            "justify_items": null,
            "left": null,
            "margin": null,
            "max_height": null,
            "max_width": null,
            "min_height": null,
            "min_width": null,
            "object_fit": null,
            "object_position": null,
            "order": null,
            "overflow": null,
            "overflow_x": null,
            "overflow_y": null,
            "padding": null,
            "right": null,
            "top": null,
            "visibility": null,
            "width": null
          }
        },
        "c6ea08c7245942beb5ce7d880f7cd76e": {
          "model_module": "@jupyter-widgets/controls",
          "model_name": "DescriptionStyleModel",
          "model_module_version": "1.5.0",
          "state": {
            "_model_module": "@jupyter-widgets/controls",
            "_model_module_version": "1.5.0",
            "_model_name": "DescriptionStyleModel",
            "_view_count": null,
            "_view_module": "@jupyter-widgets/base",
            "_view_module_version": "1.2.0",
            "_view_name": "StyleView",
            "description_width": ""
          }
        },
        "67b427128f6a4d9bb1367858f393f525": {
          "model_module": "@jupyter-widgets/controls",
          "model_name": "HBoxModel",
          "model_module_version": "1.5.0",
          "state": {
            "_dom_classes": [],
            "_model_module": "@jupyter-widgets/controls",
            "_model_module_version": "1.5.0",
            "_model_name": "HBoxModel",
            "_view_count": null,
            "_view_module": "@jupyter-widgets/controls",
            "_view_module_version": "1.5.0",
            "_view_name": "HBoxView",
            "box_style": "",
            "children": [
              "IPY_MODEL_8af327bd38ab4b5288e76c5e1c6ea13c",
              "IPY_MODEL_a3166b548900492791afde03aa826c4c",
              "IPY_MODEL_71fd20d40bad493ea5b5e957e49b9f2b"
            ],
            "layout": "IPY_MODEL_3440f3938e3b4f4e9115d5ad87819164"
          }
        },
        "8af327bd38ab4b5288e76c5e1c6ea13c": {
          "model_module": "@jupyter-widgets/controls",
          "model_name": "HTMLModel",
          "model_module_version": "1.5.0",
          "state": {
            "_dom_classes": [],
            "_model_module": "@jupyter-widgets/controls",
            "_model_module_version": "1.5.0",
            "_model_name": "HTMLModel",
            "_view_count": null,
            "_view_module": "@jupyter-widgets/controls",
            "_view_module_version": "1.5.0",
            "_view_name": "HTMLView",
            "description": "",
            "description_tooltip": null,
            "layout": "IPY_MODEL_e026d755bb9d49338533c6607b5059f7",
            "placeholder": "​",
            "style": "IPY_MODEL_dac2a3d0fe2d44ea841ee002c6d32fd9",
            "value": "100%"
          }
        },
        "a3166b548900492791afde03aa826c4c": {
          "model_module": "@jupyter-widgets/controls",
          "model_name": "FloatProgressModel",
          "model_module_version": "1.5.0",
          "state": {
            "_dom_classes": [],
            "_model_module": "@jupyter-widgets/controls",
            "_model_module_version": "1.5.0",
            "_model_name": "FloatProgressModel",
            "_view_count": null,
            "_view_module": "@jupyter-widgets/controls",
            "_view_module_version": "1.5.0",
            "_view_name": "ProgressView",
            "bar_style": "success",
            "description": "",
            "description_tooltip": null,
            "layout": "IPY_MODEL_30f09813d1114eb28a739f3e58104168",
            "max": 135,
            "min": 0,
            "orientation": "horizontal",
            "style": "IPY_MODEL_53d468d7b9a0455799bd6c17127f0175",
            "value": 135
          }
        },
        "71fd20d40bad493ea5b5e957e49b9f2b": {
          "model_module": "@jupyter-widgets/controls",
          "model_name": "HTMLModel",
          "model_module_version": "1.5.0",
          "state": {
            "_dom_classes": [],
            "_model_module": "@jupyter-widgets/controls",
            "_model_module_version": "1.5.0",
            "_model_name": "HTMLModel",
            "_view_count": null,
            "_view_module": "@jupyter-widgets/controls",
            "_view_module_version": "1.5.0",
            "_view_name": "HTMLView",
            "description": "",
            "description_tooltip": null,
            "layout": "IPY_MODEL_9e5a65eba40e41258fa41cb0358de066",
            "placeholder": "​",
            "style": "IPY_MODEL_88415b2cd8c0460bb7ca355af365aec2",
            "value": " 135/135 [00:12&lt;00:00, 12.93ba/s]"
          }
        },
        "3440f3938e3b4f4e9115d5ad87819164": {
          "model_module": "@jupyter-widgets/base",
          "model_name": "LayoutModel",
          "model_module_version": "1.2.0",
          "state": {
            "_model_module": "@jupyter-widgets/base",
            "_model_module_version": "1.2.0",
            "_model_name": "LayoutModel",
            "_view_count": null,
            "_view_module": "@jupyter-widgets/base",
            "_view_module_version": "1.2.0",
            "_view_name": "LayoutView",
            "align_content": null,
            "align_items": null,
            "align_self": null,
            "border": null,
            "bottom": null,
            "display": null,
            "flex": null,
            "flex_flow": null,
            "grid_area": null,
            "grid_auto_columns": null,
            "grid_auto_flow": null,
            "grid_auto_rows": null,
            "grid_column": null,
            "grid_gap": null,
            "grid_row": null,
            "grid_template_areas": null,
            "grid_template_columns": null,
            "grid_template_rows": null,
            "height": null,
            "justify_content": null,
            "justify_items": null,
            "left": null,
            "margin": null,
            "max_height": null,
            "max_width": null,
            "min_height": null,
            "min_width": null,
            "object_fit": null,
            "object_position": null,
            "order": null,
            "overflow": null,
            "overflow_x": null,
            "overflow_y": null,
            "padding": null,
            "right": null,
            "top": null,
            "visibility": null,
            "width": null
          }
        },
        "e026d755bb9d49338533c6607b5059f7": {
          "model_module": "@jupyter-widgets/base",
          "model_name": "LayoutModel",
          "model_module_version": "1.2.0",
          "state": {
            "_model_module": "@jupyter-widgets/base",
            "_model_module_version": "1.2.0",
            "_model_name": "LayoutModel",
            "_view_count": null,
            "_view_module": "@jupyter-widgets/base",
            "_view_module_version": "1.2.0",
            "_view_name": "LayoutView",
            "align_content": null,
            "align_items": null,
            "align_self": null,
            "border": null,
            "bottom": null,
            "display": null,
            "flex": null,
            "flex_flow": null,
            "grid_area": null,
            "grid_auto_columns": null,
            "grid_auto_flow": null,
            "grid_auto_rows": null,
            "grid_column": null,
            "grid_gap": null,
            "grid_row": null,
            "grid_template_areas": null,
            "grid_template_columns": null,
            "grid_template_rows": null,
            "height": null,
            "justify_content": null,
            "justify_items": null,
            "left": null,
            "margin": null,
            "max_height": null,
            "max_width": null,
            "min_height": null,
            "min_width": null,
            "object_fit": null,
            "object_position": null,
            "order": null,
            "overflow": null,
            "overflow_x": null,
            "overflow_y": null,
            "padding": null,
            "right": null,
            "top": null,
            "visibility": null,
            "width": null
          }
        },
        "dac2a3d0fe2d44ea841ee002c6d32fd9": {
          "model_module": "@jupyter-widgets/controls",
          "model_name": "DescriptionStyleModel",
          "model_module_version": "1.5.0",
          "state": {
            "_model_module": "@jupyter-widgets/controls",
            "_model_module_version": "1.5.0",
            "_model_name": "DescriptionStyleModel",
            "_view_count": null,
            "_view_module": "@jupyter-widgets/base",
            "_view_module_version": "1.2.0",
            "_view_name": "StyleView",
            "description_width": ""
          }
        },
        "30f09813d1114eb28a739f3e58104168": {
          "model_module": "@jupyter-widgets/base",
          "model_name": "LayoutModel",
          "model_module_version": "1.2.0",
          "state": {
            "_model_module": "@jupyter-widgets/base",
            "_model_module_version": "1.2.0",
            "_model_name": "LayoutModel",
            "_view_count": null,
            "_view_module": "@jupyter-widgets/base",
            "_view_module_version": "1.2.0",
            "_view_name": "LayoutView",
            "align_content": null,
            "align_items": null,
            "align_self": null,
            "border": null,
            "bottom": null,
            "display": null,
            "flex": null,
            "flex_flow": null,
            "grid_area": null,
            "grid_auto_columns": null,
            "grid_auto_flow": null,
            "grid_auto_rows": null,
            "grid_column": null,
            "grid_gap": null,
            "grid_row": null,
            "grid_template_areas": null,
            "grid_template_columns": null,
            "grid_template_rows": null,
            "height": null,
            "justify_content": null,
            "justify_items": null,
            "left": null,
            "margin": null,
            "max_height": null,
            "max_width": null,
            "min_height": null,
            "min_width": null,
            "object_fit": null,
            "object_position": null,
            "order": null,
            "overflow": null,
            "overflow_x": null,
            "overflow_y": null,
            "padding": null,
            "right": null,
            "top": null,
            "visibility": null,
            "width": null
          }
        },
        "53d468d7b9a0455799bd6c17127f0175": {
          "model_module": "@jupyter-widgets/controls",
          "model_name": "ProgressStyleModel",
          "model_module_version": "1.5.0",
          "state": {
            "_model_module": "@jupyter-widgets/controls",
            "_model_module_version": "1.5.0",
            "_model_name": "ProgressStyleModel",
            "_view_count": null,
            "_view_module": "@jupyter-widgets/base",
            "_view_module_version": "1.2.0",
            "_view_name": "StyleView",
            "bar_color": null,
            "description_width": ""
          }
        },
        "9e5a65eba40e41258fa41cb0358de066": {
          "model_module": "@jupyter-widgets/base",
          "model_name": "LayoutModel",
          "model_module_version": "1.2.0",
          "state": {
            "_model_module": "@jupyter-widgets/base",
            "_model_module_version": "1.2.0",
            "_model_name": "LayoutModel",
            "_view_count": null,
            "_view_module": "@jupyter-widgets/base",
            "_view_module_version": "1.2.0",
            "_view_name": "LayoutView",
            "align_content": null,
            "align_items": null,
            "align_self": null,
            "border": null,
            "bottom": null,
            "display": null,
            "flex": null,
            "flex_flow": null,
            "grid_area": null,
            "grid_auto_columns": null,
            "grid_auto_flow": null,
            "grid_auto_rows": null,
            "grid_column": null,
            "grid_gap": null,
            "grid_row": null,
            "grid_template_areas": null,
            "grid_template_columns": null,
            "grid_template_rows": null,
            "height": null,
            "justify_content": null,
            "justify_items": null,
            "left": null,
            "margin": null,
            "max_height": null,
            "max_width": null,
            "min_height": null,
            "min_width": null,
            "object_fit": null,
            "object_position": null,
            "order": null,
            "overflow": null,
            "overflow_x": null,
            "overflow_y": null,
            "padding": null,
            "right": null,
            "top": null,
            "visibility": null,
            "width": null
          }
        },
        "88415b2cd8c0460bb7ca355af365aec2": {
          "model_module": "@jupyter-widgets/controls",
          "model_name": "DescriptionStyleModel",
          "model_module_version": "1.5.0",
          "state": {
            "_model_module": "@jupyter-widgets/controls",
            "_model_module_version": "1.5.0",
            "_model_name": "DescriptionStyleModel",
            "_view_count": null,
            "_view_module": "@jupyter-widgets/base",
            "_view_module_version": "1.2.0",
            "_view_name": "StyleView",
            "description_width": ""
          }
        },
        "e23d3cb7767d4d3992c15ccb01c28977": {
          "model_module": "@jupyter-widgets/controls",
          "model_name": "HBoxModel",
          "model_module_version": "1.5.0",
          "state": {
            "_dom_classes": [],
            "_model_module": "@jupyter-widgets/controls",
            "_model_module_version": "1.5.0",
            "_model_name": "HBoxModel",
            "_view_count": null,
            "_view_module": "@jupyter-widgets/controls",
            "_view_module_version": "1.5.0",
            "_view_name": "HBoxView",
            "box_style": "",
            "children": [
              "IPY_MODEL_f5832c866b8c4da398b039fb25699443",
              "IPY_MODEL_45244234a03649ef9569adda17a19c0c",
              "IPY_MODEL_5e5984a6593e44e18f29a7b97a48cf4f"
            ],
            "layout": "IPY_MODEL_96e01be1248344948d2cdec769d939f2"
          }
        },
        "f5832c866b8c4da398b039fb25699443": {
          "model_module": "@jupyter-widgets/controls",
          "model_name": "HTMLModel",
          "model_module_version": "1.5.0",
          "state": {
            "_dom_classes": [],
            "_model_module": "@jupyter-widgets/controls",
            "_model_module_version": "1.5.0",
            "_model_name": "HTMLModel",
            "_view_count": null,
            "_view_module": "@jupyter-widgets/controls",
            "_view_module_version": "1.5.0",
            "_view_name": "HTMLView",
            "description": "",
            "description_tooltip": null,
            "layout": "IPY_MODEL_8070632825dc474d974713c8a84c1f4e",
            "placeholder": "​",
            "style": "IPY_MODEL_585a087db45c49a2813e0b3beb0590e2",
            "value": "100%"
          }
        },
        "45244234a03649ef9569adda17a19c0c": {
          "model_module": "@jupyter-widgets/controls",
          "model_name": "FloatProgressModel",
          "model_module_version": "1.5.0",
          "state": {
            "_dom_classes": [],
            "_model_module": "@jupyter-widgets/controls",
            "_model_module_version": "1.5.0",
            "_model_name": "FloatProgressModel",
            "_view_count": null,
            "_view_module": "@jupyter-widgets/controls",
            "_view_module_version": "1.5.0",
            "_view_name": "ProgressView",
            "bar_style": "success",
            "description": "",
            "description_tooltip": null,
            "layout": "IPY_MODEL_a2b27e817b804980b3cedcca46201e6a",
            "max": 108,
            "min": 0,
            "orientation": "horizontal",
            "style": "IPY_MODEL_2e81e32775d94f3e9354944a3b434b0a",
            "value": 108
          }
        },
        "5e5984a6593e44e18f29a7b97a48cf4f": {
          "model_module": "@jupyter-widgets/controls",
          "model_name": "HTMLModel",
          "model_module_version": "1.5.0",
          "state": {
            "_dom_classes": [],
            "_model_module": "@jupyter-widgets/controls",
            "_model_module_version": "1.5.0",
            "_model_name": "HTMLModel",
            "_view_count": null,
            "_view_module": "@jupyter-widgets/controls",
            "_view_module_version": "1.5.0",
            "_view_name": "HTMLView",
            "description": "",
            "description_tooltip": null,
            "layout": "IPY_MODEL_d819737030dd4b47a2ed1c16bc31dc0f",
            "placeholder": "​",
            "style": "IPY_MODEL_45dc1738b09d40bdb113a46007e8dd43",
            "value": " 108/108 [00:10&lt;00:00, 10.40ba/s]"
          }
        },
        "96e01be1248344948d2cdec769d939f2": {
          "model_module": "@jupyter-widgets/base",
          "model_name": "LayoutModel",
          "model_module_version": "1.2.0",
          "state": {
            "_model_module": "@jupyter-widgets/base",
            "_model_module_version": "1.2.0",
            "_model_name": "LayoutModel",
            "_view_count": null,
            "_view_module": "@jupyter-widgets/base",
            "_view_module_version": "1.2.0",
            "_view_name": "LayoutView",
            "align_content": null,
            "align_items": null,
            "align_self": null,
            "border": null,
            "bottom": null,
            "display": null,
            "flex": null,
            "flex_flow": null,
            "grid_area": null,
            "grid_auto_columns": null,
            "grid_auto_flow": null,
            "grid_auto_rows": null,
            "grid_column": null,
            "grid_gap": null,
            "grid_row": null,
            "grid_template_areas": null,
            "grid_template_columns": null,
            "grid_template_rows": null,
            "height": null,
            "justify_content": null,
            "justify_items": null,
            "left": null,
            "margin": null,
            "max_height": null,
            "max_width": null,
            "min_height": null,
            "min_width": null,
            "object_fit": null,
            "object_position": null,
            "order": null,
            "overflow": null,
            "overflow_x": null,
            "overflow_y": null,
            "padding": null,
            "right": null,
            "top": null,
            "visibility": null,
            "width": null
          }
        },
        "8070632825dc474d974713c8a84c1f4e": {
          "model_module": "@jupyter-widgets/base",
          "model_name": "LayoutModel",
          "model_module_version": "1.2.0",
          "state": {
            "_model_module": "@jupyter-widgets/base",
            "_model_module_version": "1.2.0",
            "_model_name": "LayoutModel",
            "_view_count": null,
            "_view_module": "@jupyter-widgets/base",
            "_view_module_version": "1.2.0",
            "_view_name": "LayoutView",
            "align_content": null,
            "align_items": null,
            "align_self": null,
            "border": null,
            "bottom": null,
            "display": null,
            "flex": null,
            "flex_flow": null,
            "grid_area": null,
            "grid_auto_columns": null,
            "grid_auto_flow": null,
            "grid_auto_rows": null,
            "grid_column": null,
            "grid_gap": null,
            "grid_row": null,
            "grid_template_areas": null,
            "grid_template_columns": null,
            "grid_template_rows": null,
            "height": null,
            "justify_content": null,
            "justify_items": null,
            "left": null,
            "margin": null,
            "max_height": null,
            "max_width": null,
            "min_height": null,
            "min_width": null,
            "object_fit": null,
            "object_position": null,
            "order": null,
            "overflow": null,
            "overflow_x": null,
            "overflow_y": null,
            "padding": null,
            "right": null,
            "top": null,
            "visibility": null,
            "width": null
          }
        },
        "585a087db45c49a2813e0b3beb0590e2": {
          "model_module": "@jupyter-widgets/controls",
          "model_name": "DescriptionStyleModel",
          "model_module_version": "1.5.0",
          "state": {
            "_model_module": "@jupyter-widgets/controls",
            "_model_module_version": "1.5.0",
            "_model_name": "DescriptionStyleModel",
            "_view_count": null,
            "_view_module": "@jupyter-widgets/base",
            "_view_module_version": "1.2.0",
            "_view_name": "StyleView",
            "description_width": ""
          }
        },
        "a2b27e817b804980b3cedcca46201e6a": {
          "model_module": "@jupyter-widgets/base",
          "model_name": "LayoutModel",
          "model_module_version": "1.2.0",
          "state": {
            "_model_module": "@jupyter-widgets/base",
            "_model_module_version": "1.2.0",
            "_model_name": "LayoutModel",
            "_view_count": null,
            "_view_module": "@jupyter-widgets/base",
            "_view_module_version": "1.2.0",
            "_view_name": "LayoutView",
            "align_content": null,
            "align_items": null,
            "align_self": null,
            "border": null,
            "bottom": null,
            "display": null,
            "flex": null,
            "flex_flow": null,
            "grid_area": null,
            "grid_auto_columns": null,
            "grid_auto_flow": null,
            "grid_auto_rows": null,
            "grid_column": null,
            "grid_gap": null,
            "grid_row": null,
            "grid_template_areas": null,
            "grid_template_columns": null,
            "grid_template_rows": null,
            "height": null,
            "justify_content": null,
            "justify_items": null,
            "left": null,
            "margin": null,
            "max_height": null,
            "max_width": null,
            "min_height": null,
            "min_width": null,
            "object_fit": null,
            "object_position": null,
            "order": null,
            "overflow": null,
            "overflow_x": null,
            "overflow_y": null,
            "padding": null,
            "right": null,
            "top": null,
            "visibility": null,
            "width": null
          }
        },
        "2e81e32775d94f3e9354944a3b434b0a": {
          "model_module": "@jupyter-widgets/controls",
          "model_name": "ProgressStyleModel",
          "model_module_version": "1.5.0",
          "state": {
            "_model_module": "@jupyter-widgets/controls",
            "_model_module_version": "1.5.0",
            "_model_name": "ProgressStyleModel",
            "_view_count": null,
            "_view_module": "@jupyter-widgets/base",
            "_view_module_version": "1.2.0",
            "_view_name": "StyleView",
            "bar_color": null,
            "description_width": ""
          }
        },
        "d819737030dd4b47a2ed1c16bc31dc0f": {
          "model_module": "@jupyter-widgets/base",
          "model_name": "LayoutModel",
          "model_module_version": "1.2.0",
          "state": {
            "_model_module": "@jupyter-widgets/base",
            "_model_module_version": "1.2.0",
            "_model_name": "LayoutModel",
            "_view_count": null,
            "_view_module": "@jupyter-widgets/base",
            "_view_module_version": "1.2.0",
            "_view_name": "LayoutView",
            "align_content": null,
            "align_items": null,
            "align_self": null,
            "border": null,
            "bottom": null,
            "display": null,
            "flex": null,
            "flex_flow": null,
            "grid_area": null,
            "grid_auto_columns": null,
            "grid_auto_flow": null,
            "grid_auto_rows": null,
            "grid_column": null,
            "grid_gap": null,
            "grid_row": null,
            "grid_template_areas": null,
            "grid_template_columns": null,
            "grid_template_rows": null,
            "height": null,
            "justify_content": null,
            "justify_items": null,
            "left": null,
            "margin": null,
            "max_height": null,
            "max_width": null,
            "min_height": null,
            "min_width": null,
            "object_fit": null,
            "object_position": null,
            "order": null,
            "overflow": null,
            "overflow_x": null,
            "overflow_y": null,
            "padding": null,
            "right": null,
            "top": null,
            "visibility": null,
            "width": null
          }
        },
        "45dc1738b09d40bdb113a46007e8dd43": {
          "model_module": "@jupyter-widgets/controls",
          "model_name": "DescriptionStyleModel",
          "model_module_version": "1.5.0",
          "state": {
            "_model_module": "@jupyter-widgets/controls",
            "_model_module_version": "1.5.0",
            "_model_name": "DescriptionStyleModel",
            "_view_count": null,
            "_view_module": "@jupyter-widgets/base",
            "_view_module_version": "1.2.0",
            "_view_name": "StyleView",
            "description_width": ""
          }
        },
        "88870a8a86e948ccbd9d9e8d644c8694": {
          "model_module": "@jupyter-widgets/controls",
          "model_name": "HBoxModel",
          "model_module_version": "1.5.0",
          "state": {
            "_dom_classes": [],
            "_model_module": "@jupyter-widgets/controls",
            "_model_module_version": "1.5.0",
            "_model_name": "HBoxModel",
            "_view_count": null,
            "_view_module": "@jupyter-widgets/controls",
            "_view_module_version": "1.5.0",
            "_view_name": "HBoxView",
            "box_style": "",
            "children": [
              "IPY_MODEL_131c97045e754f0b9d7c736cf37538ba",
              "IPY_MODEL_af779583bd724208b2fe6c31e480c2d6",
              "IPY_MODEL_e9ee73921d0e4b04a70b4828bf9dabc5"
            ],
            "layout": "IPY_MODEL_367b8c4ba7b4434099df48a2fd5c85d1"
          }
        },
        "131c97045e754f0b9d7c736cf37538ba": {
          "model_module": "@jupyter-widgets/controls",
          "model_name": "HTMLModel",
          "model_module_version": "1.5.0",
          "state": {
            "_dom_classes": [],
            "_model_module": "@jupyter-widgets/controls",
            "_model_module_version": "1.5.0",
            "_model_name": "HTMLModel",
            "_view_count": null,
            "_view_module": "@jupyter-widgets/controls",
            "_view_module_version": "1.5.0",
            "_view_name": "HTMLView",
            "description": "",
            "description_tooltip": null,
            "layout": "IPY_MODEL_c5c7e073f45d46059f89b25de146744a",
            "placeholder": "​",
            "style": "IPY_MODEL_2ad20acced3849938715350c2fc73c07",
            "value": "Downloading: 100%"
          }
        },
        "af779583bd724208b2fe6c31e480c2d6": {
          "model_module": "@jupyter-widgets/controls",
          "model_name": "FloatProgressModel",
          "model_module_version": "1.5.0",
          "state": {
            "_dom_classes": [],
            "_model_module": "@jupyter-widgets/controls",
            "_model_module_version": "1.5.0",
            "_model_name": "FloatProgressModel",
            "_view_count": null,
            "_view_module": "@jupyter-widgets/controls",
            "_view_module_version": "1.5.0",
            "_view_name": "ProgressView",
            "bar_style": "success",
            "description": "",
            "description_tooltip": null,
            "layout": "IPY_MODEL_e424f80fbdc94476a462141628acaede",
            "max": 792,
            "min": 0,
            "orientation": "horizontal",
            "style": "IPY_MODEL_26936972dc874ccaad363fb95e18dfe1",
            "value": 792
          }
        },
        "e9ee73921d0e4b04a70b4828bf9dabc5": {
          "model_module": "@jupyter-widgets/controls",
          "model_name": "HTMLModel",
          "model_module_version": "1.5.0",
          "state": {
            "_dom_classes": [],
            "_model_module": "@jupyter-widgets/controls",
            "_model_module_version": "1.5.0",
            "_model_name": "HTMLModel",
            "_view_count": null,
            "_view_module": "@jupyter-widgets/controls",
            "_view_module_version": "1.5.0",
            "_view_name": "HTMLView",
            "description": "",
            "description_tooltip": null,
            "layout": "IPY_MODEL_6c7d73c85d5e4fafb807c9439e157282",
            "placeholder": "​",
            "style": "IPY_MODEL_712280a675294d2e998b5e3927a203c6",
            "value": " 792/792 [00:00&lt;00:00, 27.3kB/s]"
          }
        },
        "367b8c4ba7b4434099df48a2fd5c85d1": {
          "model_module": "@jupyter-widgets/base",
          "model_name": "LayoutModel",
          "model_module_version": "1.2.0",
          "state": {
            "_model_module": "@jupyter-widgets/base",
            "_model_module_version": "1.2.0",
            "_model_name": "LayoutModel",
            "_view_count": null,
            "_view_module": "@jupyter-widgets/base",
            "_view_module_version": "1.2.0",
            "_view_name": "LayoutView",
            "align_content": null,
            "align_items": null,
            "align_self": null,
            "border": null,
            "bottom": null,
            "display": null,
            "flex": null,
            "flex_flow": null,
            "grid_area": null,
            "grid_auto_columns": null,
            "grid_auto_flow": null,
            "grid_auto_rows": null,
            "grid_column": null,
            "grid_gap": null,
            "grid_row": null,
            "grid_template_areas": null,
            "grid_template_columns": null,
            "grid_template_rows": null,
            "height": null,
            "justify_content": null,
            "justify_items": null,
            "left": null,
            "margin": null,
            "max_height": null,
            "max_width": null,
            "min_height": null,
            "min_width": null,
            "object_fit": null,
            "object_position": null,
            "order": null,
            "overflow": null,
            "overflow_x": null,
            "overflow_y": null,
            "padding": null,
            "right": null,
            "top": null,
            "visibility": null,
            "width": null
          }
        },
        "c5c7e073f45d46059f89b25de146744a": {
          "model_module": "@jupyter-widgets/base",
          "model_name": "LayoutModel",
          "model_module_version": "1.2.0",
          "state": {
            "_model_module": "@jupyter-widgets/base",
            "_model_module_version": "1.2.0",
            "_model_name": "LayoutModel",
            "_view_count": null,
            "_view_module": "@jupyter-widgets/base",
            "_view_module_version": "1.2.0",
            "_view_name": "LayoutView",
            "align_content": null,
            "align_items": null,
            "align_self": null,
            "border": null,
            "bottom": null,
            "display": null,
            "flex": null,
            "flex_flow": null,
            "grid_area": null,
            "grid_auto_columns": null,
            "grid_auto_flow": null,
            "grid_auto_rows": null,
            "grid_column": null,
            "grid_gap": null,
            "grid_row": null,
            "grid_template_areas": null,
            "grid_template_columns": null,
            "grid_template_rows": null,
            "height": null,
            "justify_content": null,
            "justify_items": null,
            "left": null,
            "margin": null,
            "max_height": null,
            "max_width": null,
            "min_height": null,
            "min_width": null,
            "object_fit": null,
            "object_position": null,
            "order": null,
            "overflow": null,
            "overflow_x": null,
            "overflow_y": null,
            "padding": null,
            "right": null,
            "top": null,
            "visibility": null,
            "width": null
          }
        },
        "2ad20acced3849938715350c2fc73c07": {
          "model_module": "@jupyter-widgets/controls",
          "model_name": "DescriptionStyleModel",
          "model_module_version": "1.5.0",
          "state": {
            "_model_module": "@jupyter-widgets/controls",
            "_model_module_version": "1.5.0",
            "_model_name": "DescriptionStyleModel",
            "_view_count": null,
            "_view_module": "@jupyter-widgets/base",
            "_view_module_version": "1.2.0",
            "_view_name": "StyleView",
            "description_width": ""
          }
        },
        "e424f80fbdc94476a462141628acaede": {
          "model_module": "@jupyter-widgets/base",
          "model_name": "LayoutModel",
          "model_module_version": "1.2.0",
          "state": {
            "_model_module": "@jupyter-widgets/base",
            "_model_module_version": "1.2.0",
            "_model_name": "LayoutModel",
            "_view_count": null,
            "_view_module": "@jupyter-widgets/base",
            "_view_module_version": "1.2.0",
            "_view_name": "LayoutView",
            "align_content": null,
            "align_items": null,
            "align_self": null,
            "border": null,
            "bottom": null,
            "display": null,
            "flex": null,
            "flex_flow": null,
            "grid_area": null,
            "grid_auto_columns": null,
            "grid_auto_flow": null,
            "grid_auto_rows": null,
            "grid_column": null,
            "grid_gap": null,
            "grid_row": null,
            "grid_template_areas": null,
            "grid_template_columns": null,
            "grid_template_rows": null,
            "height": null,
            "justify_content": null,
            "justify_items": null,
            "left": null,
            "margin": null,
            "max_height": null,
            "max_width": null,
            "min_height": null,
            "min_width": null,
            "object_fit": null,
            "object_position": null,
            "order": null,
            "overflow": null,
            "overflow_x": null,
            "overflow_y": null,
            "padding": null,
            "right": null,
            "top": null,
            "visibility": null,
            "width": null
          }
        },
        "26936972dc874ccaad363fb95e18dfe1": {
          "model_module": "@jupyter-widgets/controls",
          "model_name": "ProgressStyleModel",
          "model_module_version": "1.5.0",
          "state": {
            "_model_module": "@jupyter-widgets/controls",
            "_model_module_version": "1.5.0",
            "_model_name": "ProgressStyleModel",
            "_view_count": null,
            "_view_module": "@jupyter-widgets/base",
            "_view_module_version": "1.2.0",
            "_view_name": "StyleView",
            "bar_color": null,
            "description_width": ""
          }
        },
        "6c7d73c85d5e4fafb807c9439e157282": {
          "model_module": "@jupyter-widgets/base",
          "model_name": "LayoutModel",
          "model_module_version": "1.2.0",
          "state": {
            "_model_module": "@jupyter-widgets/base",
            "_model_module_version": "1.2.0",
            "_model_name": "LayoutModel",
            "_view_count": null,
            "_view_module": "@jupyter-widgets/base",
            "_view_module_version": "1.2.0",
            "_view_name": "LayoutView",
            "align_content": null,
            "align_items": null,
            "align_self": null,
            "border": null,
            "bottom": null,
            "display": null,
            "flex": null,
            "flex_flow": null,
            "grid_area": null,
            "grid_auto_columns": null,
            "grid_auto_flow": null,
            "grid_auto_rows": null,
            "grid_column": null,
            "grid_gap": null,
            "grid_row": null,
            "grid_template_areas": null,
            "grid_template_columns": null,
            "grid_template_rows": null,
            "height": null,
            "justify_content": null,
            "justify_items": null,
            "left": null,
            "margin": null,
            "max_height": null,
            "max_width": null,
            "min_height": null,
            "min_width": null,
            "object_fit": null,
            "object_position": null,
            "order": null,
            "overflow": null,
            "overflow_x": null,
            "overflow_y": null,
            "padding": null,
            "right": null,
            "top": null,
            "visibility": null,
            "width": null
          }
        },
        "712280a675294d2e998b5e3927a203c6": {
          "model_module": "@jupyter-widgets/controls",
          "model_name": "DescriptionStyleModel",
          "model_module_version": "1.5.0",
          "state": {
            "_model_module": "@jupyter-widgets/controls",
            "_model_module_version": "1.5.0",
            "_model_name": "DescriptionStyleModel",
            "_view_count": null,
            "_view_module": "@jupyter-widgets/base",
            "_view_module_version": "1.2.0",
            "_view_name": "StyleView",
            "description_width": ""
          }
        },
        "ee54360f3ffd4fe6918869650e087735": {
          "model_module": "@jupyter-widgets/controls",
          "model_name": "HBoxModel",
          "model_module_version": "1.5.0",
          "state": {
            "_dom_classes": [],
            "_model_module": "@jupyter-widgets/controls",
            "_model_module_version": "1.5.0",
            "_model_name": "HBoxModel",
            "_view_count": null,
            "_view_module": "@jupyter-widgets/controls",
            "_view_module_version": "1.5.0",
            "_view_name": "HBoxView",
            "box_style": "",
            "children": [
              "IPY_MODEL_1e782cf94c5841bb9018caf2b8a39086",
              "IPY_MODEL_da939339603d4f76927149b9ca49522c",
              "IPY_MODEL_fd2856c9be8d43a294d81249e2345963"
            ],
            "layout": "IPY_MODEL_4235c740e76440b39d3cf0f7f8cfb8f0"
          }
        },
        "1e782cf94c5841bb9018caf2b8a39086": {
          "model_module": "@jupyter-widgets/controls",
          "model_name": "HTMLModel",
          "model_module_version": "1.5.0",
          "state": {
            "_dom_classes": [],
            "_model_module": "@jupyter-widgets/controls",
            "_model_module_version": "1.5.0",
            "_model_name": "HTMLModel",
            "_view_count": null,
            "_view_module": "@jupyter-widgets/controls",
            "_view_module_version": "1.5.0",
            "_view_name": "HTMLView",
            "description": "",
            "description_tooltip": null,
            "layout": "IPY_MODEL_a0501a8e910c4362845d3507b00af99a",
            "placeholder": "​",
            "style": "IPY_MODEL_97952fbb746c4912ae3c1b298eb20ea8",
            "value": "Downloading: 100%"
          }
        },
        "da939339603d4f76927149b9ca49522c": {
          "model_module": "@jupyter-widgets/controls",
          "model_name": "FloatProgressModel",
          "model_module_version": "1.5.0",
          "state": {
            "_dom_classes": [],
            "_model_module": "@jupyter-widgets/controls",
            "_model_module_version": "1.5.0",
            "_model_name": "FloatProgressModel",
            "_view_count": null,
            "_view_module": "@jupyter-widgets/controls",
            "_view_module_version": "1.5.0",
            "_view_name": "ProgressView",
            "bar_style": "success",
            "description": "",
            "description_tooltip": null,
            "layout": "IPY_MODEL_c45f4b36b28541588d9a40d3cf0673c9",
            "max": 1811625,
            "min": 0,
            "orientation": "horizontal",
            "style": "IPY_MODEL_7cd09ff23c7f48b1994a4fd6375af213",
            "value": 1811625
          }
        },
        "fd2856c9be8d43a294d81249e2345963": {
          "model_module": "@jupyter-widgets/controls",
          "model_name": "HTMLModel",
          "model_module_version": "1.5.0",
          "state": {
            "_dom_classes": [],
            "_model_module": "@jupyter-widgets/controls",
            "_model_module_version": "1.5.0",
            "_model_name": "HTMLModel",
            "_view_count": null,
            "_view_module": "@jupyter-widgets/controls",
            "_view_module_version": "1.5.0",
            "_view_name": "HTMLView",
            "description": "",
            "description_tooltip": null,
            "layout": "IPY_MODEL_56ad7aadb864481b99f641158bfefd81",
            "placeholder": "​",
            "style": "IPY_MODEL_1e1e270304fc4656bbaf8190e86f77d5",
            "value": " 1.81M/1.81M [00:01&lt;00:00, 1.14MB/s]"
          }
        },
        "4235c740e76440b39d3cf0f7f8cfb8f0": {
          "model_module": "@jupyter-widgets/base",
          "model_name": "LayoutModel",
          "model_module_version": "1.2.0",
          "state": {
            "_model_module": "@jupyter-widgets/base",
            "_model_module_version": "1.2.0",
            "_model_name": "LayoutModel",
            "_view_count": null,
            "_view_module": "@jupyter-widgets/base",
            "_view_module_version": "1.2.0",
            "_view_name": "LayoutView",
            "align_content": null,
            "align_items": null,
            "align_self": null,
            "border": null,
            "bottom": null,
            "display": null,
            "flex": null,
            "flex_flow": null,
            "grid_area": null,
            "grid_auto_columns": null,
            "grid_auto_flow": null,
            "grid_auto_rows": null,
            "grid_column": null,
            "grid_gap": null,
            "grid_row": null,
            "grid_template_areas": null,
            "grid_template_columns": null,
            "grid_template_rows": null,
            "height": null,
            "justify_content": null,
            "justify_items": null,
            "left": null,
            "margin": null,
            "max_height": null,
            "max_width": null,
            "min_height": null,
            "min_width": null,
            "object_fit": null,
            "object_position": null,
            "order": null,
            "overflow": null,
            "overflow_x": null,
            "overflow_y": null,
            "padding": null,
            "right": null,
            "top": null,
            "visibility": null,
            "width": null
          }
        },
        "a0501a8e910c4362845d3507b00af99a": {
          "model_module": "@jupyter-widgets/base",
          "model_name": "LayoutModel",
          "model_module_version": "1.2.0",
          "state": {
            "_model_module": "@jupyter-widgets/base",
            "_model_module_version": "1.2.0",
            "_model_name": "LayoutModel",
            "_view_count": null,
            "_view_module": "@jupyter-widgets/base",
            "_view_module_version": "1.2.0",
            "_view_name": "LayoutView",
            "align_content": null,
            "align_items": null,
            "align_self": null,
            "border": null,
            "bottom": null,
            "display": null,
            "flex": null,
            "flex_flow": null,
            "grid_area": null,
            "grid_auto_columns": null,
            "grid_auto_flow": null,
            "grid_auto_rows": null,
            "grid_column": null,
            "grid_gap": null,
            "grid_row": null,
            "grid_template_areas": null,
            "grid_template_columns": null,
            "grid_template_rows": null,
            "height": null,
            "justify_content": null,
            "justify_items": null,
            "left": null,
            "margin": null,
            "max_height": null,
            "max_width": null,
            "min_height": null,
            "min_width": null,
            "object_fit": null,
            "object_position": null,
            "order": null,
            "overflow": null,
            "overflow_x": null,
            "overflow_y": null,
            "padding": null,
            "right": null,
            "top": null,
            "visibility": null,
            "width": null
          }
        },
        "97952fbb746c4912ae3c1b298eb20ea8": {
          "model_module": "@jupyter-widgets/controls",
          "model_name": "DescriptionStyleModel",
          "model_module_version": "1.5.0",
          "state": {
            "_model_module": "@jupyter-widgets/controls",
            "_model_module_version": "1.5.0",
            "_model_name": "DescriptionStyleModel",
            "_view_count": null,
            "_view_module": "@jupyter-widgets/base",
            "_view_module_version": "1.2.0",
            "_view_name": "StyleView",
            "description_width": ""
          }
        },
        "c45f4b36b28541588d9a40d3cf0673c9": {
          "model_module": "@jupyter-widgets/base",
          "model_name": "LayoutModel",
          "model_module_version": "1.2.0",
          "state": {
            "_model_module": "@jupyter-widgets/base",
            "_model_module_version": "1.2.0",
            "_model_name": "LayoutModel",
            "_view_count": null,
            "_view_module": "@jupyter-widgets/base",
            "_view_module_version": "1.2.0",
            "_view_name": "LayoutView",
            "align_content": null,
            "align_items": null,
            "align_self": null,
            "border": null,
            "bottom": null,
            "display": null,
            "flex": null,
            "flex_flow": null,
            "grid_area": null,
            "grid_auto_columns": null,
            "grid_auto_flow": null,
            "grid_auto_rows": null,
            "grid_column": null,
            "grid_gap": null,
            "grid_row": null,
            "grid_template_areas": null,
            "grid_template_columns": null,
            "grid_template_rows": null,
            "height": null,
            "justify_content": null,
            "justify_items": null,
            "left": null,
            "margin": null,
            "max_height": null,
            "max_width": null,
            "min_height": null,
            "min_width": null,
            "object_fit": null,
            "object_position": null,
            "order": null,
            "overflow": null,
            "overflow_x": null,
            "overflow_y": null,
            "padding": null,
            "right": null,
            "top": null,
            "visibility": null,
            "width": null
          }
        },
        "7cd09ff23c7f48b1994a4fd6375af213": {
          "model_module": "@jupyter-widgets/controls",
          "model_name": "ProgressStyleModel",
          "model_module_version": "1.5.0",
          "state": {
            "_model_module": "@jupyter-widgets/controls",
            "_model_module_version": "1.5.0",
            "_model_name": "ProgressStyleModel",
            "_view_count": null,
            "_view_module": "@jupyter-widgets/base",
            "_view_module_version": "1.2.0",
            "_view_name": "StyleView",
            "bar_color": null,
            "description_width": ""
          }
        },
        "56ad7aadb864481b99f641158bfefd81": {
          "model_module": "@jupyter-widgets/base",
          "model_name": "LayoutModel",
          "model_module_version": "1.2.0",
          "state": {
            "_model_module": "@jupyter-widgets/base",
            "_model_module_version": "1.2.0",
            "_model_name": "LayoutModel",
            "_view_count": null,
            "_view_module": "@jupyter-widgets/base",
            "_view_module_version": "1.2.0",
            "_view_name": "LayoutView",
            "align_content": null,
            "align_items": null,
            "align_self": null,
            "border": null,
            "bottom": null,
            "display": null,
            "flex": null,
            "flex_flow": null,
            "grid_area": null,
            "grid_auto_columns": null,
            "grid_auto_flow": null,
            "grid_auto_rows": null,
            "grid_column": null,
            "grid_gap": null,
            "grid_row": null,
            "grid_template_areas": null,
            "grid_template_columns": null,
            "grid_template_rows": null,
            "height": null,
            "justify_content": null,
            "justify_items": null,
            "left": null,
            "margin": null,
            "max_height": null,
            "max_width": null,
            "min_height": null,
            "min_width": null,
            "object_fit": null,
            "object_position": null,
            "order": null,
            "overflow": null,
            "overflow_x": null,
            "overflow_y": null,
            "padding": null,
            "right": null,
            "top": null,
            "visibility": null,
            "width": null
          }
        },
        "1e1e270304fc4656bbaf8190e86f77d5": {
          "model_module": "@jupyter-widgets/controls",
          "model_name": "DescriptionStyleModel",
          "model_module_version": "1.5.0",
          "state": {
            "_model_module": "@jupyter-widgets/controls",
            "_model_module_version": "1.5.0",
            "_model_name": "DescriptionStyleModel",
            "_view_count": null,
            "_view_module": "@jupyter-widgets/base",
            "_view_module_version": "1.2.0",
            "_view_name": "StyleView",
            "description_width": ""
          }
        },
        "83190fee9dfd4908965820f20e0579bc": {
          "model_module": "@jupyter-widgets/controls",
          "model_name": "HBoxModel",
          "model_module_version": "1.5.0",
          "state": {
            "_dom_classes": [],
            "_model_module": "@jupyter-widgets/controls",
            "_model_module_version": "1.5.0",
            "_model_name": "HBoxModel",
            "_view_count": null,
            "_view_module": "@jupyter-widgets/controls",
            "_view_module_version": "1.5.0",
            "_view_name": "HBoxView",
            "box_style": "",
            "children": [
              "IPY_MODEL_ef5e0c8b24d14bd49f5fe92630c4a940",
              "IPY_MODEL_40a61fb55ea04abb84cc142494d8d4a6",
              "IPY_MODEL_e93acfb40efb4167a522d83da48b1098"
            ],
            "layout": "IPY_MODEL_49ee600a64ec4724a6bb9b0d329e3eba"
          }
        },
        "ef5e0c8b24d14bd49f5fe92630c4a940": {
          "model_module": "@jupyter-widgets/controls",
          "model_name": "HTMLModel",
          "model_module_version": "1.5.0",
          "state": {
            "_dom_classes": [],
            "_model_module": "@jupyter-widgets/controls",
            "_model_module_version": "1.5.0",
            "_model_name": "HTMLModel",
            "_view_count": null,
            "_view_module": "@jupyter-widgets/controls",
            "_view_module_version": "1.5.0",
            "_view_name": "HTMLView",
            "description": "",
            "description_tooltip": null,
            "layout": "IPY_MODEL_0bac9a94bed84867839232e8feb829ac",
            "placeholder": "​",
            "style": "IPY_MODEL_18a403818034472fbd10f390140b4e55",
            "value": "Downloading: 100%"
          }
        },
        "40a61fb55ea04abb84cc142494d8d4a6": {
          "model_module": "@jupyter-widgets/controls",
          "model_name": "FloatProgressModel",
          "model_module_version": "1.5.0",
          "state": {
            "_dom_classes": [],
            "_model_module": "@jupyter-widgets/controls",
            "_model_module_version": "1.5.0",
            "_model_name": "FloatProgressModel",
            "_view_count": null,
            "_view_module": "@jupyter-widgets/controls",
            "_view_module_version": "1.5.0",
            "_view_name": "ProgressView",
            "bar_style": "success",
            "description": "",
            "description_tooltip": null,
            "layout": "IPY_MODEL_15d5ff4640334b7398ba6ae545c119eb",
            "max": 1369443,
            "min": 0,
            "orientation": "horizontal",
            "style": "IPY_MODEL_3cb470358d284fb6a07a6829be17ee65",
            "value": 1369443
          }
        },
        "e93acfb40efb4167a522d83da48b1098": {
          "model_module": "@jupyter-widgets/controls",
          "model_name": "HTMLModel",
          "model_module_version": "1.5.0",
          "state": {
            "_dom_classes": [],
            "_model_module": "@jupyter-widgets/controls",
            "_model_module_version": "1.5.0",
            "_model_name": "HTMLModel",
            "_view_count": null,
            "_view_module": "@jupyter-widgets/controls",
            "_view_module_version": "1.5.0",
            "_view_name": "HTMLView",
            "description": "",
            "description_tooltip": null,
            "layout": "IPY_MODEL_91b69ed728b44b7fb71d1e14932a9f3b",
            "placeholder": "​",
            "style": "IPY_MODEL_b4a272292a7847e385ccc6acd38e8268",
            "value": " 1.37M/1.37M [00:01&lt;00:00, 1.08MB/s]"
          }
        },
        "49ee600a64ec4724a6bb9b0d329e3eba": {
          "model_module": "@jupyter-widgets/base",
          "model_name": "LayoutModel",
          "model_module_version": "1.2.0",
          "state": {
            "_model_module": "@jupyter-widgets/base",
            "_model_module_version": "1.2.0",
            "_model_name": "LayoutModel",
            "_view_count": null,
            "_view_module": "@jupyter-widgets/base",
            "_view_module_version": "1.2.0",
            "_view_name": "LayoutView",
            "align_content": null,
            "align_items": null,
            "align_self": null,
            "border": null,
            "bottom": null,
            "display": null,
            "flex": null,
            "flex_flow": null,
            "grid_area": null,
            "grid_auto_columns": null,
            "grid_auto_flow": null,
            "grid_auto_rows": null,
            "grid_column": null,
            "grid_gap": null,
            "grid_row": null,
            "grid_template_areas": null,
            "grid_template_columns": null,
            "grid_template_rows": null,
            "height": null,
            "justify_content": null,
            "justify_items": null,
            "left": null,
            "margin": null,
            "max_height": null,
            "max_width": null,
            "min_height": null,
            "min_width": null,
            "object_fit": null,
            "object_position": null,
            "order": null,
            "overflow": null,
            "overflow_x": null,
            "overflow_y": null,
            "padding": null,
            "right": null,
            "top": null,
            "visibility": null,
            "width": null
          }
        },
        "0bac9a94bed84867839232e8feb829ac": {
          "model_module": "@jupyter-widgets/base",
          "model_name": "LayoutModel",
          "model_module_version": "1.2.0",
          "state": {
            "_model_module": "@jupyter-widgets/base",
            "_model_module_version": "1.2.0",
            "_model_name": "LayoutModel",
            "_view_count": null,
            "_view_module": "@jupyter-widgets/base",
            "_view_module_version": "1.2.0",
            "_view_name": "LayoutView",
            "align_content": null,
            "align_items": null,
            "align_self": null,
            "border": null,
            "bottom": null,
            "display": null,
            "flex": null,
            "flex_flow": null,
            "grid_area": null,
            "grid_auto_columns": null,
            "grid_auto_flow": null,
            "grid_auto_rows": null,
            "grid_column": null,
            "grid_gap": null,
            "grid_row": null,
            "grid_template_areas": null,
            "grid_template_columns": null,
            "grid_template_rows": null,
            "height": null,
            "justify_content": null,
            "justify_items": null,
            "left": null,
            "margin": null,
            "max_height": null,
            "max_width": null,
            "min_height": null,
            "min_width": null,
            "object_fit": null,
            "object_position": null,
            "order": null,
            "overflow": null,
            "overflow_x": null,
            "overflow_y": null,
            "padding": null,
            "right": null,
            "top": null,
            "visibility": null,
            "width": null
          }
        },
        "18a403818034472fbd10f390140b4e55": {
          "model_module": "@jupyter-widgets/controls",
          "model_name": "DescriptionStyleModel",
          "model_module_version": "1.5.0",
          "state": {
            "_model_module": "@jupyter-widgets/controls",
            "_model_module_version": "1.5.0",
            "_model_name": "DescriptionStyleModel",
            "_view_count": null,
            "_view_module": "@jupyter-widgets/base",
            "_view_module_version": "1.2.0",
            "_view_name": "StyleView",
            "description_width": ""
          }
        },
        "15d5ff4640334b7398ba6ae545c119eb": {
          "model_module": "@jupyter-widgets/base",
          "model_name": "LayoutModel",
          "model_module_version": "1.2.0",
          "state": {
            "_model_module": "@jupyter-widgets/base",
            "_model_module_version": "1.2.0",
            "_model_name": "LayoutModel",
            "_view_count": null,
            "_view_module": "@jupyter-widgets/base",
            "_view_module_version": "1.2.0",
            "_view_name": "LayoutView",
            "align_content": null,
            "align_items": null,
            "align_self": null,
            "border": null,
            "bottom": null,
            "display": null,
            "flex": null,
            "flex_flow": null,
            "grid_area": null,
            "grid_auto_columns": null,
            "grid_auto_flow": null,
            "grid_auto_rows": null,
            "grid_column": null,
            "grid_gap": null,
            "grid_row": null,
            "grid_template_areas": null,
            "grid_template_columns": null,
            "grid_template_rows": null,
            "height": null,
            "justify_content": null,
            "justify_items": null,
            "left": null,
            "margin": null,
            "max_height": null,
            "max_width": null,
            "min_height": null,
            "min_width": null,
            "object_fit": null,
            "object_position": null,
            "order": null,
            "overflow": null,
            "overflow_x": null,
            "overflow_y": null,
            "padding": null,
            "right": null,
            "top": null,
            "visibility": null,
            "width": null
          }
        },
        "3cb470358d284fb6a07a6829be17ee65": {
          "model_module": "@jupyter-widgets/controls",
          "model_name": "ProgressStyleModel",
          "model_module_version": "1.5.0",
          "state": {
            "_model_module": "@jupyter-widgets/controls",
            "_model_module_version": "1.5.0",
            "_model_name": "ProgressStyleModel",
            "_view_count": null,
            "_view_module": "@jupyter-widgets/base",
            "_view_module_version": "1.2.0",
            "_view_name": "StyleView",
            "bar_color": null,
            "description_width": ""
          }
        },
        "91b69ed728b44b7fb71d1e14932a9f3b": {
          "model_module": "@jupyter-widgets/base",
          "model_name": "LayoutModel",
          "model_module_version": "1.2.0",
          "state": {
            "_model_module": "@jupyter-widgets/base",
            "_model_module_version": "1.2.0",
            "_model_name": "LayoutModel",
            "_view_count": null,
            "_view_module": "@jupyter-widgets/base",
            "_view_module_version": "1.2.0",
            "_view_name": "LayoutView",
            "align_content": null,
            "align_items": null,
            "align_self": null,
            "border": null,
            "bottom": null,
            "display": null,
            "flex": null,
            "flex_flow": null,
            "grid_area": null,
            "grid_auto_columns": null,
            "grid_auto_flow": null,
            "grid_auto_rows": null,
            "grid_column": null,
            "grid_gap": null,
            "grid_row": null,
            "grid_template_areas": null,
            "grid_template_columns": null,
            "grid_template_rows": null,
            "height": null,
            "justify_content": null,
            "justify_items": null,
            "left": null,
            "margin": null,
            "max_height": null,
            "max_width": null,
            "min_height": null,
            "min_width": null,
            "object_fit": null,
            "object_position": null,
            "order": null,
            "overflow": null,
            "overflow_x": null,
            "overflow_y": null,
            "padding": null,
            "right": null,
            "top": null,
            "visibility": null,
            "width": null
          }
        },
        "b4a272292a7847e385ccc6acd38e8268": {
          "model_module": "@jupyter-widgets/controls",
          "model_name": "DescriptionStyleModel",
          "model_module_version": "1.5.0",
          "state": {
            "_model_module": "@jupyter-widgets/controls",
            "_model_module_version": "1.5.0",
            "_model_name": "DescriptionStyleModel",
            "_view_count": null,
            "_view_module": "@jupyter-widgets/base",
            "_view_module_version": "1.2.0",
            "_view_name": "StyleView",
            "description_width": ""
          }
        },
        "3334de313e2444b393ac1db8bcf7f720": {
          "model_module": "@jupyter-widgets/controls",
          "model_name": "HBoxModel",
          "model_module_version": "1.5.0",
          "state": {
            "_dom_classes": [],
            "_model_module": "@jupyter-widgets/controls",
            "_model_module_version": "1.5.0",
            "_model_name": "HBoxModel",
            "_view_count": null,
            "_view_module": "@jupyter-widgets/controls",
            "_view_module_version": "1.5.0",
            "_view_name": "HBoxView",
            "box_style": "",
            "children": [
              "IPY_MODEL_4aaf2a4e013a45a5bde8280b050061fd",
              "IPY_MODEL_e338a076a2cf42eabf26b1b5634c752a",
              "IPY_MODEL_28dcde9cb7304a63ab2db0a690be7c7f"
            ],
            "layout": "IPY_MODEL_59515c11eb5741d0be45ec2292c86f42"
          }
        },
        "4aaf2a4e013a45a5bde8280b050061fd": {
          "model_module": "@jupyter-widgets/controls",
          "model_name": "HTMLModel",
          "model_module_version": "1.5.0",
          "state": {
            "_dom_classes": [],
            "_model_module": "@jupyter-widgets/controls",
            "_model_module_version": "1.5.0",
            "_model_name": "HTMLModel",
            "_view_count": null,
            "_view_module": "@jupyter-widgets/controls",
            "_view_module_version": "1.5.0",
            "_view_name": "HTMLView",
            "description": "",
            "description_tooltip": null,
            "layout": "IPY_MODEL_16c4daa5618844a69f87f2dfe90fb255",
            "placeholder": "​",
            "style": "IPY_MODEL_c604e29f3fba4a529caa53cf8f46c8f3",
            "value": "Downloading: 100%"
          }
        },
        "e338a076a2cf42eabf26b1b5634c752a": {
          "model_module": "@jupyter-widgets/controls",
          "model_name": "FloatProgressModel",
          "model_module_version": "1.5.0",
          "state": {
            "_dom_classes": [],
            "_model_module": "@jupyter-widgets/controls",
            "_model_module_version": "1.5.0",
            "_model_name": "FloatProgressModel",
            "_view_count": null,
            "_view_module": "@jupyter-widgets/controls",
            "_view_module_version": "1.5.0",
            "_view_name": "ProgressView",
            "bar_style": "success",
            "description": "",
            "description_tooltip": null,
            "layout": "IPY_MODEL_8504917bab594545ae61d04b487a6d97",
            "max": 1421584365,
            "min": 0,
            "orientation": "horizontal",
            "style": "IPY_MODEL_4529518b5e2747d88eab218a2e922d42",
            "value": 1421584365
          }
        },
        "28dcde9cb7304a63ab2db0a690be7c7f": {
          "model_module": "@jupyter-widgets/controls",
          "model_name": "HTMLModel",
          "model_module_version": "1.5.0",
          "state": {
            "_dom_classes": [],
            "_model_module": "@jupyter-widgets/controls",
            "_model_module_version": "1.5.0",
            "_model_name": "HTMLModel",
            "_view_count": null,
            "_view_module": "@jupyter-widgets/controls",
            "_view_module_version": "1.5.0",
            "_view_name": "HTMLView",
            "description": "",
            "description_tooltip": null,
            "layout": "IPY_MODEL_75ac33e2a30f44399ca1e7f9165310f4",
            "placeholder": "​",
            "style": "IPY_MODEL_364b20953f0846b49a41dcf2e73ab949",
            "value": " 1.42G/1.42G [00:24&lt;00:00, 60.1MB/s]"
          }
        },
        "59515c11eb5741d0be45ec2292c86f42": {
          "model_module": "@jupyter-widgets/base",
          "model_name": "LayoutModel",
          "model_module_version": "1.2.0",
          "state": {
            "_model_module": "@jupyter-widgets/base",
            "_model_module_version": "1.2.0",
            "_model_name": "LayoutModel",
            "_view_count": null,
            "_view_module": "@jupyter-widgets/base",
            "_view_module_version": "1.2.0",
            "_view_name": "LayoutView",
            "align_content": null,
            "align_items": null,
            "align_self": null,
            "border": null,
            "bottom": null,
            "display": null,
            "flex": null,
            "flex_flow": null,
            "grid_area": null,
            "grid_auto_columns": null,
            "grid_auto_flow": null,
            "grid_auto_rows": null,
            "grid_column": null,
            "grid_gap": null,
            "grid_row": null,
            "grid_template_areas": null,
            "grid_template_columns": null,
            "grid_template_rows": null,
            "height": null,
            "justify_content": null,
            "justify_items": null,
            "left": null,
            "margin": null,
            "max_height": null,
            "max_width": null,
            "min_height": null,
            "min_width": null,
            "object_fit": null,
            "object_position": null,
            "order": null,
            "overflow": null,
            "overflow_x": null,
            "overflow_y": null,
            "padding": null,
            "right": null,
            "top": null,
            "visibility": null,
            "width": null
          }
        },
        "16c4daa5618844a69f87f2dfe90fb255": {
          "model_module": "@jupyter-widgets/base",
          "model_name": "LayoutModel",
          "model_module_version": "1.2.0",
          "state": {
            "_model_module": "@jupyter-widgets/base",
            "_model_module_version": "1.2.0",
            "_model_name": "LayoutModel",
            "_view_count": null,
            "_view_module": "@jupyter-widgets/base",
            "_view_module_version": "1.2.0",
            "_view_name": "LayoutView",
            "align_content": null,
            "align_items": null,
            "align_self": null,
            "border": null,
            "bottom": null,
            "display": null,
            "flex": null,
            "flex_flow": null,
            "grid_area": null,
            "grid_auto_columns": null,
            "grid_auto_flow": null,
            "grid_auto_rows": null,
            "grid_column": null,
            "grid_gap": null,
            "grid_row": null,
            "grid_template_areas": null,
            "grid_template_columns": null,
            "grid_template_rows": null,
            "height": null,
            "justify_content": null,
            "justify_items": null,
            "left": null,
            "margin": null,
            "max_height": null,
            "max_width": null,
            "min_height": null,
            "min_width": null,
            "object_fit": null,
            "object_position": null,
            "order": null,
            "overflow": null,
            "overflow_x": null,
            "overflow_y": null,
            "padding": null,
            "right": null,
            "top": null,
            "visibility": null,
            "width": null
          }
        },
        "c604e29f3fba4a529caa53cf8f46c8f3": {
          "model_module": "@jupyter-widgets/controls",
          "model_name": "DescriptionStyleModel",
          "model_module_version": "1.5.0",
          "state": {
            "_model_module": "@jupyter-widgets/controls",
            "_model_module_version": "1.5.0",
            "_model_name": "DescriptionStyleModel",
            "_view_count": null,
            "_view_module": "@jupyter-widgets/base",
            "_view_module_version": "1.2.0",
            "_view_name": "StyleView",
            "description_width": ""
          }
        },
        "8504917bab594545ae61d04b487a6d97": {
          "model_module": "@jupyter-widgets/base",
          "model_name": "LayoutModel",
          "model_module_version": "1.2.0",
          "state": {
            "_model_module": "@jupyter-widgets/base",
            "_model_module_version": "1.2.0",
            "_model_name": "LayoutModel",
            "_view_count": null,
            "_view_module": "@jupyter-widgets/base",
            "_view_module_version": "1.2.0",
            "_view_name": "LayoutView",
            "align_content": null,
            "align_items": null,
            "align_self": null,
            "border": null,
            "bottom": null,
            "display": null,
            "flex": null,
            "flex_flow": null,
            "grid_area": null,
            "grid_auto_columns": null,
            "grid_auto_flow": null,
            "grid_auto_rows": null,
            "grid_column": null,
            "grid_gap": null,
            "grid_row": null,
            "grid_template_areas": null,
            "grid_template_columns": null,
            "grid_template_rows": null,
            "height": null,
            "justify_content": null,
            "justify_items": null,
            "left": null,
            "margin": null,
            "max_height": null,
            "max_width": null,
            "min_height": null,
            "min_width": null,
            "object_fit": null,
            "object_position": null,
            "order": null,
            "overflow": null,
            "overflow_x": null,
            "overflow_y": null,
            "padding": null,
            "right": null,
            "top": null,
            "visibility": null,
            "width": null
          }
        },
        "4529518b5e2747d88eab218a2e922d42": {
          "model_module": "@jupyter-widgets/controls",
          "model_name": "ProgressStyleModel",
          "model_module_version": "1.5.0",
          "state": {
            "_model_module": "@jupyter-widgets/controls",
            "_model_module_version": "1.5.0",
            "_model_name": "ProgressStyleModel",
            "_view_count": null,
            "_view_module": "@jupyter-widgets/base",
            "_view_module_version": "1.2.0",
            "_view_name": "StyleView",
            "bar_color": null,
            "description_width": ""
          }
        },
        "75ac33e2a30f44399ca1e7f9165310f4": {
          "model_module": "@jupyter-widgets/base",
          "model_name": "LayoutModel",
          "model_module_version": "1.2.0",
          "state": {
            "_model_module": "@jupyter-widgets/base",
            "_model_module_version": "1.2.0",
            "_model_name": "LayoutModel",
            "_view_count": null,
            "_view_module": "@jupyter-widgets/base",
            "_view_module_version": "1.2.0",
            "_view_name": "LayoutView",
            "align_content": null,
            "align_items": null,
            "align_self": null,
            "border": null,
            "bottom": null,
            "display": null,
            "flex": null,
            "flex_flow": null,
            "grid_area": null,
            "grid_auto_columns": null,
            "grid_auto_flow": null,
            "grid_auto_rows": null,
            "grid_column": null,
            "grid_gap": null,
            "grid_row": null,
            "grid_template_areas": null,
            "grid_template_columns": null,
            "grid_template_rows": null,
            "height": null,
            "justify_content": null,
            "justify_items": null,
            "left": null,
            "margin": null,
            "max_height": null,
            "max_width": null,
            "min_height": null,
            "min_width": null,
            "object_fit": null,
            "object_position": null,
            "order": null,
            "overflow": null,
            "overflow_x": null,
            "overflow_y": null,
            "padding": null,
            "right": null,
            "top": null,
            "visibility": null,
            "width": null
          }
        },
        "364b20953f0846b49a41dcf2e73ab949": {
          "model_module": "@jupyter-widgets/controls",
          "model_name": "DescriptionStyleModel",
          "model_module_version": "1.5.0",
          "state": {
            "_model_module": "@jupyter-widgets/controls",
            "_model_module_version": "1.5.0",
            "_model_name": "DescriptionStyleModel",
            "_view_count": null,
            "_view_module": "@jupyter-widgets/base",
            "_view_module_version": "1.2.0",
            "_view_name": "StyleView",
            "description_width": ""
          }
        },
        "f944c5d5c729467ca2047c282166fd3f": {
          "model_module": "@jupyter-widgets/controls",
          "model_name": "HBoxModel",
          "model_module_version": "1.5.0",
          "state": {
            "_dom_classes": [],
            "_model_module": "@jupyter-widgets/controls",
            "_model_module_version": "1.5.0",
            "_model_name": "HBoxModel",
            "_view_count": null,
            "_view_module": "@jupyter-widgets/controls",
            "_view_module_version": "1.5.0",
            "_view_name": "HBoxView",
            "box_style": "",
            "children": [
              "IPY_MODEL_27aa980e3f71496ea580f477d5d5e320",
              "IPY_MODEL_c10397799aa148199ccf9b2199e6f791",
              "IPY_MODEL_fdf756e4d8554349b550404365c60923"
            ],
            "layout": "IPY_MODEL_3bbd564f038247a6b403ba84b733e538"
          }
        },
        "27aa980e3f71496ea580f477d5d5e320": {
          "model_module": "@jupyter-widgets/controls",
          "model_name": "HTMLModel",
          "model_module_version": "1.5.0",
          "state": {
            "_dom_classes": [],
            "_model_module": "@jupyter-widgets/controls",
            "_model_module_version": "1.5.0",
            "_model_name": "HTMLModel",
            "_view_count": null,
            "_view_module": "@jupyter-widgets/controls",
            "_view_module_version": "1.5.0",
            "_view_name": "HTMLView",
            "description": "",
            "description_tooltip": null,
            "layout": "IPY_MODEL_78d35b1b53cf488dbb11b061e0f7a6e9",
            "placeholder": "​",
            "style": "IPY_MODEL_dc79a92fdc7b4270b3c844e467991a34",
            "value": "100%"
          }
        },
        "c10397799aa148199ccf9b2199e6f791": {
          "model_module": "@jupyter-widgets/controls",
          "model_name": "FloatProgressModel",
          "model_module_version": "1.5.0",
          "state": {
            "_dom_classes": [],
            "_model_module": "@jupyter-widgets/controls",
            "_model_module_version": "1.5.0",
            "_model_name": "FloatProgressModel",
            "_view_count": null,
            "_view_module": "@jupyter-widgets/controls",
            "_view_module_version": "1.5.0",
            "_view_name": "ProgressView",
            "bar_style": "success",
            "description": "",
            "description_tooltip": null,
            "layout": "IPY_MODEL_d78f732a05e3496caad9695306ba4de6",
            "max": 20,
            "min": 0,
            "orientation": "horizontal",
            "style": "IPY_MODEL_2122947aab264c67b7ff0c2ba8e52403",
            "value": 20
          }
        },
        "fdf756e4d8554349b550404365c60923": {
          "model_module": "@jupyter-widgets/controls",
          "model_name": "HTMLModel",
          "model_module_version": "1.5.0",
          "state": {
            "_dom_classes": [],
            "_model_module": "@jupyter-widgets/controls",
            "_model_module_version": "1.5.0",
            "_model_name": "HTMLModel",
            "_view_count": null,
            "_view_module": "@jupyter-widgets/controls",
            "_view_module_version": "1.5.0",
            "_view_name": "HTMLView",
            "description": "",
            "description_tooltip": null,
            "layout": "IPY_MODEL_c9b18da1c14d4d7ea8b40b9eb9d8d630",
            "placeholder": "​",
            "style": "IPY_MODEL_5ebaa8226d8b47b9b99d432049583b52",
            "value": " 20/20 [00:01&lt;00:00, 12.26ba/s]"
          }
        },
        "3bbd564f038247a6b403ba84b733e538": {
          "model_module": "@jupyter-widgets/base",
          "model_name": "LayoutModel",
          "model_module_version": "1.2.0",
          "state": {
            "_model_module": "@jupyter-widgets/base",
            "_model_module_version": "1.2.0",
            "_model_name": "LayoutModel",
            "_view_count": null,
            "_view_module": "@jupyter-widgets/base",
            "_view_module_version": "1.2.0",
            "_view_name": "LayoutView",
            "align_content": null,
            "align_items": null,
            "align_self": null,
            "border": null,
            "bottom": null,
            "display": null,
            "flex": null,
            "flex_flow": null,
            "grid_area": null,
            "grid_auto_columns": null,
            "grid_auto_flow": null,
            "grid_auto_rows": null,
            "grid_column": null,
            "grid_gap": null,
            "grid_row": null,
            "grid_template_areas": null,
            "grid_template_columns": null,
            "grid_template_rows": null,
            "height": null,
            "justify_content": null,
            "justify_items": null,
            "left": null,
            "margin": null,
            "max_height": null,
            "max_width": null,
            "min_height": null,
            "min_width": null,
            "object_fit": null,
            "object_position": null,
            "order": null,
            "overflow": null,
            "overflow_x": null,
            "overflow_y": null,
            "padding": null,
            "right": null,
            "top": null,
            "visibility": null,
            "width": null
          }
        },
        "78d35b1b53cf488dbb11b061e0f7a6e9": {
          "model_module": "@jupyter-widgets/base",
          "model_name": "LayoutModel",
          "model_module_version": "1.2.0",
          "state": {
            "_model_module": "@jupyter-widgets/base",
            "_model_module_version": "1.2.0",
            "_model_name": "LayoutModel",
            "_view_count": null,
            "_view_module": "@jupyter-widgets/base",
            "_view_module_version": "1.2.0",
            "_view_name": "LayoutView",
            "align_content": null,
            "align_items": null,
            "align_self": null,
            "border": null,
            "bottom": null,
            "display": null,
            "flex": null,
            "flex_flow": null,
            "grid_area": null,
            "grid_auto_columns": null,
            "grid_auto_flow": null,
            "grid_auto_rows": null,
            "grid_column": null,
            "grid_gap": null,
            "grid_row": null,
            "grid_template_areas": null,
            "grid_template_columns": null,
            "grid_template_rows": null,
            "height": null,
            "justify_content": null,
            "justify_items": null,
            "left": null,
            "margin": null,
            "max_height": null,
            "max_width": null,
            "min_height": null,
            "min_width": null,
            "object_fit": null,
            "object_position": null,
            "order": null,
            "overflow": null,
            "overflow_x": null,
            "overflow_y": null,
            "padding": null,
            "right": null,
            "top": null,
            "visibility": null,
            "width": null
          }
        },
        "dc79a92fdc7b4270b3c844e467991a34": {
          "model_module": "@jupyter-widgets/controls",
          "model_name": "DescriptionStyleModel",
          "model_module_version": "1.5.0",
          "state": {
            "_model_module": "@jupyter-widgets/controls",
            "_model_module_version": "1.5.0",
            "_model_name": "DescriptionStyleModel",
            "_view_count": null,
            "_view_module": "@jupyter-widgets/base",
            "_view_module_version": "1.2.0",
            "_view_name": "StyleView",
            "description_width": ""
          }
        },
        "d78f732a05e3496caad9695306ba4de6": {
          "model_module": "@jupyter-widgets/base",
          "model_name": "LayoutModel",
          "model_module_version": "1.2.0",
          "state": {
            "_model_module": "@jupyter-widgets/base",
            "_model_module_version": "1.2.0",
            "_model_name": "LayoutModel",
            "_view_count": null,
            "_view_module": "@jupyter-widgets/base",
            "_view_module_version": "1.2.0",
            "_view_name": "LayoutView",
            "align_content": null,
            "align_items": null,
            "align_self": null,
            "border": null,
            "bottom": null,
            "display": null,
            "flex": null,
            "flex_flow": null,
            "grid_area": null,
            "grid_auto_columns": null,
            "grid_auto_flow": null,
            "grid_auto_rows": null,
            "grid_column": null,
            "grid_gap": null,
            "grid_row": null,
            "grid_template_areas": null,
            "grid_template_columns": null,
            "grid_template_rows": null,
            "height": null,
            "justify_content": null,
            "justify_items": null,
            "left": null,
            "margin": null,
            "max_height": null,
            "max_width": null,
            "min_height": null,
            "min_width": null,
            "object_fit": null,
            "object_position": null,
            "order": null,
            "overflow": null,
            "overflow_x": null,
            "overflow_y": null,
            "padding": null,
            "right": null,
            "top": null,
            "visibility": null,
            "width": null
          }
        },
        "2122947aab264c67b7ff0c2ba8e52403": {
          "model_module": "@jupyter-widgets/controls",
          "model_name": "ProgressStyleModel",
          "model_module_version": "1.5.0",
          "state": {
            "_model_module": "@jupyter-widgets/controls",
            "_model_module_version": "1.5.0",
            "_model_name": "ProgressStyleModel",
            "_view_count": null,
            "_view_module": "@jupyter-widgets/base",
            "_view_module_version": "1.2.0",
            "_view_name": "StyleView",
            "bar_color": null,
            "description_width": ""
          }
        },
        "c9b18da1c14d4d7ea8b40b9eb9d8d630": {
          "model_module": "@jupyter-widgets/base",
          "model_name": "LayoutModel",
          "model_module_version": "1.2.0",
          "state": {
            "_model_module": "@jupyter-widgets/base",
            "_model_module_version": "1.2.0",
            "_model_name": "LayoutModel",
            "_view_count": null,
            "_view_module": "@jupyter-widgets/base",
            "_view_module_version": "1.2.0",
            "_view_name": "LayoutView",
            "align_content": null,
            "align_items": null,
            "align_self": null,
            "border": null,
            "bottom": null,
            "display": null,
            "flex": null,
            "flex_flow": null,
            "grid_area": null,
            "grid_auto_columns": null,
            "grid_auto_flow": null,
            "grid_auto_rows": null,
            "grid_column": null,
            "grid_gap": null,
            "grid_row": null,
            "grid_template_areas": null,
            "grid_template_columns": null,
            "grid_template_rows": null,
            "height": null,
            "justify_content": null,
            "justify_items": null,
            "left": null,
            "margin": null,
            "max_height": null,
            "max_width": null,
            "min_height": null,
            "min_width": null,
            "object_fit": null,
            "object_position": null,
            "order": null,
            "overflow": null,
            "overflow_x": null,
            "overflow_y": null,
            "padding": null,
            "right": null,
            "top": null,
            "visibility": null,
            "width": null
          }
        },
        "5ebaa8226d8b47b9b99d432049583b52": {
          "model_module": "@jupyter-widgets/controls",
          "model_name": "DescriptionStyleModel",
          "model_module_version": "1.5.0",
          "state": {
            "_model_module": "@jupyter-widgets/controls",
            "_model_module_version": "1.5.0",
            "_model_name": "DescriptionStyleModel",
            "_view_count": null,
            "_view_module": "@jupyter-widgets/base",
            "_view_module_version": "1.2.0",
            "_view_name": "StyleView",
            "description_width": ""
          }
        },
        "b4ae9613bdb243f29067139ab4abd553": {
          "model_module": "@jupyter-widgets/controls",
          "model_name": "HBoxModel",
          "model_module_version": "1.5.0",
          "state": {
            "_dom_classes": [],
            "_model_module": "@jupyter-widgets/controls",
            "_model_module_version": "1.5.0",
            "_model_name": "HBoxModel",
            "_view_count": null,
            "_view_module": "@jupyter-widgets/controls",
            "_view_module_version": "1.5.0",
            "_view_name": "HBoxView",
            "box_style": "",
            "children": [
              "IPY_MODEL_d886a9dc1db44638a1ee33764c09d9bd",
              "IPY_MODEL_550ff8c852324fa0a3fc6bfe79ae96b2",
              "IPY_MODEL_1298d4911cdf4c7e887beeb906434144"
            ],
            "layout": "IPY_MODEL_57e6e659c043490d9cdb39dfe5e838a3"
          }
        },
        "d886a9dc1db44638a1ee33764c09d9bd": {
          "model_module": "@jupyter-widgets/controls",
          "model_name": "HTMLModel",
          "model_module_version": "1.5.0",
          "state": {
            "_dom_classes": [],
            "_model_module": "@jupyter-widgets/controls",
            "_model_module_version": "1.5.0",
            "_model_name": "HTMLModel",
            "_view_count": null,
            "_view_module": "@jupyter-widgets/controls",
            "_view_module_version": "1.5.0",
            "_view_name": "HTMLView",
            "description": "",
            "description_tooltip": null,
            "layout": "IPY_MODEL_7ffc7ee268144f66a641085c2404b2b2",
            "placeholder": "​",
            "style": "IPY_MODEL_f0889832e48c43cca3ee02d378bb6fda",
            "value": "100%"
          }
        },
        "550ff8c852324fa0a3fc6bfe79ae96b2": {
          "model_module": "@jupyter-widgets/controls",
          "model_name": "FloatProgressModel",
          "model_module_version": "1.5.0",
          "state": {
            "_dom_classes": [],
            "_model_module": "@jupyter-widgets/controls",
            "_model_module_version": "1.5.0",
            "_model_name": "FloatProgressModel",
            "_view_count": null,
            "_view_module": "@jupyter-widgets/controls",
            "_view_module_version": "1.5.0",
            "_view_name": "ProgressView",
            "bar_style": "success",
            "description": "",
            "description_tooltip": null,
            "layout": "IPY_MODEL_bb3bd1208cc04565af9dfe8860e1f810",
            "max": 20,
            "min": 0,
            "orientation": "horizontal",
            "style": "IPY_MODEL_5c7912a19dd740d49252b64b1974c9d1",
            "value": 20
          }
        },
        "1298d4911cdf4c7e887beeb906434144": {
          "model_module": "@jupyter-widgets/controls",
          "model_name": "HTMLModel",
          "model_module_version": "1.5.0",
          "state": {
            "_dom_classes": [],
            "_model_module": "@jupyter-widgets/controls",
            "_model_module_version": "1.5.0",
            "_model_name": "HTMLModel",
            "_view_count": null,
            "_view_module": "@jupyter-widgets/controls",
            "_view_module_version": "1.5.0",
            "_view_name": "HTMLView",
            "description": "",
            "description_tooltip": null,
            "layout": "IPY_MODEL_f9eaceb1b0c04cd2bade5c9ce297d425",
            "placeholder": "​",
            "style": "IPY_MODEL_69c4bf86137c416cbd530fc8746f4f01",
            "value": " 20/20 [00:00&lt;00:00, 21.31ba/s]"
          }
        },
        "57e6e659c043490d9cdb39dfe5e838a3": {
          "model_module": "@jupyter-widgets/base",
          "model_name": "LayoutModel",
          "model_module_version": "1.2.0",
          "state": {
            "_model_module": "@jupyter-widgets/base",
            "_model_module_version": "1.2.0",
            "_model_name": "LayoutModel",
            "_view_count": null,
            "_view_module": "@jupyter-widgets/base",
            "_view_module_version": "1.2.0",
            "_view_name": "LayoutView",
            "align_content": null,
            "align_items": null,
            "align_self": null,
            "border": null,
            "bottom": null,
            "display": null,
            "flex": null,
            "flex_flow": null,
            "grid_area": null,
            "grid_auto_columns": null,
            "grid_auto_flow": null,
            "grid_auto_rows": null,
            "grid_column": null,
            "grid_gap": null,
            "grid_row": null,
            "grid_template_areas": null,
            "grid_template_columns": null,
            "grid_template_rows": null,
            "height": null,
            "justify_content": null,
            "justify_items": null,
            "left": null,
            "margin": null,
            "max_height": null,
            "max_width": null,
            "min_height": null,
            "min_width": null,
            "object_fit": null,
            "object_position": null,
            "order": null,
            "overflow": null,
            "overflow_x": null,
            "overflow_y": null,
            "padding": null,
            "right": null,
            "top": null,
            "visibility": null,
            "width": null
          }
        },
        "7ffc7ee268144f66a641085c2404b2b2": {
          "model_module": "@jupyter-widgets/base",
          "model_name": "LayoutModel",
          "model_module_version": "1.2.0",
          "state": {
            "_model_module": "@jupyter-widgets/base",
            "_model_module_version": "1.2.0",
            "_model_name": "LayoutModel",
            "_view_count": null,
            "_view_module": "@jupyter-widgets/base",
            "_view_module_version": "1.2.0",
            "_view_name": "LayoutView",
            "align_content": null,
            "align_items": null,
            "align_self": null,
            "border": null,
            "bottom": null,
            "display": null,
            "flex": null,
            "flex_flow": null,
            "grid_area": null,
            "grid_auto_columns": null,
            "grid_auto_flow": null,
            "grid_auto_rows": null,
            "grid_column": null,
            "grid_gap": null,
            "grid_row": null,
            "grid_template_areas": null,
            "grid_template_columns": null,
            "grid_template_rows": null,
            "height": null,
            "justify_content": null,
            "justify_items": null,
            "left": null,
            "margin": null,
            "max_height": null,
            "max_width": null,
            "min_height": null,
            "min_width": null,
            "object_fit": null,
            "object_position": null,
            "order": null,
            "overflow": null,
            "overflow_x": null,
            "overflow_y": null,
            "padding": null,
            "right": null,
            "top": null,
            "visibility": null,
            "width": null
          }
        },
        "f0889832e48c43cca3ee02d378bb6fda": {
          "model_module": "@jupyter-widgets/controls",
          "model_name": "DescriptionStyleModel",
          "model_module_version": "1.5.0",
          "state": {
            "_model_module": "@jupyter-widgets/controls",
            "_model_module_version": "1.5.0",
            "_model_name": "DescriptionStyleModel",
            "_view_count": null,
            "_view_module": "@jupyter-widgets/base",
            "_view_module_version": "1.2.0",
            "_view_name": "StyleView",
            "description_width": ""
          }
        },
        "bb3bd1208cc04565af9dfe8860e1f810": {
          "model_module": "@jupyter-widgets/base",
          "model_name": "LayoutModel",
          "model_module_version": "1.2.0",
          "state": {
            "_model_module": "@jupyter-widgets/base",
            "_model_module_version": "1.2.0",
            "_model_name": "LayoutModel",
            "_view_count": null,
            "_view_module": "@jupyter-widgets/base",
            "_view_module_version": "1.2.0",
            "_view_name": "LayoutView",
            "align_content": null,
            "align_items": null,
            "align_self": null,
            "border": null,
            "bottom": null,
            "display": null,
            "flex": null,
            "flex_flow": null,
            "grid_area": null,
            "grid_auto_columns": null,
            "grid_auto_flow": null,
            "grid_auto_rows": null,
            "grid_column": null,
            "grid_gap": null,
            "grid_row": null,
            "grid_template_areas": null,
            "grid_template_columns": null,
            "grid_template_rows": null,
            "height": null,
            "justify_content": null,
            "justify_items": null,
            "left": null,
            "margin": null,
            "max_height": null,
            "max_width": null,
            "min_height": null,
            "min_width": null,
            "object_fit": null,
            "object_position": null,
            "order": null,
            "overflow": null,
            "overflow_x": null,
            "overflow_y": null,
            "padding": null,
            "right": null,
            "top": null,
            "visibility": null,
            "width": null
          }
        },
        "5c7912a19dd740d49252b64b1974c9d1": {
          "model_module": "@jupyter-widgets/controls",
          "model_name": "ProgressStyleModel",
          "model_module_version": "1.5.0",
          "state": {
            "_model_module": "@jupyter-widgets/controls",
            "_model_module_version": "1.5.0",
            "_model_name": "ProgressStyleModel",
            "_view_count": null,
            "_view_module": "@jupyter-widgets/base",
            "_view_module_version": "1.2.0",
            "_view_name": "StyleView",
            "bar_color": null,
            "description_width": ""
          }
        },
        "f9eaceb1b0c04cd2bade5c9ce297d425": {
          "model_module": "@jupyter-widgets/base",
          "model_name": "LayoutModel",
          "model_module_version": "1.2.0",
          "state": {
            "_model_module": "@jupyter-widgets/base",
            "_model_module_version": "1.2.0",
            "_model_name": "LayoutModel",
            "_view_count": null,
            "_view_module": "@jupyter-widgets/base",
            "_view_module_version": "1.2.0",
            "_view_name": "LayoutView",
            "align_content": null,
            "align_items": null,
            "align_self": null,
            "border": null,
            "bottom": null,
            "display": null,
            "flex": null,
            "flex_flow": null,
            "grid_area": null,
            "grid_auto_columns": null,
            "grid_auto_flow": null,
            "grid_auto_rows": null,
            "grid_column": null,
            "grid_gap": null,
            "grid_row": null,
            "grid_template_areas": null,
            "grid_template_columns": null,
            "grid_template_rows": null,
            "height": null,
            "justify_content": null,
            "justify_items": null,
            "left": null,
            "margin": null,
            "max_height": null,
            "max_width": null,
            "min_height": null,
            "min_width": null,
            "object_fit": null,
            "object_position": null,
            "order": null,
            "overflow": null,
            "overflow_x": null,
            "overflow_y": null,
            "padding": null,
            "right": null,
            "top": null,
            "visibility": null,
            "width": null
          }
        },
        "69c4bf86137c416cbd530fc8746f4f01": {
          "model_module": "@jupyter-widgets/controls",
          "model_name": "DescriptionStyleModel",
          "model_module_version": "1.5.0",
          "state": {
            "_model_module": "@jupyter-widgets/controls",
            "_model_module_version": "1.5.0",
            "_model_name": "DescriptionStyleModel",
            "_view_count": null,
            "_view_module": "@jupyter-widgets/base",
            "_view_module_version": "1.2.0",
            "_view_name": "StyleView",
            "description_width": ""
          }
        },
        "9ef81cb7ec8d4508b23d243490a6963b": {
          "model_module": "@jupyter-widgets/controls",
          "model_name": "HBoxModel",
          "model_module_version": "1.5.0",
          "state": {
            "_dom_classes": [],
            "_model_module": "@jupyter-widgets/controls",
            "_model_module_version": "1.5.0",
            "_model_name": "HBoxModel",
            "_view_count": null,
            "_view_module": "@jupyter-widgets/controls",
            "_view_module_version": "1.5.0",
            "_view_name": "HBoxView",
            "box_style": "",
            "children": [
              "IPY_MODEL_d73fdebfdd6f4f5cafed19642b067888",
              "IPY_MODEL_3554a5c49f6542da82fe1b0f19716a8a",
              "IPY_MODEL_9b4277e9d77b49c28aca0165616fbfcf"
            ],
            "layout": "IPY_MODEL_53b7b19aca024cedb070a37332178738"
          }
        },
        "d73fdebfdd6f4f5cafed19642b067888": {
          "model_module": "@jupyter-widgets/controls",
          "model_name": "HTMLModel",
          "model_module_version": "1.5.0",
          "state": {
            "_dom_classes": [],
            "_model_module": "@jupyter-widgets/controls",
            "_model_module_version": "1.5.0",
            "_model_name": "HTMLModel",
            "_view_count": null,
            "_view_module": "@jupyter-widgets/controls",
            "_view_module_version": "1.5.0",
            "_view_name": "HTMLView",
            "description": "",
            "description_tooltip": null,
            "layout": "IPY_MODEL_9413366fe7e643c4b81a7a33cae9ec9f",
            "placeholder": "​",
            "style": "IPY_MODEL_4278db1dab6349b49762614fb73cbdb7",
            "value": "100%"
          }
        },
        "3554a5c49f6542da82fe1b0f19716a8a": {
          "model_module": "@jupyter-widgets/controls",
          "model_name": "FloatProgressModel",
          "model_module_version": "1.5.0",
          "state": {
            "_dom_classes": [],
            "_model_module": "@jupyter-widgets/controls",
            "_model_module_version": "1.5.0",
            "_model_name": "FloatProgressModel",
            "_view_count": null,
            "_view_module": "@jupyter-widgets/controls",
            "_view_module_version": "1.5.0",
            "_view_name": "ProgressView",
            "bar_style": "success",
            "description": "",
            "description_tooltip": null,
            "layout": "IPY_MODEL_dc215e93b15f4092990c8619be81e607",
            "max": 20,
            "min": 0,
            "orientation": "horizontal",
            "style": "IPY_MODEL_f21d9d8b96834d68985209b7460b8be3",
            "value": 20
          }
        },
        "9b4277e9d77b49c28aca0165616fbfcf": {
          "model_module": "@jupyter-widgets/controls",
          "model_name": "HTMLModel",
          "model_module_version": "1.5.0",
          "state": {
            "_dom_classes": [],
            "_model_module": "@jupyter-widgets/controls",
            "_model_module_version": "1.5.0",
            "_model_name": "HTMLModel",
            "_view_count": null,
            "_view_module": "@jupyter-widgets/controls",
            "_view_module_version": "1.5.0",
            "_view_name": "HTMLView",
            "description": "",
            "description_tooltip": null,
            "layout": "IPY_MODEL_6d60ab6bb8c54c939b13eb388ffc5d03",
            "placeholder": "​",
            "style": "IPY_MODEL_50f7762d363a417698840a461e339ac9",
            "value": " 20/20 [00:01&lt;00:00, 16.37ba/s]"
          }
        },
        "53b7b19aca024cedb070a37332178738": {
          "model_module": "@jupyter-widgets/base",
          "model_name": "LayoutModel",
          "model_module_version": "1.2.0",
          "state": {
            "_model_module": "@jupyter-widgets/base",
            "_model_module_version": "1.2.0",
            "_model_name": "LayoutModel",
            "_view_count": null,
            "_view_module": "@jupyter-widgets/base",
            "_view_module_version": "1.2.0",
            "_view_name": "LayoutView",
            "align_content": null,
            "align_items": null,
            "align_self": null,
            "border": null,
            "bottom": null,
            "display": null,
            "flex": null,
            "flex_flow": null,
            "grid_area": null,
            "grid_auto_columns": null,
            "grid_auto_flow": null,
            "grid_auto_rows": null,
            "grid_column": null,
            "grid_gap": null,
            "grid_row": null,
            "grid_template_areas": null,
            "grid_template_columns": null,
            "grid_template_rows": null,
            "height": null,
            "justify_content": null,
            "justify_items": null,
            "left": null,
            "margin": null,
            "max_height": null,
            "max_width": null,
            "min_height": null,
            "min_width": null,
            "object_fit": null,
            "object_position": null,
            "order": null,
            "overflow": null,
            "overflow_x": null,
            "overflow_y": null,
            "padding": null,
            "right": null,
            "top": null,
            "visibility": null,
            "width": null
          }
        },
        "9413366fe7e643c4b81a7a33cae9ec9f": {
          "model_module": "@jupyter-widgets/base",
          "model_name": "LayoutModel",
          "model_module_version": "1.2.0",
          "state": {
            "_model_module": "@jupyter-widgets/base",
            "_model_module_version": "1.2.0",
            "_model_name": "LayoutModel",
            "_view_count": null,
            "_view_module": "@jupyter-widgets/base",
            "_view_module_version": "1.2.0",
            "_view_name": "LayoutView",
            "align_content": null,
            "align_items": null,
            "align_self": null,
            "border": null,
            "bottom": null,
            "display": null,
            "flex": null,
            "flex_flow": null,
            "grid_area": null,
            "grid_auto_columns": null,
            "grid_auto_flow": null,
            "grid_auto_rows": null,
            "grid_column": null,
            "grid_gap": null,
            "grid_row": null,
            "grid_template_areas": null,
            "grid_template_columns": null,
            "grid_template_rows": null,
            "height": null,
            "justify_content": null,
            "justify_items": null,
            "left": null,
            "margin": null,
            "max_height": null,
            "max_width": null,
            "min_height": null,
            "min_width": null,
            "object_fit": null,
            "object_position": null,
            "order": null,
            "overflow": null,
            "overflow_x": null,
            "overflow_y": null,
            "padding": null,
            "right": null,
            "top": null,
            "visibility": null,
            "width": null
          }
        },
        "4278db1dab6349b49762614fb73cbdb7": {
          "model_module": "@jupyter-widgets/controls",
          "model_name": "DescriptionStyleModel",
          "model_module_version": "1.5.0",
          "state": {
            "_model_module": "@jupyter-widgets/controls",
            "_model_module_version": "1.5.0",
            "_model_name": "DescriptionStyleModel",
            "_view_count": null,
            "_view_module": "@jupyter-widgets/base",
            "_view_module_version": "1.2.0",
            "_view_name": "StyleView",
            "description_width": ""
          }
        },
        "dc215e93b15f4092990c8619be81e607": {
          "model_module": "@jupyter-widgets/base",
          "model_name": "LayoutModel",
          "model_module_version": "1.2.0",
          "state": {
            "_model_module": "@jupyter-widgets/base",
            "_model_module_version": "1.2.0",
            "_model_name": "LayoutModel",
            "_view_count": null,
            "_view_module": "@jupyter-widgets/base",
            "_view_module_version": "1.2.0",
            "_view_name": "LayoutView",
            "align_content": null,
            "align_items": null,
            "align_self": null,
            "border": null,
            "bottom": null,
            "display": null,
            "flex": null,
            "flex_flow": null,
            "grid_area": null,
            "grid_auto_columns": null,
            "grid_auto_flow": null,
            "grid_auto_rows": null,
            "grid_column": null,
            "grid_gap": null,
            "grid_row": null,
            "grid_template_areas": null,
            "grid_template_columns": null,
            "grid_template_rows": null,
            "height": null,
            "justify_content": null,
            "justify_items": null,
            "left": null,
            "margin": null,
            "max_height": null,
            "max_width": null,
            "min_height": null,
            "min_width": null,
            "object_fit": null,
            "object_position": null,
            "order": null,
            "overflow": null,
            "overflow_x": null,
            "overflow_y": null,
            "padding": null,
            "right": null,
            "top": null,
            "visibility": null,
            "width": null
          }
        },
        "f21d9d8b96834d68985209b7460b8be3": {
          "model_module": "@jupyter-widgets/controls",
          "model_name": "ProgressStyleModel",
          "model_module_version": "1.5.0",
          "state": {
            "_model_module": "@jupyter-widgets/controls",
            "_model_module_version": "1.5.0",
            "_model_name": "ProgressStyleModel",
            "_view_count": null,
            "_view_module": "@jupyter-widgets/base",
            "_view_module_version": "1.2.0",
            "_view_name": "StyleView",
            "bar_color": null,
            "description_width": ""
          }
        },
        "6d60ab6bb8c54c939b13eb388ffc5d03": {
          "model_module": "@jupyter-widgets/base",
          "model_name": "LayoutModel",
          "model_module_version": "1.2.0",
          "state": {
            "_model_module": "@jupyter-widgets/base",
            "_model_module_version": "1.2.0",
            "_model_name": "LayoutModel",
            "_view_count": null,
            "_view_module": "@jupyter-widgets/base",
            "_view_module_version": "1.2.0",
            "_view_name": "LayoutView",
            "align_content": null,
            "align_items": null,
            "align_self": null,
            "border": null,
            "bottom": null,
            "display": null,
            "flex": null,
            "flex_flow": null,
            "grid_area": null,
            "grid_auto_columns": null,
            "grid_auto_flow": null,
            "grid_auto_rows": null,
            "grid_column": null,
            "grid_gap": null,
            "grid_row": null,
            "grid_template_areas": null,
            "grid_template_columns": null,
            "grid_template_rows": null,
            "height": null,
            "justify_content": null,
            "justify_items": null,
            "left": null,
            "margin": null,
            "max_height": null,
            "max_width": null,
            "min_height": null,
            "min_width": null,
            "object_fit": null,
            "object_position": null,
            "order": null,
            "overflow": null,
            "overflow_x": null,
            "overflow_y": null,
            "padding": null,
            "right": null,
            "top": null,
            "visibility": null,
            "width": null
          }
        },
        "50f7762d363a417698840a461e339ac9": {
          "model_module": "@jupyter-widgets/controls",
          "model_name": "DescriptionStyleModel",
          "model_module_version": "1.5.0",
          "state": {
            "_model_module": "@jupyter-widgets/controls",
            "_model_module_version": "1.5.0",
            "_model_name": "DescriptionStyleModel",
            "_view_count": null,
            "_view_module": "@jupyter-widgets/base",
            "_view_module_version": "1.2.0",
            "_view_name": "StyleView",
            "description_width": ""
          }
        },
        "10e844a743f8447590050d6b4ccf72e9": {
          "model_module": "@jupyter-widgets/controls",
          "model_name": "HBoxModel",
          "model_module_version": "1.5.0",
          "state": {
            "_dom_classes": [],
            "_model_module": "@jupyter-widgets/controls",
            "_model_module_version": "1.5.0",
            "_model_name": "HBoxModel",
            "_view_count": null,
            "_view_module": "@jupyter-widgets/controls",
            "_view_module_version": "1.5.0",
            "_view_name": "HBoxView",
            "box_style": "",
            "children": [
              "IPY_MODEL_a9db1a008fd042ee9edad25e850a813f",
              "IPY_MODEL_20067e2de08a44079f9857be578a2a2b",
              "IPY_MODEL_131d71ef80c840d6b0dfd0333173e723"
            ],
            "layout": "IPY_MODEL_857b9e23f3174380a94b3ce5a9589fab"
          }
        },
        "a9db1a008fd042ee9edad25e850a813f": {
          "model_module": "@jupyter-widgets/controls",
          "model_name": "HTMLModel",
          "model_module_version": "1.5.0",
          "state": {
            "_dom_classes": [],
            "_model_module": "@jupyter-widgets/controls",
            "_model_module_version": "1.5.0",
            "_model_name": "HTMLModel",
            "_view_count": null,
            "_view_module": "@jupyter-widgets/controls",
            "_view_module_version": "1.5.0",
            "_view_name": "HTMLView",
            "description": "",
            "description_tooltip": null,
            "layout": "IPY_MODEL_c56bd21fcf194913acab5b8afdfbf5cb",
            "placeholder": "​",
            "style": "IPY_MODEL_cfd10581447548d1b4fd75848b9a6b5f",
            "value": "100%"
          }
        },
        "20067e2de08a44079f9857be578a2a2b": {
          "model_module": "@jupyter-widgets/controls",
          "model_name": "FloatProgressModel",
          "model_module_version": "1.5.0",
          "state": {
            "_dom_classes": [],
            "_model_module": "@jupyter-widgets/controls",
            "_model_module_version": "1.5.0",
            "_model_name": "FloatProgressModel",
            "_view_count": null,
            "_view_module": "@jupyter-widgets/controls",
            "_view_module_version": "1.5.0",
            "_view_name": "ProgressView",
            "bar_style": "success",
            "description": "",
            "description_tooltip": null,
            "layout": "IPY_MODEL_526a08dee5c24fc0838a141a6d6ce774",
            "max": 20,
            "min": 0,
            "orientation": "horizontal",
            "style": "IPY_MODEL_fed89fe62d6b4bc6949c68a396b9e8c6",
            "value": 20
          }
        },
        "131d71ef80c840d6b0dfd0333173e723": {
          "model_module": "@jupyter-widgets/controls",
          "model_name": "HTMLModel",
          "model_module_version": "1.5.0",
          "state": {
            "_dom_classes": [],
            "_model_module": "@jupyter-widgets/controls",
            "_model_module_version": "1.5.0",
            "_model_name": "HTMLModel",
            "_view_count": null,
            "_view_module": "@jupyter-widgets/controls",
            "_view_module_version": "1.5.0",
            "_view_name": "HTMLView",
            "description": "",
            "description_tooltip": null,
            "layout": "IPY_MODEL_0d4809f72d434e6bb53e72514d8313da",
            "placeholder": "​",
            "style": "IPY_MODEL_3717a3641bc24ea98ceab89a23258fe6",
            "value": " 20/20 [00:00&lt;00:00, 21.53ba/s]"
          }
        },
        "857b9e23f3174380a94b3ce5a9589fab": {
          "model_module": "@jupyter-widgets/base",
          "model_name": "LayoutModel",
          "model_module_version": "1.2.0",
          "state": {
            "_model_module": "@jupyter-widgets/base",
            "_model_module_version": "1.2.0",
            "_model_name": "LayoutModel",
            "_view_count": null,
            "_view_module": "@jupyter-widgets/base",
            "_view_module_version": "1.2.0",
            "_view_name": "LayoutView",
            "align_content": null,
            "align_items": null,
            "align_self": null,
            "border": null,
            "bottom": null,
            "display": null,
            "flex": null,
            "flex_flow": null,
            "grid_area": null,
            "grid_auto_columns": null,
            "grid_auto_flow": null,
            "grid_auto_rows": null,
            "grid_column": null,
            "grid_gap": null,
            "grid_row": null,
            "grid_template_areas": null,
            "grid_template_columns": null,
            "grid_template_rows": null,
            "height": null,
            "justify_content": null,
            "justify_items": null,
            "left": null,
            "margin": null,
            "max_height": null,
            "max_width": null,
            "min_height": null,
            "min_width": null,
            "object_fit": null,
            "object_position": null,
            "order": null,
            "overflow": null,
            "overflow_x": null,
            "overflow_y": null,
            "padding": null,
            "right": null,
            "top": null,
            "visibility": null,
            "width": null
          }
        },
        "c56bd21fcf194913acab5b8afdfbf5cb": {
          "model_module": "@jupyter-widgets/base",
          "model_name": "LayoutModel",
          "model_module_version": "1.2.0",
          "state": {
            "_model_module": "@jupyter-widgets/base",
            "_model_module_version": "1.2.0",
            "_model_name": "LayoutModel",
            "_view_count": null,
            "_view_module": "@jupyter-widgets/base",
            "_view_module_version": "1.2.0",
            "_view_name": "LayoutView",
            "align_content": null,
            "align_items": null,
            "align_self": null,
            "border": null,
            "bottom": null,
            "display": null,
            "flex": null,
            "flex_flow": null,
            "grid_area": null,
            "grid_auto_columns": null,
            "grid_auto_flow": null,
            "grid_auto_rows": null,
            "grid_column": null,
            "grid_gap": null,
            "grid_row": null,
            "grid_template_areas": null,
            "grid_template_columns": null,
            "grid_template_rows": null,
            "height": null,
            "justify_content": null,
            "justify_items": null,
            "left": null,
            "margin": null,
            "max_height": null,
            "max_width": null,
            "min_height": null,
            "min_width": null,
            "object_fit": null,
            "object_position": null,
            "order": null,
            "overflow": null,
            "overflow_x": null,
            "overflow_y": null,
            "padding": null,
            "right": null,
            "top": null,
            "visibility": null,
            "width": null
          }
        },
        "cfd10581447548d1b4fd75848b9a6b5f": {
          "model_module": "@jupyter-widgets/controls",
          "model_name": "DescriptionStyleModel",
          "model_module_version": "1.5.0",
          "state": {
            "_model_module": "@jupyter-widgets/controls",
            "_model_module_version": "1.5.0",
            "_model_name": "DescriptionStyleModel",
            "_view_count": null,
            "_view_module": "@jupyter-widgets/base",
            "_view_module_version": "1.2.0",
            "_view_name": "StyleView",
            "description_width": ""
          }
        },
        "526a08dee5c24fc0838a141a6d6ce774": {
          "model_module": "@jupyter-widgets/base",
          "model_name": "LayoutModel",
          "model_module_version": "1.2.0",
          "state": {
            "_model_module": "@jupyter-widgets/base",
            "_model_module_version": "1.2.0",
            "_model_name": "LayoutModel",
            "_view_count": null,
            "_view_module": "@jupyter-widgets/base",
            "_view_module_version": "1.2.0",
            "_view_name": "LayoutView",
            "align_content": null,
            "align_items": null,
            "align_self": null,
            "border": null,
            "bottom": null,
            "display": null,
            "flex": null,
            "flex_flow": null,
            "grid_area": null,
            "grid_auto_columns": null,
            "grid_auto_flow": null,
            "grid_auto_rows": null,
            "grid_column": null,
            "grid_gap": null,
            "grid_row": null,
            "grid_template_areas": null,
            "grid_template_columns": null,
            "grid_template_rows": null,
            "height": null,
            "justify_content": null,
            "justify_items": null,
            "left": null,
            "margin": null,
            "max_height": null,
            "max_width": null,
            "min_height": null,
            "min_width": null,
            "object_fit": null,
            "object_position": null,
            "order": null,
            "overflow": null,
            "overflow_x": null,
            "overflow_y": null,
            "padding": null,
            "right": null,
            "top": null,
            "visibility": null,
            "width": null
          }
        },
        "fed89fe62d6b4bc6949c68a396b9e8c6": {
          "model_module": "@jupyter-widgets/controls",
          "model_name": "ProgressStyleModel",
          "model_module_version": "1.5.0",
          "state": {
            "_model_module": "@jupyter-widgets/controls",
            "_model_module_version": "1.5.0",
            "_model_name": "ProgressStyleModel",
            "_view_count": null,
            "_view_module": "@jupyter-widgets/base",
            "_view_module_version": "1.2.0",
            "_view_name": "StyleView",
            "bar_color": null,
            "description_width": ""
          }
        },
        "0d4809f72d434e6bb53e72514d8313da": {
          "model_module": "@jupyter-widgets/base",
          "model_name": "LayoutModel",
          "model_module_version": "1.2.0",
          "state": {
            "_model_module": "@jupyter-widgets/base",
            "_model_module_version": "1.2.0",
            "_model_name": "LayoutModel",
            "_view_count": null,
            "_view_module": "@jupyter-widgets/base",
            "_view_module_version": "1.2.0",
            "_view_name": "LayoutView",
            "align_content": null,
            "align_items": null,
            "align_self": null,
            "border": null,
            "bottom": null,
            "display": null,
            "flex": null,
            "flex_flow": null,
            "grid_area": null,
            "grid_auto_columns": null,
            "grid_auto_flow": null,
            "grid_auto_rows": null,
            "grid_column": null,
            "grid_gap": null,
            "grid_row": null,
            "grid_template_areas": null,
            "grid_template_columns": null,
            "grid_template_rows": null,
            "height": null,
            "justify_content": null,
            "justify_items": null,
            "left": null,
            "margin": null,
            "max_height": null,
            "max_width": null,
            "min_height": null,
            "min_width": null,
            "object_fit": null,
            "object_position": null,
            "order": null,
            "overflow": null,
            "overflow_x": null,
            "overflow_y": null,
            "padding": null,
            "right": null,
            "top": null,
            "visibility": null,
            "width": null
          }
        },
        "3717a3641bc24ea98ceab89a23258fe6": {
          "model_module": "@jupyter-widgets/controls",
          "model_name": "DescriptionStyleModel",
          "model_module_version": "1.5.0",
          "state": {
            "_model_module": "@jupyter-widgets/controls",
            "_model_module_version": "1.5.0",
            "_model_name": "DescriptionStyleModel",
            "_view_count": null,
            "_view_module": "@jupyter-widgets/base",
            "_view_module_version": "1.2.0",
            "_view_name": "StyleView",
            "description_width": ""
          }
        }
      }
    }
  },
  "nbformat": 4,
  "nbformat_minor": 5
}